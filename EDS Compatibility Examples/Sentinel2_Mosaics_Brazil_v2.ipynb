{
  "cells": [
    {
      "cell_type": "markdown",
      "id": "1e64f4d2-74eb-44d6-8802-f8b616c85f63",
      "metadata": {
        "id": "1e64f4d2-74eb-44d6-8802-f8b616c85f63"
      },
      "source": [
        "# Compare Sentinel-2 and Mosaics\n"
      ]
    },
    {
      "cell_type": "code",
      "execution_count": 17,
      "id": "5d44dae1-0432-4d32-a975-85e35262f801",
      "metadata": {
        "id": "5d44dae1-0432-4d32-a975-85e35262f801"
      },
      "outputs": [],
      "source": [
        "from datetime import timedelta\n",
        "from glob import glob\n",
        "import json\n",
        "import os\n",
        "import shutil\n",
        "from dotenv import load_dotenv\n",
        "import numpy as np\n",
        "import pandas as pd\n",
        "from pystac_client import Client\n",
        "from matplotlib import pyplot as plt\n",
        "import matplotlib.image as mpimg\n",
        "import geopandas as gpd\n",
        "import requests\n",
        "import seaborn as sns\n",
        "from matplotlib.dates import DateFormatter\n",
        "import matplotlib.dates as mdates\n",
        "from odc.stac import configure_rio, stac_load\n",
        "import xarray as xr\n",
        "from PIL import Image\n"
      ]
    },
    {
      "cell_type": "markdown",
      "id": "6f76f99c",
      "metadata": {
        "id": "6f76f99c"
      },
      "source": []
    },
    {
      "cell_type": "markdown",
      "id": "9618aa8f",
      "metadata": {},
      "source": [
        "### Set up environment variables and the token"
      ]
    },
    {
      "cell_type": "code",
      "execution_count": 18,
      "id": "mYq9C4hHCqGZ",
      "metadata": {
        "colab": {
          "base_uri": "https://localhost:8080/"
        },
        "id": "mYq9C4hHCqGZ",
        "outputId": "3be36ab1-d29a-4ecf-b2da-904d8bf0458e"
      },
      "outputs": [],
      "source": [
        "load_dotenv()  # take environment variables from .env.\n",
        "os.environ['AWS_PROFILE'] = 'prodRead'\n",
        "\n",
        "def get_new_token():\n",
        "    auth_server_url = os.getenv(\"EDS_AUTH_URL\")\n",
        "    client_id = os.getenv(\"EDS_CLIENT_ID\")\n",
        "    client_secret = os.getenv(\"EDS_SECRET\")\n",
        "    token_req_payload = {'grant_type': 'client_credentials'}\n",
        "\n",
        "    token_response = requests.post(\n",
        "        auth_server_url,\n",
        "        data=token_req_payload,\n",
        "        verify=False,\n",
        "        allow_redirects=False,\n",
        "        auth=(client_id, client_secret)\n",
        "    )\n",
        "    token_response.raise_for_status()\n",
        "\n",
        "    tokens = json.loads(token_response.text)\n",
        "    return tokens['access_token']\n",
        "\n",
        "token = get_new_token()"
      ]
    },
    {
      "cell_type": "markdown",
      "id": "CAOCpLn4C7JO",
      "metadata": {
        "id": "CAOCpLn4C7JO"
      },
      "source": [
        "### Set up pystac client"
      ]
    },
    {
      "cell_type": "code",
      "execution_count": 31,
      "id": "KzOH9ie4C6DJ",
      "metadata": {
        "colab": {
          "base_uri": "https://localhost:8080/"
        },
        "id": "KzOH9ie4C6DJ",
        "outputId": "00fbd326-7085-4f1b-b94b-cc5cc8d88ad0"
      },
      "outputs": [
        {
          "name": "stdout",
          "output_type": "stream",
          "text": [
            "https://api.eds.earthdaily.com/archive/v1/stac/v1\n"
          ]
        }
      ],
      "source": [
        "api_url = os.getenv(\"EDS_API_URL\")\n",
        "print(api_url)\n",
        "catalog = Client.open(api_url, headers={\n",
        "    \"Authorization\": f\"bearer {token}\",\n",
        "    \"X-Signed-Asset-Urls\": \"true\",\n",
        "    \"X-User-User-Type\": \"internal_user\",\n",
        "    \"X-User-External-Downloads-Enabled\": \"true\",\n",
        "})"
      ]
    },
    {
      "cell_type": "markdown",
      "id": "Vy1f67PgDWq4",
      "metadata": {
        "id": "Vy1f67PgDWq4"
      },
      "source": [
        "### Helper functions"
      ]
    },
    {
      "cell_type": "code",
      "execution_count": 20,
      "id": "oFemYCZiDZNM",
      "metadata": {
        "colab": {
          "base_uri": "https://localhost:8080/",
          "height": 73
        },
        "id": "oFemYCZiDZNM",
        "outputId": "6604aed4-e062-44b9-fcbf-93cbdbc1d22f"
      },
      "outputs": [
        {
          "name": "stdout",
          "output_type": "stream",
          "text": [
            "(-53.98643772948847, -29.557328688954595, -53.9826565563678, -29.550105447801776)\n"
          ]
        }
      ],
      "source": [
        "def get_bounds_polygon_dict() -> tuple:\n",
        "    #gdf = gpd.GeoDataFrame.from_features([polygon_dict])\n",
        "    gdf = gpd.read_file(\"brazil_aoi_test.geojson\")\n",
        "    polygon = gdf.geometry.iloc[0]\n",
        "    bounds = polygon.bounds\n",
        "    return bounds\n",
        "\n",
        "def filter_duplicates(items, time_tolerance=timedelta(minutes=5)):\n",
        "    # Filters items based on acquisition time with a given time tolerance. Useful for getting rid of duplicates\n",
        "    # from overlapping Sentinel-2 tiles\n",
        "    unique_items = []\n",
        "    seen_times = []\n",
        "\n",
        "    for item in items:\n",
        "        acquisition_time = item.datetime\n",
        "        is_duplicate = any([abs(acquisition_time - seen_time) < time_tolerance for seen_time in seen_times])\n",
        "\n",
        "        if not is_duplicate:\n",
        "            unique_items.append(item)\n",
        "            seen_times.append(acquisition_time)\n",
        "\n",
        "    return unique_items\n",
        "\n",
        "def plot_images(site_name, filtered_dataset, offset=0):\n",
        "    # Plot images for visualization. Useful for checking if the ROI is correct, whether there are clouds in the\n",
        "    # imagery, etc.\n",
        "\n",
        "    outputs_dir = f\"outputs_{site_name}/\"  # Location where the output files will be saved\n",
        "    try:\n",
        "        shutil.rmtree(outputs_dir)\n",
        "    except FileNotFoundError:\n",
        "        pass  # That's ok, nothing to cleaup\n",
        "    os.makedirs(outputs_dir)\n",
        "\n",
        "    # Loop through each time slice and generate RGB images\n",
        "    for i in range(len(filtered_dataset.time)):\n",
        "        ds = filtered_dataset.isel(time=i)\n",
        "        # Stack the RGB bands into a numpy array\n",
        "        rgb_numpy_array = np.stack([ds['red'].values, ds['green'].values, ds['blue'].values], axis=-1)\n",
        "\n",
        "        # Get the date of the current time slice\n",
        "        date = pd.to_datetime(ds.time.values).strftime(\"%Y-%m-%d-%s\")\n",
        "\n",
        "        # Apply offset to DN values\n",
        "        rgb_numpy_array -= offset\n",
        "\n",
        "        # Clip the values to avoid outliers\n",
        "        rgb_numpy_array = np.clip(rgb_numpy_array, 0, 2000)\n",
        "\n",
        "        # Normalize the pixel values between 0 and 1\n",
        "        rgb_numpy_array = rgb_numpy_array / 2000.0\n",
        "\n",
        "        # Convert the array to an image and save it\n",
        "        Image.fromarray((rgb_numpy_array * 255).astype(np.uint8)).save(outputs_dir + f\"{site_name}_{date}.png\")\n",
        "\n",
        "    # Get all the saved RGB images\n",
        "    rgb_images = sorted(glob(outputs_dir + \"*.png\"))\n",
        "    print(f\"Number of images generated: {len(rgb_images)}\")\n",
        "\n",
        "    # Determine grid layout for displaying images\n",
        "    n_cols, n_rows = 3, (len(rgb_images) + 2) // 3\n",
        "\n",
        "    # Plot the RGB images with filenames as titles\n",
        "    fig, axes = plt.subplots(n_rows, n_cols, figsize=(15, 5*n_rows))\n",
        "    for ax, png in zip(axes.flatten(), rgb_images):\n",
        "        ax.imshow(mpimg.imread(png))\n",
        "        ax.set_title(os.path.basename(png))\n",
        "        ax.axis('off')\n",
        "\n",
        "    # Hide any unused axes\n",
        "    for ax in axes.flatten()[len(rgb_images):]:\n",
        "        ax.axis('off')\n",
        "\n",
        "    plt.tight_layout()\n",
        "    plt.show()\n",
        "\n",
        "bbox = get_bounds_polygon_dict()\n",
        "print(bbox)"
      ]
    },
    {
      "cell_type": "markdown",
      "id": "339189f1-e762-4894-a4ac-614523dfb8c1",
      "metadata": {
        "id": "339189f1-e762-4894-a4ac-614523dfb8c1"
      },
      "source": [
        "### Define the config"
      ]
    },
    {
      "cell_type": "code",
      "execution_count": 21,
      "id": "0e342537-2213-4462-93d7-c4bc3684fefd",
      "metadata": {
        "colab": {
          "base_uri": "https://localhost:8080/"
        },
        "id": "0e342537-2213-4462-93d7-c4bc3684fefd",
        "outputId": "46dcf26f-ff1e-4930-c6a3-0249d997df94"
      },
      "outputs": [],
      "source": [
        "# define config\n",
        "COLLECTION = \"sentinel-2-l2a\" \n",
        "\n",
        "# Set a start and end date\n",
        "start_date = \"2021-01-01\"\n",
        "end_date = \"2021-12-31\"\n",
        "max_clouds = 50 # the maximum cloud cover percentage. Note this is over the WHOLE image, not just the ROI\n"
      ]
    },
    {
      "cell_type": "markdown",
      "id": "8493c1da-9611-4102-a534-b60e6ba5a7b4",
      "metadata": {
        "id": "8493c1da-9611-4102-a534-b60e6ba5a7b4"
      },
      "source": [
        "### Generate and load the Sentinel-2 datacube"
      ]
    },
    {
      "cell_type": "code",
      "execution_count": 22,
      "id": "cf5a9491-4f1c-4cf5-89b4-384c69c2a1e7",
      "metadata": {
        "colab": {
          "base_uri": "https://localhost:8080/"
        },
        "id": "cf5a9491-4f1c-4cf5-89b4-384c69c2a1e7",
        "outputId": "e61a22a5-20f0-42c8-cc5f-99bdac900308"
      },
      "outputs": [
        {
          "name": "stdout",
          "output_type": "stream",
          "text": [
            "Found: 237 total datasets\n",
            "Found: 90 unique datasets\n"
          ]
        }
      ],
      "source": [
        "query = catalog.search(\n",
        "    collections=[COLLECTION],\n",
        "    datetime=f\"{start_date}/{end_date}\",\n",
        "    bbox=bbox,\n",
        "    query={\"eo:cloud_cover\":{\"lt\":max_clouds}} \n",
        ")\n",
        "\n",
        "items = list(query.items())\n",
        "required_assets = [\"red\", \"green\", \"blue\", \"nir08\"]\n",
        "valid_items = []\n",
        "for item in items:\n",
        "    all_assets_valid = True\n",
        "    for band in required_assets:\n",
        "        asset = item.assets.get(band)\n",
        "        if not asset:\n",
        "            print(f\"Asset for band '{band}' not found, skipping item.\")\n",
        "            all_assets_valid = False\n",
        "            break\n",
        "\n",
        "        asset.href = asset.extra_fields.get('alternate', {}).get('download', {}).get('href', asset.href)\n",
        "\n",
        "        response = requests.get(asset.href, stream=True)\n",
        "        if response.status_code != 200:\n",
        "            all_assets_valid = False\n",
        "            break\n",
        "\n",
        "    if all_assets_valid:\n",
        "        valid_items.append(item)\n",
        "\n",
        "print(f\"Found: {len(valid_items):d} total datasets\")\n",
        "\n",
        "filtered_items = filter_duplicates(valid_items)\n",
        "\n",
        "print(f\"Found: {len(filtered_items):d} unique datasets\")\n",
        "\n",
        "final_dataset = stac_load(\n",
        "    filtered_items,\n",
        "    bands=(\"red\", \"green\", \"blue\",\"nir08\"),\n",
        "    crs=\"epsg:3857\", # since resolution is in metres, we need to use a projected CRS\n",
        "    resolution=5, # the resolution of the output image in metres\n",
        "    chunks={'x': 2048, 'y': 2048},\n",
        "    # chunks={},  # Uncomment if using dask cluster\n",
        "    groupby=\"id\",\n",
        "    bbox=bbox,\n",
        ")\n",
        "\n",
        "print(final_dataset)\n",
        "final_dataset.attrs['sensor'] = \"Sentinel2\"\n"
      ]
    },
    {
      "cell_type": "markdown",
      "id": "JYqBtpXuEXyD",
      "metadata": {
        "id": "JYqBtpXuEXyD"
      },
      "source": [
        "### Get the ndvi"
      ]
    },
    {
      "cell_type": "code",
      "execution_count": 24,
      "id": "FwLzqOq6EaUn",
      "metadata": {
        "colab": {
          "base_uri": "https://localhost:8080/"
        },
        "id": "FwLzqOq6EaUn",
        "outputId": "0d051eb6-c5aa-464a-e934-03b8baa8fdb4"
      },
      "outputs": [
        {
          "name": "stdout",
          "output_type": "stream",
          "text": [
            "<xarray.Dataset> Size: 3kB\n",
            "Dimensions:      (time: 59)\n",
            "Coordinates:\n",
            "    spatial_ref  int32 4B 3857\n",
            "  * time         (time) datetime64[ns] 472B 2021-12-31T13:50:33.410000 ... 20...\n",
            "Data variables:\n",
            "    red          (time) float64 472B 659.3 660.7 774.0 ... 610.6 404.1 404.8\n",
            "    green        (time) float64 472B 655.7 659.6 749.2 ... 788.7 575.8 579.3\n",
            "    blue         (time) float64 472B 439.1 447.0 496.5 ... 538.9 234.6 230.9\n",
            "    nir08        (time) float64 472B 2.942e+03 2.942e+03 ... 3.323e+03 3.354e+03\n",
            "    ndvi         (time) float64 472B 0.6339 0.6332 0.6179 ... 0.7831 0.7846\n",
            "Attributes:\n",
            "    sensor:   Sentinel2\n"
          ]
        }
      ],
      "source": [
        "# NDVI plot\n",
        "\n",
        "meanval = final_dataset.mean(('x','y')) #.ed.add_indices(['NDVI'])['NDVI'].plot(ls='-',marker='o', label='Sentinel-2')\n",
        "meanval.attrs['sensor'] = \"Sentinel2\"\n",
        "\n",
        "ndvixy = (meanval[\"nir08\"] - meanval[\"red\"]) / (meanval[\"nir08\"] + meanval[\"red\"])\n",
        "meanval[\"ndvi\"] = ndvixy\n",
        "\n",
        "meanval = meanval.load()\n",
        "\n",
        "print(meanval)\n",
        "\n",
        "plot_images('Sentinel2', final_dataset)"
      ]
    },
    {
      "cell_type": "markdown",
      "id": "214c512c-2e8e-433b-87a7-a96e8b976500",
      "metadata": {
        "id": "214c512c-2e8e-433b-87a7-a96e8b976500"
      },
      "source": [
        "## Generate and load the Mosaics datacube"
      ]
    },
    {
      "cell_type": "code",
      "execution_count": 25,
      "id": "632b9222-c39d-4da2-ae07-1505b172d77f",
      "metadata": {
        "colab": {
          "base_uri": "https://localhost:8080/"
        },
        "id": "632b9222-c39d-4da2-ae07-1505b172d77f",
        "outputId": "f83b65a1-0f2e-40c7-fde6-1473f9b07550"
      },
      "outputs": [
        {
          "name": "stdout",
          "output_type": "stream",
          "text": [
            "Collection - ai-ready-mosaics from 2021-01-01 to 2021-12-31\n",
            "Found: 11 datasets\n",
            "<xarray.Dataset> Size: 3MB\n",
            "Dimensions:      (y: 185, x: 85, time: 11)\n",
            "Coordinates:\n",
            "  * y            (y) float64 1kB -3.446e+06 -3.446e+06 ... -3.447e+06 -3.447e+06\n",
            "  * x            (x) float64 680B -6.01e+06 -6.01e+06 ... -6.009e+06 -6.009e+06\n",
            "    spatial_ref  int32 4B 3857\n",
            "  * time         (time) datetime64[ns] 88B 2021-11-08T13:40:39.013000 ... 202...\n",
            "Data variables:\n",
            "    red          (time, y, x) float32 692kB dask.array<chunksize=(1, 185, 85), meta=np.ndarray>\n",
            "    green        (time, y, x) float32 692kB dask.array<chunksize=(1, 185, 85), meta=np.ndarray>\n",
            "    blue         (time, y, x) float32 692kB dask.array<chunksize=(1, 185, 85), meta=np.ndarray>\n",
            "    nir08        (time, y, x) float32 692kB dask.array<chunksize=(1, 185, 85), meta=np.ndarray>\n"
          ]
        }
      ],
      "source": [
        "# Set a start and end date\n",
        "start_date = \"2021-01-01\"\n",
        "end_date = \"2021-12-31\"\n",
        "\n",
        "# Mosaic dataset\n",
        "COLLECTION = \"ai-ready-mosaics\"\n",
        "\n",
        "query1 = catalog.search(\n",
        "    collections=[COLLECTION],\n",
        "    datetime=f\"{start_date}/{end_date}\",\n",
        "    bbox=bbox,\n",
        ")\n",
        "\n",
        "mitems = list(query1.items())\n",
        "required_assets = [\"red\", \"green\", \"blue\", \"nir08\"]\n",
        "\n",
        "print(f\"Collection - {COLLECTION} from {start_date} to {end_date}\" )\n",
        "print(f\"Found: {len(mitems):d} datasets\")\n",
        "\n",
        "datasetv = stac_load(\n",
        "    mitems,\n",
        "    bands=(\"red\", \"green\", \"blue\",\"nir08\"),\n",
        "    crs=\"epsg:3857\", # since resolution is in metres, we need to use a projected CRS\n",
        "    resolution=5, # the resolution of the output image in metres\n",
        "    chunks={'x': 2048, 'y': 2048},\n",
        "    # chunks={},  # Uncomment if using dask cluster\n",
        "    groupby=\"id\",\n",
        "    bbox=bbox,\n",
        ")\n",
        "\n",
        "print(datasetv)\n"
      ]
    },
    {
      "cell_type": "markdown",
      "id": "swXJo543EpII",
      "metadata": {
        "id": "swXJo543EpII"
      },
      "source": [
        "### Get the Mosaics ndvi"
      ]
    },
    {
      "cell_type": "code",
      "execution_count": 26,
      "id": "5ou39CXJEtZf",
      "metadata": {
        "colab": {
          "base_uri": "https://localhost:8080/",
          "height": 654
        },
        "id": "5ou39CXJEtZf",
        "outputId": "b4ad9148-6bf6-4dcb-bd97-fcf0a3392e99"
      },
      "outputs": [
        {
          "name": "stdout",
          "output_type": "stream",
          "text": [
            "<xarray.Dataset> Size: 312B\n",
            "Dimensions:      (time: 11)\n",
            "Coordinates:\n",
            "    spatial_ref  int32 4B 3857\n",
            "  * time         (time) datetime64[ns] 88B 2021-11-08T13:40:39.013000 ... 202...\n",
            "Data variables:\n",
            "    red          (time) float32 44B 1.866e+03 1.918e+03 ... 1.391e+03 1.426e+03\n",
            "    green        (time) float32 44B 1.779e+03 1.785e+03 ... 1.54e+03 1.553e+03\n",
            "    blue         (time) float32 44B 1.476e+03 1.473e+03 ... 1.226e+03 1.278e+03\n",
            "    nir08        (time) float32 44B 4.062e+03 3.96e+03 ... 4.69e+03 4.653e+03\n",
            "    ndvi         (time) float32 44B 0.3704 0.3473 0.3655 ... 0.5425 0.5308\n",
            "Attributes:\n",
            "    sensor:   Mosaics\n"
          ]
        }
      ],
      "source": [
        "datasetv.attrs['sensor'] = \"Mosaics\"\n",
        "\n",
        "# NDVI plot\n",
        "meanvalV = datasetv.mean(('x','y')) #.ed.add_indices(['NDVI'])['NDVI'].plot(ls='-',marker='o', label='Sentinel-2')\n",
        "meanvalV.attrs['sensor'] = \"Mosaics\"\n",
        "\n",
        "ndvixyV = (meanvalV[\"nir08\"] - meanvalV[\"red\"]) / (meanvalV[\"nir08\"] + meanvalV[\"red\"])\n",
        "meanvalV[\"ndvi\"] = ndvixyV\n",
        "\n",
        "meanvalV = meanvalV.load()\n",
        "print (meanvalV)"
      ]
    },
    {
      "cell_type": "markdown",
      "id": "2e12178c-6cd4-492d-ba21-7b9469bf5dac",
      "metadata": {
        "id": "2e12178c-6cd4-492d-ba21-7b9469bf5dac"
      },
      "source": [
        "# Results (plots)"
      ]
    },
    {
      "cell_type": "markdown",
      "id": "8f27ad40-58c2-408e-a526-cecd2f497860",
      "metadata": {
        "id": "8f27ad40-58c2-408e-a526-cecd2f497860"
      },
      "source": [
        "## Plot and Compare the NDVI"
      ]
    },
    {
      "cell_type": "code",
      "execution_count": 29,
      "id": "d5a7d580-ee5e-4c7d-9dbe-b13393b8d7ee",
      "metadata": {
        "id": "d5a7d580-ee5e-4c7d-9dbe-b13393b8d7ee"
      },
      "outputs": [
        {
          "data": {
            "image/png": "[encoded data removed]",
            "text/plain": [
              "<Figure size 640x480 with 1 Axes>"
            ]
          },
          "metadata": {},
          "output_type": "display_data"
        }
      ],
      "source": [
        "plt.title('NDVI between Sentinel and Mosaics')\n",
        "\n",
        "meanval[\"ndvi\"].plot()\n",
        "meanvalV[\"ndvi\"].plot()\n",
        "\n",
        "plt.legend(['Sentinel', 'Mosaics'])\n",
        "plt.suptitle(\"NDVI between Sentinel-2 and Mosaics\")\n",
        "    \n",
        "plt.show()\n"
      ]
    }
  ],
  "metadata": {
    "colab": {
      "provenance": []
    },
    "kernelspec": {
      "display_name": "Python 3 (ipykernel)",
      "language": "python",
      "name": "python3"
    },
    "language_info": {
      "codemirror_mode": {
        "name": "ipython",
        "version": 3
      },
      "file_extension": ".py",
      "mimetype": "text/x-python",
      "name": "python",
      "nbconvert_exporter": "python",
      "pygments_lexer": "ipython3",
      "version": "3.10.10"
    }
  },
  "nbformat": 4,
  "nbformat_minor": 5
}
