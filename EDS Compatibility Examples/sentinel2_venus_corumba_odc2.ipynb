{
 "cells": [
  {
   "cell_type": "markdown",
   "id": "1e64f4d2-74eb-44d6-8802-f8b616c85f63",
   "metadata": {},
   "source": [
    "# Compare Sentinel-2 and Venus\n"
   ]
  },
  {
   "cell_type": "markdown",
   "id": "02e9fd09",
   "metadata": {},
   "source": [
    " This notebook demonstrates querying the STAC API for a Venus and Sentinel-2 chip using an ROI, calculate the NDVI and plot it as a comparison"
   ]
  },
  {
   "cell_type": "markdown",
   "id": "c86548f5",
   "metadata": {},
   "source": [
    "## Import and Init Environment"
   ]
  },
  {
   "cell_type": "code",
   "execution_count": 16,
   "id": "43ed3821-f9fa-43f5-9528-472e7a5e738d",
   "metadata": {},
   "outputs": [],
   "source": [
    "# Import\n",
    "\n",
    "from glob import glob\n",
    "import json\n",
    "import os\n",
    "from dotenv import load_dotenv\n",
    "import pandas as pd\n",
    "from pystac_client import Client\n",
    "from matplotlib import pyplot as plt\n",
    "import geopandas as gpd\n",
    "import requests\n",
    "import seaborn as sns\n",
    "from matplotlib.dates import DateFormatter\n",
    "import matplotlib.dates as mdates \n",
    "from odc.stac import configure_rio, stac_load"
   ]
  },
  {
   "cell_type": "markdown",
   "id": "319f4b96",
   "metadata": {},
   "source": [
    "Authenticate with the STAC API, if you get an error check your credentials in `.env`"
   ]
  },
  {
   "cell_type": "code",
   "execution_count": 2,
   "id": "55344481-06d4-4007-a79b-f034ca0e6bf3",
   "metadata": {},
   "outputs": [
    {
     "name": "stderr",
     "output_type": "stream",
     "text": [
      "/Users/neelam.gangwani/Prod Documentation/bids2023-hackathon/bids2023/lib/python3.10/site-packages/urllib3/connectionpool.py:1099: InsecureRequestWarning: Unverified HTTPS request is being made to host 'core-earthdaily.auth.us-east-1.amazoncognito.com'. Adding certificate verification is strongly advised. See: https://urllib3.readthedocs.io/en/latest/advanced-usage.html#tls-warnings\n",
      "  warnings.warn(\n"
     ]
    }
   ],
   "source": [
    "os.environ['AWS_NO_SIGN_REQUEST'] = 'YES'\n",
    "load_dotenv()  # take environment variables from .env.\n",
    "\n",
    "def get_new_token():\n",
    "    auth_server_url = os.getenv(\"EDS_AUTH_URL\")\n",
    "    client_id = os.getenv(\"EDS_CLIENT_ID\")\n",
    "    client_secret = os.getenv(\"EDS_SECRET\")\n",
    "    token_req_payload = {'grant_type': 'client_credentials'}\n",
    "\n",
    "    token_response = requests.post(\n",
    "        auth_server_url,\n",
    "        data=token_req_payload,\n",
    "        verify=False,\n",
    "        allow_redirects=False,\n",
    "        auth=(client_id, client_secret)\n",
    "    )\n",
    "    token_response.raise_for_status()\n",
    "\n",
    "    tokens = json.loads(token_response.text)\n",
    "    return tokens['access_token']\n",
    "\n",
    "token = get_new_token()\n",
    "\n",
    "catalog = Client.open(os.getenv(\"EDS_API_URL\"), headers={\n",
    "    \"Authorization\": f\"bearer {token}\"\n",
    "})"
   ]
  },
  {
   "cell_type": "code",
   "execution_count": null,
   "id": "a30cc1c9-c46c-41cd-b42f-d99a15bde9ec",
   "metadata": {},
   "outputs": [],
   "source": [
    "## Set the mission and the collection"
   ]
  },
  {
   "cell_type": "code",
   "execution_count": 3,
   "id": "d0f9aae0-cd06-41ae-9058-6eafee90f424",
   "metadata": {},
   "outputs": [],
   "source": [
    "SATELLITE = \"S2\" # \"S2\" or \"VENUS\"\n",
    "COLLECTION = \"sentinel-2-l2a\""
   ]
  },
  {
   "cell_type": "code",
   "execution_count": 4,
   "id": "55fa649a-3ca4-425d-bd34-ecb6ed464335",
   "metadata": {},
   "outputs": [],
   "source": [
    "## Bounding Box"
   ]
  },
  {
   "cell_type": "code",
   "execution_count": 7,
   "id": "adbd9676-99f7-4a84-9c0e-213f87f55c77",
   "metadata": {},
   "outputs": [
    {
     "name": "stdout",
     "output_type": "stream",
     "text": [
      "(-48.5167190900641, -16.347105333917597, -48.51128016227716, -16.341886209315362)\n"
     ]
    }
   ],
   "source": [
    "def get_bounds_polygon_dict() -> tuple:\n",
    "    #gdf = gpd.GeoDataFrame.from_features([polygon_dict])\n",
    "    # gdf = gpd.read_file(\"./stac-notebooks/pivot_corumba.geojson\")\n",
    "    gdf = gpd.read_file(\"pivot_corumba.geojson\")\n",
    "    polygon = gdf.geometry.iloc[0]\n",
    "    bounds = polygon.bounds\n",
    "    return bounds\n",
    "\n",
    "bbox = get_bounds_polygon_dict()\n",
    "print(bbox)"
   ]
  },
  {
   "cell_type": "markdown",
   "id": "339189f1-e762-4894-a4ac-614523dfb8c1",
   "metadata": {},
   "source": [
    "## Define the config"
   ]
  },
  {
   "cell_type": "code",
   "execution_count": 8,
   "id": "0e342537-2213-4462-93d7-c4bc3684fefd",
   "metadata": {},
   "outputs": [],
   "source": [
    "start_date = \"2019-11-01\"\n",
    "end_date = \"2020-05-01\"\n",
    "max_clouds = 30 # the maximum cloud cover percentage. Note this is over the WHOLE image, not just the ROI"
   ]
  },
  {
   "cell_type": "code",
   "execution_count": null,
   "id": "62d53232-781f-42f1-b202-5a1538bcab5e",
   "metadata": {},
   "outputs": [],
   "source": [
    "## Query the collection items"
   ]
  },
  {
   "cell_type": "code",
   "execution_count": 12,
   "id": "5d2f80ab-28d9-4cd4-a9b9-0790bfaa1685",
   "metadata": {},
   "outputs": [
    {
     "name": "stdout",
     "output_type": "stream",
     "text": [
      "Found: 28 datasets\n"
     ]
    }
   ],
   "source": [
    "query = catalog.search(\n",
    "    collections=[COLLECTION], \n",
    "    datetime=f\"{start_date}/{end_date}\",\n",
    "    bbox=bbox,\n",
    "    query={\"eda:ag_cloud_mask_available\":{\"eq\":True}, \"eo:cloud_cover\":{\"lt\":max_clouds}},\n",
    ")\n",
    "\n",
    "items = list(query.get_items())\n",
    "print(f\"Found: {len(items):d} datasets\")\n"
   ]
  },
  {
   "cell_type": "markdown",
   "id": "8493c1da-9611-4102-a534-b60e6ba5a7b4",
   "metadata": {},
   "source": [
    "## Generate and load the Sentinel-2 datacube and calculate NDVI"
   ]
  },
  {
   "cell_type": "code",
   "execution_count": 13,
   "id": "cf5a9491-4f1c-4cf5-89b4-384c69c2a1e7",
   "metadata": {},
   "outputs": [
    {
     "name": "stdout",
     "output_type": "stream",
     "text": [
      "<xarray.Dataset> Size: 3MB\n",
      "Dimensions:      (y: 122, x: 122, time: 28)\n",
      "Coordinates:\n",
      "  * y            (y) float64 976B -1.844e+06 -1.844e+06 ... -1.845e+06\n",
      "  * x            (x) float64 976B -5.401e+06 -5.401e+06 ... -5.4e+06 -5.4e+06\n",
      "    spatial_ref  int32 4B 3857\n",
      "  * time         (time) datetime64[ns] 224B 2020-04-27T13:36:54.039000 ... 20...\n",
      "Data variables:\n",
      "    red          (time, y, x) uint16 834kB 132 132 139 139 ... 1926 1970 1970\n",
      "    green        (time, y, x) uint16 834kB 313 313 301 301 ... 1632 1576 1576\n",
      "    blue         (time, y, x) uint16 834kB 111 111 125 125 ... 1406 1316 1316\n",
      "    nir          (time, y, x) uint16 834kB 3120 3120 3132 ... 2988 2934 2934\n",
      "<xarray.Dataset> Size: 1kB\n",
      "Dimensions:      (time: 28)\n",
      "Coordinates:\n",
      "    spatial_ref  int32 4B 3857\n",
      "  * time         (time) datetime64[ns] 224B 2020-04-27T13:36:54.039000 ... 20...\n",
      "Data variables:\n",
      "    red          (time) float64 224B 1.718e+03 1.75e+03 ... 1.796e+03 1.797e+03\n",
      "    green        (time) float64 224B 1.288e+03 1.299e+03 ... 1.641e+03 1.641e+03\n",
      "    blue         (time) float64 224B 870.9 895.8 876.8 ... 1.338e+03 1.337e+03\n",
      "    nir          (time) float64 224B 2.821e+03 2.883e+03 ... 3.153e+03 3.155e+03\n",
      "    ndvi         (time) float64 224B 0.2429 0.2445 0.242 ... 0.5097 0.274 0.2742\n",
      "Attributes:\n",
      "    sensor:   Sentinel-2-l2a\n"
     ]
    }
   ],
   "source": [
    "# Sentinel-2 datacube\n",
    "dataset = stac_load(\n",
    "    items,\n",
    "    bands=(\"red\", \"green\", \"blue\",\"nir\"),\n",
    "    crs=\"epsg:3857\", # since resolution is in metres, we need to use a projected CRS\n",
    "    resolution=5, # the resolution of the output image in metres\n",
    "    # chunks={},  # Uncomment if using dask cluster\n",
    "    groupby=\"id\",\n",
    "    bbox=bbox,\n",
    ")\n",
    "\n",
    "print(dataset)\n",
    "dataset.attrs['sensor'] = \"Sentinel-2-l2a\"\n",
    "\n",
    "# NDVI plot\n",
    "\n",
    "meanval = dataset.mean(('x','y')) #.ed.add_indices(['NDVI'])['NDVI'].plot(ls='-',marker='o', label='Sentinel-2')\n",
    "meanval.attrs['sensor'] = \"Sentinel-2-l2a\"\n",
    "\n",
    "ndvixy = (meanval[\"nir\"] - meanval[\"red\"]) / (meanval[\"nir\"] + meanval[\"red\"])\n",
    "meanval[\"ndvi\"] = ndvixy\n",
    "\n",
    "#dataset = dataset.load()\n",
    "meanval = meanval.load()\n",
    "\n",
    "print(meanval)\n"
   ]
  },
  {
   "cell_type": "markdown",
   "id": "214c512c-2e8e-433b-87a7-a96e8b976500",
   "metadata": {},
   "source": [
    "## Generate and load the Venus datacube"
   ]
  },
  {
   "cell_type": "code",
   "execution_count": 14,
   "id": "632b9222-c39d-4da2-ae07-1505b172d77f",
   "metadata": {},
   "outputs": [
    {
     "name": "stderr",
     "output_type": "stream",
     "text": [
      "/Users/neelam.gangwani/Prod Documentation/bids2023-hackathon/bids2023/lib/python3.10/site-packages/pystac_client/item_search.py:836: FutureWarning: get_items() is deprecated, use items() instead\n",
      "  warnings.warn(\n"
     ]
    },
    {
     "name": "stdout",
     "output_type": "stream",
     "text": [
      "Found: 15 datasets\n",
      "<xarray.Dataset> Size: 3MB\n",
      "Dimensions:              (y: 122, x: 122, time: 15)\n",
      "Coordinates:\n",
      "  * y                    (y) float64 976B -1.844e+06 -1.844e+06 ... -1.845e+06\n",
      "  * x                    (x) float64 976B -5.401e+06 -5.401e+06 ... -5.4e+06\n",
      "    spatial_ref          int32 4B 3857\n",
      "  * time                 (time) datetime64[ns] 120B 2020-05-01T13:41:18 ... 2...\n",
      "Data variables:\n",
      "    red                  (time, y, x) uint16 447kB 1200 1210 1210 ... 2620 2650\n",
      "    green                (time, y, x) uint16 447kB 1350 1360 1360 ... 2240 2230\n",
      "    blue                 (time, y, x) uint16 447kB 1160 1160 1170 ... 1990 1970\n",
      "    nir08                (time, y, x) uint16 447kB 4220 4310 4300 ... 3520 3530\n",
      "    detailed_cloud_mask  (time, y, x) float32 893kB 0.0 0.0 0.0 ... 0.0 0.0 0.0\n",
      "<xarray.Dataset> Size: 784B\n",
      "Dimensions:              (time: 15)\n",
      "Coordinates:\n",
      "    spatial_ref          int32 4B 3857\n",
      "  * time                 (time) datetime64[ns] 120B 2020-05-01T13:41:18 ... 2...\n",
      "Data variables:\n",
      "    red                  (time) float64 120B 2.59e+03 2.666e+03 ... 2.625e+03\n",
      "    green                (time) float64 120B 2.12e+03 2.195e+03 ... 2.216e+03\n",
      "    blue                 (time) float64 120B 1.727e+03 1.79e+03 ... 1.813e+03\n",
      "    nir08                (time) float64 120B 3.86e+03 3.958e+03 ... 3.983e+03\n",
      "    detailed_cloud_mask  (time) float32 60B 0.0 0.0 0.0 0.0 ... 177.8 0.0 0.0\n",
      "    ndvi                 (time) float64 120B 0.1969 0.195 ... 0.3825 0.2055\n",
      "Attributes:\n",
      "    sensor:   Venus-l2a\n"
     ]
    }
   ],
   "source": [
    "COLLECTION = \"venus-l2a\"\n",
    "#    BANDS = (\"red\", \"green\", \"blue\", ) # \"nir08\", \"rededge\", \"yellow\", \"coastal\"\n",
    "\n",
    "query = catalog.search(\n",
    "    collections=[COLLECTION], \n",
    "    datetime=f\"{start_date}/{end_date}\",\n",
    "    bbox=bbox,\n",
    "    query={\"eo:cloud_cover\":{\"lt\":max_clouds}},\n",
    ")\n",
    "\n",
    "items = list(query.get_items())\n",
    "print(f\"Found: {len(items):d} datasets\")\n",
    "\n",
    "datasetv = stac_load(\n",
    "    items,\n",
    "    bands=(\"red\", \"green\", \"blue\",\"nir08\", \"detailed_cloud_mask\"),\n",
    "    crs=\"epsg:3857\", # since resolution is in metres, we need to use a projected CRS\n",
    "    resolution=5, # the resolution of the output image in metres\n",
    "    # chunks={},  # Uncomment if using dask cluster\n",
    "    # geobox=dataset.odc.geobox,\n",
    "    groupby=\"id\",\n",
    "    bbox=bbox,\n",
    ")\n",
    "\n",
    "print(datasetv)\n",
    "datasetv.attrs['sensor'] = \"Venus-l2a\"\n",
    "\n",
    "# NDVI plot\n",
    "meanvalV = datasetv.mean(('x','y')) #.ed.add_indices(['NDVI'])['NDVI'].plot(ls='-',marker='o', label='Sentinel-2')\n",
    "meanvalV.attrs['sensor'] = \"Venus-l2a\"\n",
    "\n",
    "ndvixyV = (meanvalV[\"nir08\"] - meanvalV[\"red\"]) / (meanvalV[\"nir08\"] + meanvalV[\"red\"])\n",
    "meanvalV[\"ndvi\"] = ndvixyV\n",
    "\n",
    "#dataset = dataset.load()\n",
    "meanvalV = meanvalV.load()\n",
    "print (meanvalV)\n"
   ]
  },
  {
   "cell_type": "markdown",
   "id": "2e12178c-6cd4-492d-ba21-7b9469bf5dac",
   "metadata": {},
   "source": [
    "# Results (plots)"
   ]
  },
  {
   "cell_type": "markdown",
   "id": "8f27ad40-58c2-408e-a526-cecd2f497860",
   "metadata": {},
   "source": [
    "## Plot and Compare the NDVI"
   ]
  },
  {
   "cell_type": "code",
   "execution_count": 15,
   "id": "d5a7d580-ee5e-4c7d-9dbe-b13393b8d7ee",
   "metadata": {},
   "outputs": [
    {
     "data": {
      "image/png": "[encoded data removed]",
      "text/plain": [
       "<Figure size 640x480 with 1 Axes>"
      ]
     },
     "metadata": {},
     "output_type": "display_data"
    }
   ],
   "source": [
    "\n",
    "plt.title('NDVI between Sentinel-2 and Venus')\n",
    "\n",
    "#for sensor in [meanval, meanvalV]:\n",
    "meanval[\"ndvi\"].plot()\n",
    "plt.legend(\"STentinel 2\")\n",
    "#plt.suptitle(\"Sentinel 2\")\n",
    "\n",
    "meanvalV[\"ndvi\"].plot()\n",
    "#plt.legend(\"Venus\")\n",
    "#plt.suptitle(\"Venus\")\n",
    "    \n",
    "plt.show()"
   ]
  }
 ],
 "metadata": {
  "kernelspec": {
   "display_name": "Python 3 (ipykernel)",
   "language": "python",
   "name": "python3"
  },
  "language_info": {
   "codemirror_mode": {
    "name": "ipython",
    "version": 3
   },
   "file_extension": ".py",
   "mimetype": "text/x-python",
   "name": "python",
   "nbconvert_exporter": "python",
   "pygments_lexer": "ipython3",
   "version": "3.10.10"
  }
 },
 "nbformat": 4,
 "nbformat_minor": 5
}
