{
 "cells": [
  {
   "cell_type": "markdown",
   "id": "b7cad326-ccf1-45d1-bc0c-1b09b2ad2a42",
   "metadata": {
    "id": "b7cad326-ccf1-45d1-bc0c-1b09b2ad2a42",
    "papermill": {},
    "tags": []
   },
   "source": [
    "## <img width=\"20%\" alt=\"Azure Machine Learning.jpg\" src=\"https://raw.githubusercontent.com/earthdaily/Images/main/Corporate/EarthDaily.png\" style=\"border-radius: 15%\">"
   ]
  },
  {
   "cell_type": "markdown",
   "id": "180e9541-2f56-4f0f-8f5f-03d46f19e1c8",
   "metadata": {
    "id": "180e9541-2f56-4f0f-8f5f-03d46f19e1c8",
    "papermill": {},
    "tags": []
   },
   "source": [
    "# EDS Machine Learning - Notebook title\n",
    "<a href=\"https://earthdaily.com/contact/\">Give Feedback</a> | <a href=\"https://github.com/earthdaily\">Bug report</a>"
   ]
  },
  {
   "cell_type": "markdown",
   "id": "1d51d4d3-ef80-4aa2-a49b-9e8219f8b448",
   "metadata": {
    "id": "1d51d4d3-ef80-4aa2-a49b-9e8219f8b448",
    "papermill": {},
    "tags": []
   },
   "source": [
    "**Tags:** #EDS #machinelearning #univariate #timeseries #inference #ml"
   ]
  },
  {
   "cell_type": "markdown",
   "id": "dc491c61-fe50-41de-86ba-c2184cf66576",
   "metadata": {
    "id": "dc491c61-fe50-41de-86ba-c2184cf66576",
    "papermill": {},
    "tags": []
   },
   "source": [
    "**Author:** [Earthdaily Agro](mailto:sales@earthdailyagro.com)"
   ]
  },
  {
   "cell_type": "markdown",
   "id": "494a30c7-4c29-478a-8029-003d0a555f09",
   "metadata": {
    "papermill": {},
    "tags": []
   },
   "source": [
    "**Last update:** 2023-07-31 (Created: 2023-07-20)"
   ]
  },
  {
   "cell_type": "markdown",
   "id": "201c1c2f-e99f-4377-b761-7ca5b04b083a",
   "metadata": {
    "id": "201c1c2f-e99f-4377-b761-7ca5b04b083a",
    "papermill": {},
    "tags": []
   },
   "source": [
    "**Description:** Please add a high level description of this notebook. "
   ]
  },
  {
   "cell_type": "markdown",
   "id": "4ed1aea6-d58b-4b36-bfe0-aae720668926",
   "metadata": {
    "id": "4ed1aea6-d58b-4b36-bfe0-aae720668926",
    "papermill": {},
    "tags": []
   },
   "source": [
    "**References:**\n",
    "- [Earthdaily package](https://github.com/earthdaily/earthdaily-python-client) for examples\n",
    "- Add reference to public scientific paper that would help legitimize the work and results below\n",
    "- ..."
   ]
  },
  {
   "cell_type": "markdown",
   "id": "0a00fcc5-b63e-4e1e-81de-f0a98ed07bdc",
   "metadata": {
    "id": "0a00fcc5-b63e-4e1e-81de-f0a98ed07bdc",
    "papermill": {},
    "tags": []
   },
   "source": [
    "## 1️⃣ Input"
   ]
  },
  {
   "cell_type": "markdown",
   "id": "8523405b-da48-4c13-b9a2-9bc0ed22315c",
   "metadata": {
    "id": "8523405b-da48-4c13-b9a2-9bc0ed22315c",
    "papermill": {},
    "tags": []
   },
   "source": [
    "### Import dependencies"
   ]
  },
  {
   "cell_type": "code",
   "execution_count": null,
   "id": "91aaa71c-f002-4d8e-9955-b4f978b29ac7",
   "metadata": {
    "id": "91aaa71c-f002-4d8e-9955-b4f978b29ac7",
    "papermill": {},
    "tags": []
   },
   "outputs": [],
   "source": [
    "import pandas as pd\n",
    "import requests\n",
    "import json\n",
    "import matplotlib.pyplot as plt\n",
    "import naas"
   ]
  },
  {
   "cell_type": "markdown",
   "id": "4e18e9db-9910-4cf8-813d-864031f9359e",
   "metadata": {
    "id": "4e18e9db-9910-4cf8-813d-864031f9359e",
    "papermill": {},
    "tags": []
   },
   "source": [
    "### Setup Variables\n",
    "- `timestamp_col`: The name of the column with the timestamps. Must be the same as used in training.\n",
    "- `data_init`: Init data to be converted to DataFrame.\n",
    "- `timestamps_to_predict`: A list of the timestamps to predict. The timestamps must lie **after** the timestamps observed during training\n",
    "- `api_url`: the http URL to the Azure forecasting model\n",
    "- `api_key`: the access key for the model"
   ]
  },
  {
   "cell_type": "code",
   "execution_count": null,
   "id": "9aed812d-8523-422c-b7fd-d599683ab4a7",
   "metadata": {
    "id": "9aed812d-8523-422c-b7fd-d599683ab4a7",
    "papermill": {},
    "tags": []
   },
   "outputs": [],
   "source": [
    "timestamp_col = \"timeStamp\"\n",
    "data_init = {\n",
    "    timestamp_col: [\"2017-08-10 01:00:00\", \"2017-08-10 02:00:00\", \"2017-08-10 03:00:00\", \"2017-08-10 04:00:00\", \"2017-08-10 05:00:00\", \"2017-08-10 06:00:00\"],\n",
    "    \"values\": [6053.458, 6714.258, 6497.025, 6360.583, 6333.775, 6534.683]\n",
    "}\n",
    "timestamps_to_predict = [\n",
    "    \"2017-08-10 06:00:00\", \n",
    "    \"2017-08-10 07:00:00\",\n",
    "    \"2017-08-10 08:00:00\",\n",
    "    \"2017-08-10 09:00:00\",\n",
    "    \"2017-08-10 10:00:00\",\n",
    "    \"2017-08-10 11:00:00\"\n",
    "]\n",
    "# Azure hosted model URL and key - replace these with your own values!\n",
    "api_url = naas.secret.get(\"AZURE_API_URL\") or \"Paste your API URL\"\n",
    "api_key = naas.secret.get(\"AZURE_API_KEY\") or \"Paste your API Key\""
   ]
  },
  {
   "cell_type": "markdown",
   "id": "de31aad5-d078-4ac7-9689-8eb11b2d1b76",
   "metadata": {
    "id": "de31aad5-d078-4ac7-9689-8eb11b2d1b76",
    "papermill": {},
    "tags": []
   },
   "source": [
    "## 2️⃣ Model"
   ]
  },
  {
   "cell_type": "markdown",
   "id": "08605dc9-9e9a-4102-a6b1-15d6ce81a2e9",
   "metadata": {
    "papermill": {},
    "tags": []
   },
   "source": [
    "### Get data"
   ]
  },
  {
   "cell_type": "code",
   "execution_count": null,
   "id": "6SG7EJFxFhLw",
   "metadata": {
    "id": "6SG7EJFxFhLw",
    "papermill": {},
    "tags": []
   },
   "outputs": [],
   "source": [
    "# Historic data - adjust if needed for plotting\n",
    "data = pd.DataFrame(data_init)\n",
    "data"
   ]
  },
  {
   "cell_type": "markdown",
   "id": "a28a0b75-a8dd-4c9e-8c88-a2564deb5023",
   "metadata": {
    "id": "a28a0b75-a8dd-4c9e-8c88-a2564deb5023",
    "papermill": {},
    "tags": []
   },
   "source": [
    "### Perform Inference"
   ]
  },
  {
   "cell_type": "markdown",
   "id": "b7827df0-6a58-48c5-9316-5557c234149b",
   "metadata": {
    "id": "b7827df0-6a58-48c5-9316-5557c234149b",
    "papermill": {},
    "tags": []
   },
   "source": [
    "Using the forecasting model, perform univariate timeseries inference on the data."
   ]
  },
  {
   "cell_type": "code",
   "execution_count": null,
   "id": "caf1f882-ec33-48af-8f60-4c501374d974",
   "metadata": {
    "id": "caf1f882-ec33-48af-8f60-4c501374d974",
    "papermill": {},
    "tags": []
   },
   "outputs": [],
   "source": [
    "def inference_request(timestamp_col, timestamps):\n",
    "    # Bind columns to dataframe\n",
    "    request_df = pd.DataFrame({timestamp_col: timestamps})\n",
    "\n",
    "    req = {\n",
    "      \"Inputs\": {\n",
    "          \"data\": list(request_df.to_dict('records'))\n",
    "          },\n",
    "         \"GlobalParameters\": {\n",
    "             \"quantiles\": [0.025, 0.975]\n",
    "             }\n",
    "         }\n",
    "\n",
    "    # POST request - send JSON to API\n",
    "    headers = {\n",
    "        'Authorization': (\"Bearer \" + api_key), \n",
    "        'Content-Type': 'application/json'\n",
    "    }\n",
    "    result = requests.post(api_url, data = str.encode(json.dumps(req)), headers=headers)\n",
    "    return result\n",
    "\n",
    "def format_timestamps(timestamps):\n",
    "  # Format timestamp according to Azure requirements\n",
    "  return(pd.to_datetime(pd.Series(timestamps_to_predict)).dt.strftime(\"%Y-%m-%dT%H:%M:%S.%fZ\"))\n",
    "\n",
    "# Get predictions\n",
    "result = inference_request(timestamp_col, format_timestamps(timestamps_to_predict))\n",
    "result = json.loads(result.content)\n",
    "\n",
    "# Convert result to dataframe\n",
    "results_df = pd.DataFrame(result['Results'])\n",
    "\n",
    "# Move prediction intervals to separate columns\n",
    "lower = []\n",
    "upper = []\n",
    "for element in results_df['prediction_interval']:\n",
    "    lower.append(json.loads(element)[0])\n",
    "    upper.append(json.loads(element)[1])\n",
    "\n",
    "results_df['prediction_interval_lower'] = lower\n",
    "results_df['prediction_interval_upper'] = upper\n",
    "results_df['forecast'] = results_df['forecast']\n",
    "results_df[timestamp_col] = timestamps_to_predict\n",
    "results_df = results_df.drop(\"index\", axis = 1)\n",
    "results_df = results_df.drop(\"prediction_interval\", axis = 1)"
   ]
  },
  {
   "cell_type": "markdown",
   "id": "63120f62-d514-41fb-9a6c-5fd32e482941",
   "metadata": {
    "id": "63120f62-d514-41fb-9a6c-5fd32e482941",
    "papermill": {},
    "tags": []
   },
   "source": [
    "## 3️⃣ Outputs"
   ]
  },
  {
   "cell_type": "markdown",
   "id": "WxKoOn8ZJGZe",
   "metadata": {
    "id": "WxKoOn8ZJGZe",
    "papermill": {},
    "tags": []
   },
   "source": [
    "### Return results"
   ]
  },
  {
   "cell_type": "code",
   "execution_count": null,
   "id": "hxXbzW7ZJIR0",
   "metadata": {
    "colab": {
     "base_uri": "https://localhost:8080/",
     "height": 235
    },
    "id": "hxXbzW7ZJIR0",
    "outputId": "0ca1d2e8-9b7b-4d7b-d2ab-d6c9e6067c46",
    "papermill": {},
    "tags": []
   },
   "outputs": [],
   "source": [
    "results_df"
   ]
  },
  {
   "cell_type": "markdown",
   "id": "d6fc2b08-dcea-4e46-b63a-2c88a17cf646",
   "metadata": {
    "id": "d6fc2b08-dcea-4e46-b63a-2c88a17cf646",
    "papermill": {},
    "tags": []
   },
   "source": [
    "### Result rendering "
   ]
  },
  {
   "cell_type": "code",
   "execution_count": null,
   "id": "adc98968-a65b-4077-b31c-9b25003f77e9",
   "metadata": {
    "colab": {
     "base_uri": "https://localhost:8080/",
     "height": 664
    },
    "id": "adc98968-a65b-4077-b31c-9b25003f77e9",
    "outputId": "604f6a0b-0072-49ce-9954-6dc5912625c4",
    "papermill": {},
    "tags": []
   },
   "outputs": [],
   "source": [
    "# Plot the original data and the inference data\n",
    "timestamps = data[timestamp_col]\n",
    "observed_values = data[\"values\"]\n",
    "forecast_values = data[\"forecast\"]\n",
    "lower = data['prediction_interval_lower']\n",
    "upper = data['prediction_interval_upper']\n",
    "\n",
    "plt.figure(figsize=(10, 6))\n",
    "plt.plot(timestamps, observed_values, label='Observed', linewidth=2)\n",
    "plt.plot(timestamps, forecast_values, label='Forecast', linewidth=2)\n",
    "plt.fill_between(timestamps, lower, upper, color='lightgray', alpha=0.5, label='Prediction Interval')\n",
    "plt.xlabel('Timestamps')\n",
    "plt.ylabel('Values')\n",
    "plt.title('Time Series with Forecast and Prediction Interval')\n",
    "plt.legend()\n",
    "plt.xticks(rotation = 45)\n",
    "plt.show()"
   ]
  }
 ],
 "metadata": {
  "colab": {
   "provenance": []
  },
  "kernelspec": {
   "display_name": "Python 3 (ipykernel)",
   "language": "python",
   "name": "python3"
  },
  "language_info": {
   "codemirror_mode": {
    "name": "ipython",
    "version": 3
   },
   "file_extension": ".py",
   "mimetype": "text/x-python",
   "name": "python",
   "nbconvert_exporter": "python",
   "pygments_lexer": "ipython3",
   "version": "3.12.3"
  },
  "naas": {
   "notebook_id": "94f5a9a6634caea4d03c1756a001a4f834c1fd06920b6183b034b0b60c449401",
   "notebook_path": "Azure Machine Learning/Azure_Machine_Learning_Univariate_Timeseries_Inference.ipynb"
  },
  "papermill": {
   "default_parameters": {},
   "environment_variables": {},
   "parameters": {},
   "version": "2.4.0"
  }
 },
 "nbformat": 4,
 "nbformat_minor": 5
}
