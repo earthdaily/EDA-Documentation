{
 "cells": [
  {
   "cell_type": "markdown",
   "id": "1e64f4d2-74eb-44d6-8802-f8b616c85f63",
   "metadata": {},
   "source": [
    "# Compare Sentinel-2 and Venus\n"
   ]
  },
  {
   "cell_type": "markdown",
   "id": "02e9fd09",
   "metadata": {},
   "source": [
    " This notebook demonstrates querying the STAC API for a Venus and Sentinel-2 chip using an ROI, calculate the NDVI and plot it as a comparison"
   ]
  },
  {
   "cell_type": "markdown",
   "id": "c86548f5",
   "metadata": {},
   "source": [
    "## Import and Init Environment"
   ]
  },
  {
   "cell_type": "code",
   "execution_count": null,
   "id": "43ed3821-f9fa-43f5-9528-472e7a5e738d",
   "metadata": {},
   "outputs": [],
   "source": [
    "# Import\n",
    "\n",
    "from glob import glob\n",
    "import json\n",
    "import os\n",
    "from dotenv import load_dotenv\n",
    "import pandas as pd\n",
    "from pystac_client import Client\n",
    "from matplotlib import pyplot as plt\n",
    "import geopandas as gpd\n",
    "import requests\n",
    "import seaborn as sns\n",
    "from matplotlib.dates import DateFormatter\n",
    "import matplotlib.dates as mdates\n",
    "from odc.stac import configure_rio, stac_load"
   ]
  },
  {
   "cell_type": "markdown",
   "id": "319f4b96",
   "metadata": {},
   "source": [
    "Authenticate with the STAC API, if you get an error check your credentials in `.env`"
   ]
  },
  {
   "cell_type": "code",
   "execution_count": null,
   "id": "5d44dae1-0432-4d32-a975-85e35262f801",
   "metadata": {},
   "outputs": [
    {
     "name": "stderr",
     "output_type": "stream",
     "text": [
      "Matplotlib is building the font cache; this may take a moment.\n"
     ]
    },
    {
     "ename": "FileNotFoundError",
     "evalue": "Credentials file /Users/matthieuhyrien/.earthdaily/credentials not found. Make sure the path is valid",
     "output_type": "error",
     "traceback": [
      "\u001b[0;31m---------------------------------------------------------------------------\u001b[0m",
      "\u001b[0;31mFileNotFoundError\u001b[0m                         Traceback (most recent call last)",
      "Cell \u001b[0;32mIn[3], line 3\u001b[0m\n\u001b[1;32m      1\u001b[0m \u001b[38;5;28;01mimport\u001b[39;00m \u001b[38;5;21;01mearthdaily\u001b[39;00m\n\u001b[1;32m      2\u001b[0m \u001b[38;5;28;01mfrom\u001b[39;00m \u001b[38;5;21;01mmatplotlib\u001b[39;00m \u001b[38;5;28;01mimport\u001b[39;00m pyplot \u001b[38;5;28;01mas\u001b[39;00m plt\n\u001b[0;32m----> 3\u001b[0m eds \u001b[38;5;241m=\u001b[39m \u001b[43mearthdaily\u001b[49m\u001b[38;5;241;43m.\u001b[39;49m\u001b[43mEarthDataStore\u001b[49m\u001b[43m(\u001b[49m\u001b[43m)\u001b[49m\n",
      "File \u001b[0;32m/Library/Frameworks/Python.framework/Versions/3.12/lib/python3.12/site-packages/earthdaily/__init__.py:43\u001b[0m, in \u001b[0;36mEarthDataStore\u001b[0;34m(json_path, toml_path, profile, presign_urls, request_payer)\u001b[0m\n\u001b[1;32m     13\u001b[0m \u001b[38;5;28;01mdef\u001b[39;00m \u001b[38;5;21mEarthDataStore\u001b[39m(\n\u001b[1;32m     14\u001b[0m     json_path: Optional[Path] \u001b[38;5;241m=\u001b[39m \u001b[38;5;28;01mNone\u001b[39;00m,\n\u001b[1;32m     15\u001b[0m     toml_path: Optional[Path] \u001b[38;5;241m=\u001b[39m \u001b[38;5;28;01mNone\u001b[39;00m,\n\u001b[0;32m   (...)\u001b[0m\n\u001b[1;32m     18\u001b[0m     request_payer: \u001b[38;5;28mbool\u001b[39m \u001b[38;5;241m=\u001b[39m \u001b[38;5;28;01mFalse\u001b[39;00m,\n\u001b[1;32m     19\u001b[0m ) \u001b[38;5;241m-\u001b[39m\u001b[38;5;241m>\u001b[39m earthdatastore\u001b[38;5;241m.\u001b[39mAuth:\n\u001b[1;32m     20\u001b[0m \u001b[38;5;250m    \u001b[39m\u001b[38;5;124;03m\"\"\"\u001b[39;00m\n\u001b[1;32m     21\u001b[0m \u001b[38;5;124;03m    Open earth data store connection to allow for datacube requests.\u001b[39;00m\n\u001b[1;32m     22\u001b[0m \u001b[38;5;124;03m    Try to read Earth Data Store credentials from multiple sources, in the following order:\u001b[39;00m\n\u001b[0;32m   (...)\u001b[0m\n\u001b[1;32m     41\u001b[0m \u001b[38;5;124;03m        A :class:`earthdatastore.Auth` instance\u001b[39;00m\n\u001b[1;32m     42\u001b[0m \u001b[38;5;124;03m    \"\"\"\u001b[39;00m\n\u001b[0;32m---> 43\u001b[0m     \u001b[38;5;28;01mreturn\u001b[39;00m \u001b[43mearthdatastore\u001b[49m\u001b[38;5;241;43m.\u001b[39;49m\u001b[43mAuth\u001b[49m\u001b[38;5;241;43m.\u001b[39;49m\u001b[43mfrom_credentials\u001b[49m\u001b[43m(\u001b[49m\n\u001b[1;32m     44\u001b[0m \u001b[43m        \u001b[49m\u001b[43mjson_path\u001b[49m\u001b[38;5;241;43m=\u001b[39;49m\u001b[43mjson_path\u001b[49m\u001b[43m,\u001b[49m\n\u001b[1;32m     45\u001b[0m \u001b[43m        \u001b[49m\u001b[43mtoml_path\u001b[49m\u001b[38;5;241;43m=\u001b[39;49m\u001b[43mtoml_path\u001b[49m\u001b[43m,\u001b[49m\n\u001b[1;32m     46\u001b[0m \u001b[43m        \u001b[49m\u001b[43mprofile\u001b[49m\u001b[38;5;241;43m=\u001b[39;49m\u001b[43mprofile\u001b[49m\u001b[43m,\u001b[49m\n\u001b[1;32m     47\u001b[0m \u001b[43m        \u001b[49m\u001b[43mpresign_urls\u001b[49m\u001b[38;5;241;43m=\u001b[39;49m\u001b[43mpresign_urls\u001b[49m\u001b[43m,\u001b[49m\n\u001b[1;32m     48\u001b[0m \u001b[43m        \u001b[49m\u001b[43mrequest_payer\u001b[49m\u001b[38;5;241;43m=\u001b[39;49m\u001b[43mrequest_payer\u001b[49m\u001b[43m,\u001b[49m\n\u001b[1;32m     49\u001b[0m \u001b[43m    \u001b[49m\u001b[43m)\u001b[49m\n",
      "File \u001b[0;32m/Library/Frameworks/Python.framework/Versions/3.12/lib/python3.12/site-packages/earthdaily/earthdatastore/__init__.py:452\u001b[0m, in \u001b[0;36mAuth.from_credentials\u001b[0;34m(cls, json_path, toml_path, profile, presign_urls, request_payer)\u001b[0m\n\u001b[1;32m    420\u001b[0m \u001b[38;5;129m@classmethod\u001b[39m\n\u001b[1;32m    421\u001b[0m \u001b[38;5;28;01mdef\u001b[39;00m \u001b[38;5;21mfrom_credentials\u001b[39m(\n\u001b[1;32m    422\u001b[0m     \u001b[38;5;28mcls\u001b[39m,\n\u001b[0;32m   (...)\u001b[0m\n\u001b[1;32m    427\u001b[0m     request_payer: \u001b[38;5;28mbool\u001b[39m \u001b[38;5;241m=\u001b[39m \u001b[38;5;28;01mFalse\u001b[39;00m,\n\u001b[1;32m    428\u001b[0m ) \u001b[38;5;241m-\u001b[39m\u001b[38;5;241m>\u001b[39m \u001b[38;5;124m\"\u001b[39m\u001b[38;5;124mAuth\u001b[39m\u001b[38;5;124m\"\u001b[39m:\n\u001b[1;32m    429\u001b[0m \u001b[38;5;250m    \u001b[39m\u001b[38;5;124;03m\"\"\"\u001b[39;00m\n\u001b[1;32m    430\u001b[0m \u001b[38;5;124;03m    Secondary Constructor.\u001b[39;00m\n\u001b[1;32m    431\u001b[0m \u001b[38;5;124;03m    Try to read Earth Data Store credentials from multiple sources, in the following order:\u001b[39;00m\n\u001b[0;32m   (...)\u001b[0m\n\u001b[1;32m    450\u001b[0m \u001b[38;5;124;03m        A :class:`Auth` instance\u001b[39;00m\n\u001b[1;32m    451\u001b[0m \u001b[38;5;124;03m    \"\"\"\u001b[39;00m\n\u001b[0;32m--> 452\u001b[0m     config \u001b[38;5;241m=\u001b[39m \u001b[38;5;28;43mcls\u001b[39;49m\u001b[38;5;241;43m.\u001b[39;49m\u001b[43mread_credentials\u001b[49m\u001b[43m(\u001b[49m\n\u001b[1;32m    453\u001b[0m \u001b[43m        \u001b[49m\u001b[43mjson_path\u001b[49m\u001b[38;5;241;43m=\u001b[39;49m\u001b[43mjson_path\u001b[49m\u001b[43m,\u001b[49m\n\u001b[1;32m    454\u001b[0m \u001b[43m        \u001b[49m\u001b[43mtoml_path\u001b[49m\u001b[38;5;241;43m=\u001b[39;49m\u001b[43mtoml_path\u001b[49m\u001b[43m,\u001b[49m\n\u001b[1;32m    455\u001b[0m \u001b[43m        \u001b[49m\u001b[43mprofile\u001b[49m\u001b[38;5;241;43m=\u001b[39;49m\u001b[43mprofile\u001b[49m\u001b[43m,\u001b[49m\n\u001b[1;32m    456\u001b[0m \u001b[43m    \u001b[49m\u001b[43m)\u001b[49m\n\u001b[1;32m    458\u001b[0m     \u001b[38;5;28;01mfor\u001b[39;00m item, value \u001b[38;5;129;01min\u001b[39;00m config\u001b[38;5;241m.\u001b[39mitems():\n\u001b[1;32m    459\u001b[0m         \u001b[38;5;28;01mif\u001b[39;00m \u001b[38;5;129;01mnot\u001b[39;00m value:\n",
      "File \u001b[0;32m/Library/Frameworks/Python.framework/Versions/3.12/lib/python3.12/site-packages/earthdaily/earthdatastore/__init__.py:516\u001b[0m, in \u001b[0;36mAuth.read_credentials\u001b[0;34m(cls, json_path, toml_path, profile)\u001b[0m\n\u001b[1;32m    513\u001b[0m     \u001b[38;5;28;01mif\u001b[39;00m profile \u001b[38;5;129;01mis\u001b[39;00m \u001b[38;5;28;01mNone\u001b[39;00m:\n\u001b[1;32m    514\u001b[0m         profile \u001b[38;5;241m=\u001b[39m \u001b[38;5;124m\"\u001b[39m\u001b[38;5;124mdefault\u001b[39m\u001b[38;5;124m\"\u001b[39m\n\u001b[0;32m--> 516\u001b[0m     config \u001b[38;5;241m=\u001b[39m \u001b[38;5;28;43mcls\u001b[39;49m\u001b[38;5;241;43m.\u001b[39;49m\u001b[43mread_credentials_from_toml\u001b[49m\u001b[43m(\u001b[49m\n\u001b[1;32m    517\u001b[0m \u001b[43m        \u001b[49m\u001b[43mtoml_path\u001b[49m\u001b[38;5;241;43m=\u001b[39;49m\u001b[43mtoml_path\u001b[49m\u001b[43m,\u001b[49m\u001b[43m \u001b[49m\u001b[43mprofile\u001b[49m\u001b[38;5;241;43m=\u001b[39;49m\u001b[43mprofile\u001b[49m\n\u001b[1;32m    518\u001b[0m \u001b[43m    \u001b[49m\u001b[43m)\u001b[49m\n\u001b[1;32m    520\u001b[0m \u001b[38;5;28;01mreturn\u001b[39;00m config\n",
      "File \u001b[0;32m/Library/Frameworks/Python.framework/Versions/3.12/lib/python3.12/site-packages/earthdaily/earthdatastore/__init__.py:582\u001b[0m, in \u001b[0;36mAuth.read_credentials_from_toml\u001b[0;34m(cls, toml_path, profile)\u001b[0m\n\u001b[1;32m    566\u001b[0m \u001b[38;5;250m\u001b[39m\u001b[38;5;124;03m\"\"\"\u001b[39;00m\n\u001b[1;32m    567\u001b[0m \u001b[38;5;124;03mRead Earth Data Store credentials from a TOML file\u001b[39;00m\n\u001b[1;32m    568\u001b[0m \n\u001b[0;32m   (...)\u001b[0m\n\u001b[1;32m    579\u001b[0m \u001b[38;5;124;03m    Dictionary containing credentials\u001b[39;00m\n\u001b[1;32m    580\u001b[0m \u001b[38;5;124;03m\"\"\"\u001b[39;00m\n\u001b[1;32m    581\u001b[0m \u001b[38;5;28;01mif\u001b[39;00m \u001b[38;5;129;01mnot\u001b[39;00m toml_path\u001b[38;5;241m.\u001b[39mexists():\n\u001b[0;32m--> 582\u001b[0m     \u001b[38;5;28;01mraise\u001b[39;00m \u001b[38;5;167;01mFileNotFoundError\u001b[39;00m(\n\u001b[1;32m    583\u001b[0m         \u001b[38;5;124mf\u001b[39m\u001b[38;5;124m\"\u001b[39m\u001b[38;5;124mCredentials file \u001b[39m\u001b[38;5;132;01m{\u001b[39;00mtoml_path\u001b[38;5;132;01m}\u001b[39;00m\u001b[38;5;124m not found. Make sure the path is valid\u001b[39m\u001b[38;5;124m\"\u001b[39m\n\u001b[1;32m    584\u001b[0m     )\n\u001b[1;32m    586\u001b[0m \u001b[38;5;28;01mwith\u001b[39;00m toml_path\u001b[38;5;241m.\u001b[39mopen() \u001b[38;5;28;01mas\u001b[39;00m f:\n\u001b[1;32m    587\u001b[0m     config \u001b[38;5;241m=\u001b[39m toml\u001b[38;5;241m.\u001b[39mload(f)\n",
      "\u001b[0;31mFileNotFoundError\u001b[0m: Credentials file /Users/matthieuhyrien/.earthdaily/credentials not found. Make sure the path is valid"
     ]
    }
   ],
   "source": [
    "os.environ['AWS_NO_SIGN_REQUEST'] = 'YES'\n",
    "load_dotenv()  # take environment variables from .env.\n",
    "\n",
    "def get_new_token():\n",
    "    auth_server_url = os.getenv(\"EDS_AUTH_URL\")\n",
    "    client_id = os.getenv(\"EDS_CLIENT_ID\")\n",
    "    client_secret = os.getenv(\"EDS_SECRET\")\n",
    "    token_req_payload = {'grant_type': 'client_credentials'}\n",
    "\n",
    "    token_response = requests.post(\n",
    "        auth_server_url,\n",
    "        data=token_req_payload,\n",
    "        verify=False,\n",
    "        allow_redirects=False,\n",
    "        auth=(client_id, client_secret)\n",
    "    )\n",
    "    token_response.raise_for_status()\n",
    "\n",
    "    tokens = json.loads(token_response.text)\n",
    "    return tokens['access_token']\n",
    "\n",
    "token = get_new_token()\n",
    "\n",
    "catalog = Client.open(os.getenv(\"EDS_API_URL\"), headers={\n",
    "    \"Authorization\": f\"bearer {token}\"\n",
    "})"
   ]
  },
  {
   "cell_type": "markdown",
   "id": "339189f1-e762-4894-a4ac-614523dfb8c1",
   "metadata": {},
   "source": [
    "## Define the config"
   ]
  },
  {
   "cell_type": "code",
   "execution_count": null,
   "id": "0e342537-2213-4462-93d7-c4bc3684fefd",
   "metadata": {},
   "outputs": [],
   "source": [
    "# define config\n",
    "datetime = ['2019-11','2020-05']\n",
    "assets = ['blue','green','red','nir']\n",
    "clear_cover = 20\n",
    "geom = earthdaily.datasets.load_pivot_corumba() # or past any wkt here"
   ]
  },
  {
   "cell_type": "markdown",
   "id": "8493c1da-9611-4102-a534-b60e6ba5a7b4",
   "metadata": {},
   "source": [
    "## Generate and load the Sentinel-2 datacube"
   ]
  },
  {
   "cell_type": "code",
   "execution_count": null,
   "id": "cf5a9491-4f1c-4cf5-89b4-384c69c2a1e7",
   "metadata": {},
   "outputs": [],
   "source": [
    "# Sentinel-2 datacube\n",
    "datacube_s2 = eds.datacube(\"sentinel-2-l2a\",\n",
    "             datetime=datetime,\n",
    "             assets=assets,\n",
    "             intersects=geom,\n",
    "             mask_with='ag_cloud_mask',\n",
    "             clear_cover=clear_cover)\n",
    "datacube_s2.attrs['sensor'] = \"Sentinel-2-l2a\"\n",
    "datacube_s2 = datacube_s2.load()\n"
   ]
  },
  {
   "cell_type": "markdown",
   "id": "214c512c-2e8e-433b-87a7-a96e8b976500",
   "metadata": {},
   "source": [
    "## Generate and load the Venus datacube"
   ]
  },
  {
   "cell_type": "code",
   "execution_count": null,
   "id": "632b9222-c39d-4da2-ae07-1505b172d77f",
   "metadata": {},
   "outputs": [],
   "source": [
    "# Venus datacube\n",
    "datacube_venus = eds.datacube(\"venus-l2a\",\n",
    "             datetime=datetime,\n",
    "             assets=assets,\n",
    "             intersects=geom,\n",
    "             mask_with='native',\n",
    "             geobox=datacube_s2.odc.geobox, #same resolution and projection as S2\n",
    "             clear_cover=clear_cover)\n",
    "datacube_venus.attrs['sensor'] = \"Venus-l2a\"\n",
    "venus = datacube_venus.load()"
   ]
  },
  {
   "cell_type": "markdown",
   "id": "2e12178c-6cd4-492d-ba21-7b9469bf5dac",
   "metadata": {},
   "source": [
    "# Results (plots)"
   ]
  },
  {
   "cell_type": "markdown",
   "id": "8f27ad40-58c2-408e-a526-cecd2f497860",
   "metadata": {},
   "source": [
    "## Compare the NDVI"
   ]
  },
  {
   "cell_type": "code",
   "execution_count": null,
   "id": "d5a7d580-ee5e-4c7d-9dbe-b13393b8d7ee",
   "metadata": {},
   "outputs": [],
   "source": [
    "\n",
    "datacube_s2.mean(('x','y')).ed.add_indices(['NDVI'])['NDVI'].plot(ls='-',marker='o', label='Sentinel-2')\n",
    "datacube_venus.mean(('x','y')).ed.add_indices(['NDVI'])['NDVI'].plot(ls='-',marker='o', label='Venus')\n",
    "plt.legend()\n",
    "plt.title('NDVI between Sentinel-2 and Venus')"
   ]
  },
  {
   "cell_type": "markdown",
   "id": "dba85df4-f114-4ee6-8d39-892cfb50376e",
   "metadata": {},
   "source": [
    "## Compare RGB time series"
   ]
  },
  {
   "cell_type": "code",
   "execution_count": null,
   "id": "44867838-8bda-4c11-8419-94f90f449749",
   "metadata": {},
   "outputs": [],
   "source": [
    "for sensor in [datacube_s2, datacube_venus]:\n",
    "    sensor.ed.plot_rgb()\n",
    "    plt.suptitle(sensor.attrs['sensor'])\n",
    "    plt.show()"
   ]
  },
  {
   "cell_type": "code",
   "execution_count": null,
   "id": "a67e4cc6-e85b-4b6d-9fda-4d71f1dbb4b6",
   "metadata": {},
   "outputs": [],
   "source": []
  },
  {
   "cell_type": "code",
   "execution_count": null,
   "id": "24c03656-5998-4f12-bee1-d9d23f0ef748",
   "metadata": {},
   "outputs": [],
   "source": []
  }
 ],
 "metadata": {
  "kernelspec": {
   "display_name": "Python 3 (ipykernel)",
   "language": "python",
   "name": "python3"
  },
  "language_info": {
   "codemirror_mode": {
    "name": "ipython",
    "version": 3
   },
   "file_extension": ".py",
   "mimetype": "text/x-python",
   "name": "python",
   "nbconvert_exporter": "python",
   "pygments_lexer": "ipython3",
   "version": "3.12.5"
  }
 },
 "nbformat": 4,
 "nbformat_minor": 5
}
