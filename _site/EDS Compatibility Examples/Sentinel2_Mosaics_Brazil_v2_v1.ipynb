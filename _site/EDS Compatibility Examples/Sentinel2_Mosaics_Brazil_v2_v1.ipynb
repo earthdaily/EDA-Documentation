{
  "cells": [
    {
      "cell_type": "markdown",
      "id": "1e64f4d2-74eb-44d6-8802-f8b616c85f63",
      "metadata": {
        "id": "1e64f4d2-74eb-44d6-8802-f8b616c85f63"
      },
      "source": [
        "# Compare Sentinel-2 and Mosaics\n"
      ]
    },
    {
      "cell_type": "code",
      "execution_count": 46,
      "id": "5d44dae1-0432-4d32-a975-85e35262f801",
      "metadata": {
        "id": "5d44dae1-0432-4d32-a975-85e35262f801"
      },
      "outputs": [],
      "source": [
        "from datetime import timedelta\n",
        "from glob import glob\n",
        "import json\n",
        "import os\n",
        "import shutil\n",
        "from dotenv import load_dotenv\n",
        "import numpy as np\n",
        "import pandas as pd\n",
        "from pystac_client import Client\n",
        "from matplotlib import pyplot as plt\n",
        "import matplotlib.image as mpimg\n",
        "import geopandas as gpd\n",
        "import requests\n",
        "import seaborn as sns\n",
        "from matplotlib.dates import DateFormatter\n",
        "import matplotlib.dates as mdates\n",
        "from odc.stac import configure_rio, stac_load\n",
        "import xarray as xr\n",
        "from PIL import Image\n"
      ]
    },
    {
      "cell_type": "markdown",
      "id": "6f76f99c",
      "metadata": {
        "id": "6f76f99c"
      },
      "source": []
    },
    {
      "cell_type": "markdown",
      "id": "9618aa8f",
      "metadata": {},
      "source": [
        "### Set up environment variables and the token"
      ]
    },
    {
      "cell_type": "code",
      "execution_count": 53,
      "id": "mYq9C4hHCqGZ",
      "metadata": {
        "colab": {
          "base_uri": "https://localhost:8080/"
        },
        "id": "mYq9C4hHCqGZ",
        "outputId": "3be36ab1-d29a-4ecf-b2da-904d8bf0458e"
      },
      "outputs": [],
      "source": [
        "load_dotenv()  # take environment variables from .env.\n",
        "#os.environ['AWS_PROFILE'] = 'prodRead'\n",
        "\n",
        "def get_new_token():\n",
        "    auth_server_url = os.getenv(\"EDS_AUTH_URL\")\n",
        "    client_id = os.getenv(\"EDS_CLIENT_ID\")\n",
        "    client_secret = os.getenv(\"EDS_SECRET\")\n",
        "    token_req_payload = {'grant_type': 'client_credentials'}\n",
        "\n",
        "    token_response = requests.post(\n",
        "        auth_server_url,\n",
        "        data=token_req_payload,\n",
        "        verify=False,\n",
        "        allow_redirects=False,\n",
        "        auth=(client_id, client_secret)\n",
        "    )\n",
        "    token_response.raise_for_status()\n",
        "\n",
        "    tokens = json.loads(token_response.text)\n",
        "    return tokens['access_token']\n",
        "\n",
        "token = get_new_token()"
      ]
    },
    {
      "cell_type": "markdown",
      "id": "CAOCpLn4C7JO",
      "metadata": {
        "id": "CAOCpLn4C7JO"
      },
      "source": [
        "### Set up pystac client"
      ]
    },
    {
      "cell_type": "code",
      "execution_count": 54,
      "id": "KzOH9ie4C6DJ",
      "metadata": {
        "colab": {
          "base_uri": "https://localhost:8080/"
        },
        "id": "KzOH9ie4C6DJ",
        "outputId": "00fbd326-7085-4f1b-b94b-cc5cc8d88ad0"
      },
      "outputs": [
        {
          "name": "stdout",
          "output_type": "stream",
          "text": [
            "https://api.eds.earthdaily.com/archive/v1/stac/v1\n"
          ]
        }
      ],
      "source": [
        "api_url = os.getenv(\"EDS_API_URL\")\n",
        "print(api_url)\n",
        "catalog = Client.open(api_url, headers={\n",
        "    \"Authorization\": f\"bearer {token}\",\n",
        "    \"X-Signed-Asset-Urls\": \"true\",\n",
        "    \"X-User-User-Type\": \"internal_user\",\n",
        "    \"X-User-External-Downloads-Enabled\": \"true\",\n",
        "})"
      ]
    },
    {
      "cell_type": "markdown",
      "id": "Vy1f67PgDWq4",
      "metadata": {
        "id": "Vy1f67PgDWq4"
      },
      "source": [
        "### Helper functions"
      ]
    },
    {
      "cell_type": "code",
      "execution_count": 49,
      "id": "oFemYCZiDZNM",
      "metadata": {
        "colab": {
          "base_uri": "https://localhost:8080/",
          "height": 73
        },
        "id": "oFemYCZiDZNM",
        "outputId": "6604aed4-e062-44b9-fcbf-93cbdbc1d22f"
      },
      "outputs": [
        {
          "name": "stdout",
          "output_type": "stream",
          "text": [
            "(-53.98508699966091, -29.553030644503163, -53.98340355613824, -29.55150003325548)\n"
          ]
        }
      ],
      "source": [
        "def get_bounds_polygon_dict() -> tuple:\n",
        "    gdf = gpd.read_file(\"brazil_smallest.geojson\")\n",
        "    polygon = gdf.geometry.iloc[0]\n",
        "    bounds = polygon.bounds\n",
        "    return bounds\n",
        "\n",
        "def filter_duplicates(items, time_tolerance=timedelta(minutes=5)):\n",
        "    # Filters items based on acquisition time with a given time tolerance. Useful for getting rid of duplicates\n",
        "    # from overlapping Sentinel-2 tiles\n",
        "    unique_items = []\n",
        "    seen_times = []\n",
        "\n",
        "    for item in items:\n",
        "        acquisition_time = item.datetime\n",
        "        is_duplicate = any([abs(acquisition_time - seen_time) < time_tolerance for seen_time in seen_times])\n",
        "\n",
        "        if not is_duplicate:\n",
        "            unique_items.append(item)\n",
        "            seen_times.append(acquisition_time)\n",
        "\n",
        "    return unique_items\n",
        "\n",
        "def plot_images(site_name, filtered_dataset, offset=0):\n",
        "    # Plot images for visualization. Useful for checking if the ROI is correct, whether there are clouds in the\n",
        "    # imagery, etc.\n",
        "\n",
        "    outputs_dir = f\"outputs_{site_name}/\"  # Location where the output files will be saved\n",
        "    try:\n",
        "        shutil.rmtree(outputs_dir)\n",
        "    except FileNotFoundError:\n",
        "        pass  # That's ok, nothing to cleaup\n",
        "    os.makedirs(outputs_dir)\n",
        "\n",
        "    # Loop through each time slice and generate RGB images\n",
        "    for i in range(len(filtered_dataset.time)):\n",
        "        ds = filtered_dataset.isel(time=i)\n",
        "        # Stack the RGB bands into a numpy array\n",
        "        rgb_numpy_array = np.stack([ds['red'].values, ds['green'].values, ds['blue'].values], axis=-1)\n",
        "\n",
        "        # Get the date of the current time slice\n",
        "        date = pd.to_datetime(ds.time.values).strftime(\"%Y-%m-%d-%s\")\n",
        "\n",
        "        # Apply offset to DN values\n",
        "        rgb_numpy_array -= offset\n",
        "\n",
        "        # Clip the values to avoid outliers\n",
        "        rgb_numpy_array = np.clip(rgb_numpy_array, 0, 2000)\n",
        "\n",
        "        # Normalize the pixel values between 0 and 1\n",
        "        rgb_numpy_array = rgb_numpy_array / 2000.0\n",
        "\n",
        "        # Convert the array to an image and save it\n",
        "        Image.fromarray((rgb_numpy_array * 255).astype(np.uint8)).save(outputs_dir + f\"{site_name}_{date}.png\")\n",
        "\n",
        "    # Get all the saved RGB images\n",
        "    rgb_images = sorted(glob(outputs_dir + \"*.png\"))\n",
        "    print(f\"Number of images generated: {len(rgb_images)}\")\n",
        "\n",
        "    # Determine grid layout for displaying images\n",
        "    n_cols, n_rows = 3, (len(rgb_images) + 2) // 3\n",
        "\n",
        "    # Plot the RGB images with filenames as titles\n",
        "    fig, axes = plt.subplots(n_rows, n_cols, figsize=(15, 5*n_rows))\n",
        "    for ax, png in zip(axes.flatten(), rgb_images):\n",
        "        ax.imshow(mpimg.imread(png))\n",
        "        ax.set_title(os.path.basename(png))\n",
        "        ax.axis('off')\n",
        "\n",
        "    # Hide any unused axes\n",
        "    for ax in axes.flatten()[len(rgb_images):]:\n",
        "        ax.axis('off')\n",
        "\n",
        "    plt.tight_layout()\n",
        "    plt.show()\n",
        "\n",
        "bbox = get_bounds_polygon_dict()\n",
        "print(bbox)"
      ]
    },
    {
      "cell_type": "markdown",
      "id": "339189f1-e762-4894-a4ac-614523dfb8c1",
      "metadata": {
        "id": "339189f1-e762-4894-a4ac-614523dfb8c1"
      },
      "source": [
        "### Define the config"
      ]
    },
    {
      "cell_type": "code",
      "execution_count": 50,
      "id": "0e342537-2213-4462-93d7-c4bc3684fefd",
      "metadata": {
        "colab": {
          "base_uri": "https://localhost:8080/"
        },
        "id": "0e342537-2213-4462-93d7-c4bc3684fefd",
        "outputId": "46dcf26f-ff1e-4930-c6a3-0249d997df94"
      },
      "outputs": [],
      "source": [
        "# define config\n",
        "COLLECTION = \"sentinel-2-l2a\" \n",
        "\n",
        "# Set a start and end date\n",
        "start_date = \"2021-01-01\"\n",
        "end_date = \"2021-12-31\"\n",
        "max_clouds = 50 # the maximum cloud cover percentage. Note this is over the WHOLE image, not just the ROI\n"
      ]
    },
    {
      "cell_type": "markdown",
      "id": "8493c1da-9611-4102-a534-b60e6ba5a7b4",
      "metadata": {
        "id": "8493c1da-9611-4102-a534-b60e6ba5a7b4"
      },
      "source": [
        "### Generate and load the Sentinel-2 datacube"
      ]
    },
    {
      "cell_type": "code",
      "execution_count": 56,
      "id": "cf5a9491-4f1c-4cf5-89b4-384c69c2a1e7",
      "metadata": {
        "colab": {
          "base_uri": "https://localhost:8080/"
        },
        "id": "cf5a9491-4f1c-4cf5-89b4-384c69c2a1e7",
        "outputId": "e61a22a5-20f0-42c8-cc5f-99bdac900308"
      },
      "outputs": [
        {
          "name": "stdout",
          "output_type": "stream",
          "text": [
            "Found: 237 total datasets\n",
            "Found: 90 unique datasets\n",
            "<xarray.Dataset> Size: 1MB\n",
            "Dimensions:      (y: 40, x: 38, time: 90)\n",
            "Coordinates:\n",
            "  * y            (y) float64 320B -3.446e+06 -3.446e+06 ... -3.446e+06\n",
            "  * x            (x) float64 304B -6.01e+06 -6.01e+06 ... -6.009e+06 -6.009e+06\n",
            "    spatial_ref  int32 4B 3857\n",
            "  * time         (time) datetime64[ns] 720B 2021-12-31T13:50:33.410000 ... 20...\n",
            "Data variables:\n",
            "    red          (time, y, x) uint16 274kB dask.array<chunksize=(1, 40, 38), meta=np.ndarray>\n",
            "    green        (time, y, x) uint16 274kB dask.array<chunksize=(1, 40, 38), meta=np.ndarray>\n",
            "    blue         (time, y, x) uint16 274kB dask.array<chunksize=(1, 40, 38), meta=np.ndarray>\n",
            "    nir08        (time, y, x) uint16 274kB dask.array<chunksize=(1, 40, 38), meta=np.ndarray>\n"
          ]
        }
      ],
      "source": [
        "query = catalog.search(\n",
        "    collections=[COLLECTION],\n",
        "    datetime=f\"{start_date}/{end_date}\",\n",
        "    bbox=bbox,\n",
        "    query={\"eo:cloud_cover\":{\"lt\":max_clouds}} \n",
        ")\n",
        "\n",
        "items = list(query.items())\n",
        "required_assets = [\"red\", \"green\", \"blue\", \"nir08\"]\n",
        "valid_items = []\n",
        "for item in items:\n",
        "    all_assets_valid = True\n",
        "    for band in required_assets:\n",
        "        asset = item.assets.get(band)\n",
        "        if not asset:\n",
        "            print(f\"Asset for band '{band}' not found, skipping item.\")\n",
        "            all_assets_valid = False\n",
        "            break\n",
        "\n",
        "        asset.href = asset.extra_fields.get('alternate', {}).get('download', {}).get('href', asset.href)\n",
        "\n",
        "        response = requests.get(asset.href, stream=True)\n",
        "        if response.status_code != 200:\n",
        "            all_assets_valid = False\n",
        "            break\n",
        "\n",
        "    if all_assets_valid:\n",
        "        valid_items.append(item)\n",
        "\n",
        "print(f\"Found: {len(valid_items):d} total datasets\")\n",
        "\n",
        "filtered_items = filter_duplicates(valid_items)\n",
        "\n",
        "print(f\"Found: {len(filtered_items):d} unique datasets\")\n",
        "\n",
        "final_dataset = stac_load(\n",
        "    filtered_items,\n",
        "    bands=(\"red\", \"green\", \"blue\",\"nir08\"),\n",
        "    crs=\"epsg:3857\", # since resolution is in metres, we need to use a projected CRS\n",
        "    resolution=5, # the resolution of the output image in metres\n",
        "    chunks={'x': 2048, 'y': 2048},\n",
        "    # chunks={},  # Uncomment if using dask cluster\n",
        "    groupby=\"id\",\n",
        "    bbox=bbox,\n",
        ")\n",
        "\n",
        "print(final_dataset)\n",
        "final_dataset.attrs['sensor'] = \"Sentinel2\"\n"
      ]
    },
    {
      "cell_type": "markdown",
      "id": "JYqBtpXuEXyD",
      "metadata": {
        "id": "JYqBtpXuEXyD"
      },
      "source": [
        "### Get the ndvi"
      ]
    },
    {
      "cell_type": "code",
      "execution_count": 80,
      "id": "FwLzqOq6EaUn",
      "metadata": {
        "colab": {
          "base_uri": "https://localhost:8080/"
        },
        "id": "FwLzqOq6EaUn",
        "outputId": "0d051eb6-c5aa-464a-e934-03b8baa8fdb4"
      },
      "outputs": [
        {
          "ename": "TokenRetrievalError",
          "evalue": "Error when retrieving token from sso: Token has expired and refresh failed",
          "output_type": "error",
          "traceback": [
            "\u001b[0;31m---------------------------------------------------------------------------\u001b[0m",
            "\u001b[0;31mTokenRetrievalError\u001b[0m                       Traceback (most recent call last)",
            "Cell \u001b[0;32mIn[80], line 9\u001b[0m\n\u001b[1;32m      6\u001b[0m ndvixy \u001b[38;5;241m=\u001b[39m (meanval[\u001b[38;5;124m\"\u001b[39m\u001b[38;5;124mnir08\u001b[39m\u001b[38;5;124m\"\u001b[39m] \u001b[38;5;241m-\u001b[39m meanval[\u001b[38;5;124m\"\u001b[39m\u001b[38;5;124mred\u001b[39m\u001b[38;5;124m\"\u001b[39m]) \u001b[38;5;241m/\u001b[39m (meanval[\u001b[38;5;124m\"\u001b[39m\u001b[38;5;124mnir08\u001b[39m\u001b[38;5;124m\"\u001b[39m] \u001b[38;5;241m+\u001b[39m meanval[\u001b[38;5;124m\"\u001b[39m\u001b[38;5;124mred\u001b[39m\u001b[38;5;124m\"\u001b[39m])\n\u001b[1;32m      7\u001b[0m meanval[\u001b[38;5;124m\"\u001b[39m\u001b[38;5;124mndvi\u001b[39m\u001b[38;5;124m\"\u001b[39m] \u001b[38;5;241m=\u001b[39m ndvixy\n\u001b[0;32m----> 9\u001b[0m meanval \u001b[38;5;241m=\u001b[39m \u001b[43mmeanval\u001b[49m\u001b[38;5;241;43m.\u001b[39;49m\u001b[43mload\u001b[49m\u001b[43m(\u001b[49m\u001b[43m)\u001b[49m\n\u001b[1;32m     11\u001b[0m \u001b[38;5;28mprint\u001b[39m(meanval)\n\u001b[1;32m     13\u001b[0m plot_images(\u001b[38;5;124m'\u001b[39m\u001b[38;5;124mSentinel2\u001b[39m\u001b[38;5;124m'\u001b[39m, final_dataset)\n",
            "File \u001b[0;32m~/Prod Documentation/bids2023-hackathon/bids2023/lib/python3.10/site-packages/xarray/core/dataset.py:863\u001b[0m, in \u001b[0;36mDataset.load\u001b[0;34m(self, **kwargs)\u001b[0m\n\u001b[1;32m    860\u001b[0m chunkmanager \u001b[38;5;241m=\u001b[39m get_chunked_array_type(\u001b[38;5;241m*\u001b[39mlazy_data\u001b[38;5;241m.\u001b[39mvalues())\n\u001b[1;32m    862\u001b[0m \u001b[38;5;66;03m# evaluate all the chunked arrays simultaneously\u001b[39;00m\n\u001b[0;32m--> 863\u001b[0m evaluated_data: \u001b[38;5;28mtuple\u001b[39m[np\u001b[38;5;241m.\u001b[39mndarray[Any, Any], \u001b[38;5;241m.\u001b[39m\u001b[38;5;241m.\u001b[39m\u001b[38;5;241m.\u001b[39m] \u001b[38;5;241m=\u001b[39m \u001b[43mchunkmanager\u001b[49m\u001b[38;5;241;43m.\u001b[39;49m\u001b[43mcompute\u001b[49m\u001b[43m(\u001b[49m\n\u001b[1;32m    864\u001b[0m \u001b[43m    \u001b[49m\u001b[38;5;241;43m*\u001b[39;49m\u001b[43mlazy_data\u001b[49m\u001b[38;5;241;43m.\u001b[39;49m\u001b[43mvalues\u001b[49m\u001b[43m(\u001b[49m\u001b[43m)\u001b[49m\u001b[43m,\u001b[49m\u001b[43m \u001b[49m\u001b[38;5;241;43m*\u001b[39;49m\u001b[38;5;241;43m*\u001b[39;49m\u001b[43mkwargs\u001b[49m\n\u001b[1;32m    865\u001b[0m \u001b[43m\u001b[49m\u001b[43m)\u001b[49m\n\u001b[1;32m    867\u001b[0m \u001b[38;5;28;01mfor\u001b[39;00m k, data \u001b[38;5;129;01min\u001b[39;00m \u001b[38;5;28mzip\u001b[39m(lazy_data, evaluated_data):\n\u001b[1;32m    868\u001b[0m     \u001b[38;5;28mself\u001b[39m\u001b[38;5;241m.\u001b[39mvariables[k]\u001b[38;5;241m.\u001b[39mdata \u001b[38;5;241m=\u001b[39m data\n",
            "File \u001b[0;32m~/Prod Documentation/bids2023-hackathon/bids2023/lib/python3.10/site-packages/xarray/namedarray/daskmanager.py:86\u001b[0m, in \u001b[0;36mDaskManager.compute\u001b[0;34m(self, *data, **kwargs)\u001b[0m\n\u001b[1;32m     81\u001b[0m \u001b[38;5;28;01mdef\u001b[39;00m \u001b[38;5;21mcompute\u001b[39m(\n\u001b[1;32m     82\u001b[0m     \u001b[38;5;28mself\u001b[39m, \u001b[38;5;241m*\u001b[39mdata: Any, \u001b[38;5;241m*\u001b[39m\u001b[38;5;241m*\u001b[39mkwargs: Any\n\u001b[1;32m     83\u001b[0m ) \u001b[38;5;241m-\u001b[39m\u001b[38;5;241m>\u001b[39m \u001b[38;5;28mtuple\u001b[39m[np\u001b[38;5;241m.\u001b[39mndarray[Any, _DType_co], \u001b[38;5;241m.\u001b[39m\u001b[38;5;241m.\u001b[39m\u001b[38;5;241m.\u001b[39m]:\n\u001b[1;32m     84\u001b[0m     \u001b[38;5;28;01mfrom\u001b[39;00m \u001b[38;5;21;01mdask\u001b[39;00m\u001b[38;5;21;01m.\u001b[39;00m\u001b[38;5;21;01marray\u001b[39;00m \u001b[38;5;28;01mimport\u001b[39;00m compute\n\u001b[0;32m---> 86\u001b[0m     \u001b[38;5;28;01mreturn\u001b[39;00m \u001b[43mcompute\u001b[49m\u001b[43m(\u001b[49m\u001b[38;5;241;43m*\u001b[39;49m\u001b[43mdata\u001b[49m\u001b[43m,\u001b[49m\u001b[43m \u001b[49m\u001b[38;5;241;43m*\u001b[39;49m\u001b[38;5;241;43m*\u001b[39;49m\u001b[43mkwargs\u001b[49m\u001b[43m)\u001b[49m\n",
            "File \u001b[0;32m~/Prod Documentation/bids2023-hackathon/bids2023/lib/python3.10/site-packages/dask/base.py:662\u001b[0m, in \u001b[0;36mcompute\u001b[0;34m(traverse, optimize_graph, scheduler, get, *args, **kwargs)\u001b[0m\n\u001b[1;32m    659\u001b[0m     postcomputes\u001b[38;5;241m.\u001b[39mappend(x\u001b[38;5;241m.\u001b[39m__dask_postcompute__())\n\u001b[1;32m    661\u001b[0m \u001b[38;5;28;01mwith\u001b[39;00m shorten_traceback():\n\u001b[0;32m--> 662\u001b[0m     results \u001b[38;5;241m=\u001b[39m \u001b[43mschedule\u001b[49m\u001b[43m(\u001b[49m\u001b[43mdsk\u001b[49m\u001b[43m,\u001b[49m\u001b[43m \u001b[49m\u001b[43mkeys\u001b[49m\u001b[43m,\u001b[49m\u001b[43m \u001b[49m\u001b[38;5;241;43m*\u001b[39;49m\u001b[38;5;241;43m*\u001b[39;49m\u001b[43mkwargs\u001b[49m\u001b[43m)\u001b[49m\n\u001b[1;32m    664\u001b[0m \u001b[38;5;28;01mreturn\u001b[39;00m repack([f(r, \u001b[38;5;241m*\u001b[39ma) \u001b[38;5;28;01mfor\u001b[39;00m r, (f, a) \u001b[38;5;129;01min\u001b[39;00m \u001b[38;5;28mzip\u001b[39m(results, postcomputes)])\n",
            "File \u001b[0;32m~/Prod Documentation/bids2023-hackathon/bids2023/lib/python3.10/site-packages/odc/stac/_load.py:696\u001b[0m, in \u001b[0;36m_dask_loader_tyx\u001b[0;34m(srcs, gbt, iyx, cfg, env)\u001b[0m\n\u001b[1;32m    694\u001b[0m \u001b[38;5;28;01mwith\u001b[39;00m rio_env(\u001b[38;5;241m*\u001b[39m\u001b[38;5;241m*\u001b[39menv):\n\u001b[1;32m    695\u001b[0m     \u001b[38;5;28;01mfor\u001b[39;00m i, plane \u001b[38;5;129;01min\u001b[39;00m \u001b[38;5;28menumerate\u001b[39m(srcs):\n\u001b[0;32m--> 696\u001b[0m         \u001b[43m_fill_2d_slice\u001b[49m\u001b[43m(\u001b[49m\u001b[43mplane\u001b[49m\u001b[43m,\u001b[49m\u001b[43m \u001b[49m\u001b[43mgbox\u001b[49m\u001b[43m,\u001b[49m\u001b[43m \u001b[49m\u001b[43mcfg\u001b[49m\u001b[43m,\u001b[49m\u001b[43m \u001b[49m\u001b[43mchunk\u001b[49m\u001b[43m[\u001b[49m\u001b[43mi\u001b[49m\u001b[43m,\u001b[49m\u001b[43m \u001b[49m\u001b[43m:\u001b[49m\u001b[43m,\u001b[49m\u001b[43m \u001b[49m\u001b[43m:\u001b[49m\u001b[43m]\u001b[49m\u001b[43m)\u001b[49m\n\u001b[1;32m    697\u001b[0m     \u001b[38;5;28;01mreturn\u001b[39;00m chunk\n",
            "File \u001b[0;32m~/Prod Documentation/bids2023-hackathon/bids2023/lib/python3.10/site-packages/odc/stac/_load.py:724\u001b[0m, in \u001b[0;36m_fill_2d_slice\u001b[0;34m(srcs, dst_gbox, cfg, dst)\u001b[0m\n\u001b[1;32m    721\u001b[0m     \u001b[38;5;28;01mreturn\u001b[39;00m dst\n\u001b[1;32m    723\u001b[0m src, \u001b[38;5;241m*\u001b[39mrest \u001b[38;5;241m=\u001b[39m srcs\n\u001b[0;32m--> 724\u001b[0m _roi, pix \u001b[38;5;241m=\u001b[39m \u001b[43mrio_read\u001b[49m\u001b[43m(\u001b[49m\u001b[43msrc\u001b[49m\u001b[43m,\u001b[49m\u001b[43m \u001b[49m\u001b[43mcfg\u001b[49m\u001b[43m,\u001b[49m\u001b[43m \u001b[49m\u001b[43mdst_gbox\u001b[49m\u001b[43m,\u001b[49m\u001b[43m \u001b[49m\u001b[43mdst\u001b[49m\u001b[38;5;241;43m=\u001b[39;49m\u001b[43mdst\u001b[49m\u001b[43m)\u001b[49m\n\u001b[1;32m    726\u001b[0m \u001b[38;5;28;01mfor\u001b[39;00m src \u001b[38;5;129;01min\u001b[39;00m rest:\n\u001b[1;32m    727\u001b[0m     \u001b[38;5;66;03m# first valid pixel takes precedence over others\u001b[39;00m\n\u001b[1;32m    728\u001b[0m     _roi, pix \u001b[38;5;241m=\u001b[39m rio_read(src, cfg, dst_gbox)\n",
            "File \u001b[0;32m~/Prod Documentation/bids2023-hackathon/bids2023/lib/python3.10/site-packages/odc/stac/_reader.py:186\u001b[0m, in \u001b[0;36mrio_read\u001b[0;34m(src, cfg, dst_geobox, dst)\u001b[0m\n\u001b[1;32m    163\u001b[0m \u001b[38;5;250m\u001b[39m\u001b[38;5;124;03m\"\"\"\u001b[39;00m\n\u001b[1;32m    164\u001b[0m \u001b[38;5;124;03mInternal read method.\u001b[39;00m\n\u001b[1;32m    165\u001b[0m \n\u001b[0;32m   (...)\u001b[0m\n\u001b[1;32m    182\u001b[0m \n\u001b[1;32m    183\u001b[0m \u001b[38;5;124;03m\"\"\"\u001b[39;00m\n\u001b[1;32m    185\u001b[0m \u001b[38;5;28;01mtry\u001b[39;00m:\n\u001b[0;32m--> 186\u001b[0m     \u001b[38;5;28;01mreturn\u001b[39;00m \u001b[43m_rio_read\u001b[49m\u001b[43m(\u001b[49m\u001b[43msrc\u001b[49m\u001b[43m,\u001b[49m\u001b[43m \u001b[49m\u001b[43mcfg\u001b[49m\u001b[43m,\u001b[49m\u001b[43m \u001b[49m\u001b[43mdst_geobox\u001b[49m\u001b[43m,\u001b[49m\u001b[43m \u001b[49m\u001b[43mdst\u001b[49m\u001b[43m)\u001b[49m\n\u001b[1;32m    187\u001b[0m \u001b[38;5;28;01mexcept\u001b[39;00m (\n\u001b[1;32m    188\u001b[0m     rasterio\u001b[38;5;241m.\u001b[39merrors\u001b[38;5;241m.\u001b[39mRasterioIOError,\n\u001b[1;32m    189\u001b[0m     rasterio\u001b[38;5;241m.\u001b[39merrors\u001b[38;5;241m.\u001b[39mRasterBlockError,\n\u001b[1;32m    190\u001b[0m     rasterio\u001b[38;5;241m.\u001b[39merrors\u001b[38;5;241m.\u001b[39mWarpOperationError,\n\u001b[1;32m    191\u001b[0m     rasterio\u001b[38;5;241m.\u001b[39merrors\u001b[38;5;241m.\u001b[39mWindowEvaluationError,\n\u001b[1;32m    192\u001b[0m ) \u001b[38;5;28;01mas\u001b[39;00m e:\n\u001b[1;32m    193\u001b[0m     \u001b[38;5;28;01mif\u001b[39;00m cfg\u001b[38;5;241m.\u001b[39mfail_on_error:\n",
            "File \u001b[0;32m~/Prod Documentation/bids2023-hackathon/bids2023/lib/python3.10/site-packages/odc/stac/_reader.py:232\u001b[0m, in \u001b[0;36m_rio_read\u001b[0;34m(src, cfg, dst_geobox, dst)\u001b[0m\n\u001b[1;32m    222\u001b[0m \u001b[38;5;28;01mdef\u001b[39;00m \u001b[38;5;21m_rio_read\u001b[39m(\n\u001b[1;32m    223\u001b[0m     src: RasterSource,\n\u001b[1;32m    224\u001b[0m     cfg: RasterLoadParams,\n\u001b[0;32m   (...)\u001b[0m\n\u001b[1;32m    228\u001b[0m     \u001b[38;5;66;03m# if resampling is `nearest` then ignore sub-pixel translation when deciding\u001b[39;00m\n\u001b[1;32m    229\u001b[0m     \u001b[38;5;66;03m# whether we can just paste source into destination\u001b[39;00m\n\u001b[1;32m    230\u001b[0m     ttol \u001b[38;5;241m=\u001b[39m \u001b[38;5;241m0.9\u001b[39m \u001b[38;5;28;01mif\u001b[39;00m cfg\u001b[38;5;241m.\u001b[39mnearest \u001b[38;5;28;01melse\u001b[39;00m \u001b[38;5;241m0.05\u001b[39m\n\u001b[0;32m--> 232\u001b[0m     \u001b[38;5;28;01mwith\u001b[39;00m \u001b[43mrasterio\u001b[49m\u001b[38;5;241;43m.\u001b[39;49m\u001b[43mopen\u001b[49m\u001b[43m(\u001b[49m\u001b[43msrc\u001b[49m\u001b[38;5;241;43m.\u001b[39;49m\u001b[43muri\u001b[49m\u001b[43m,\u001b[49m\u001b[43m \u001b[49m\u001b[38;5;124;43m\"\u001b[39;49m\u001b[38;5;124;43mr\u001b[39;49m\u001b[38;5;124;43m\"\u001b[39;49m\u001b[43m,\u001b[49m\u001b[43m \u001b[49m\u001b[43msharing\u001b[49m\u001b[38;5;241;43m=\u001b[39;49m\u001b[38;5;28;43;01mFalse\u001b[39;49;00m\u001b[43m)\u001b[49m \u001b[38;5;28;01mas\u001b[39;00m rdr:\n\u001b[1;32m    233\u001b[0m         \u001b[38;5;28;01massert\u001b[39;00m \u001b[38;5;28misinstance\u001b[39m(rdr, rasterio\u001b[38;5;241m.\u001b[39mDatasetReader)\n\u001b[1;32m    234\u001b[0m         ovr_idx: Optional[\u001b[38;5;28mint\u001b[39m] \u001b[38;5;241m=\u001b[39m \u001b[38;5;28;01mNone\u001b[39;00m\n",
            "File \u001b[0;32m~/Prod Documentation/bids2023-hackathon/bids2023/lib/python3.10/site-packages/rasterio/env.py:450\u001b[0m, in \u001b[0;36mensure_env_with_credentials.<locals>.wrapper\u001b[0;34m(*args, **kwds)\u001b[0m\n\u001b[1;32m    447\u001b[0m \u001b[38;5;28;01melse\u001b[39;00m:\n\u001b[1;32m    448\u001b[0m     session \u001b[38;5;241m=\u001b[39m DummySession()\n\u001b[0;32m--> 450\u001b[0m \u001b[38;5;28;01mwith\u001b[39;00m env_ctor(session\u001b[38;5;241m=\u001b[39msession):\n\u001b[1;32m    451\u001b[0m     \u001b[38;5;28;01mreturn\u001b[39;00m f(\u001b[38;5;241m*\u001b[39margs, \u001b[38;5;241m*\u001b[39m\u001b[38;5;241m*\u001b[39mkwds)\n",
            "File \u001b[0;32m~/Prod Documentation/bids2023-hackathon/bids2023/lib/python3.10/site-packages/rasterio/env.py:294\u001b[0m, in \u001b[0;36mEnv.__enter__\u001b[0;34m(self)\u001b[0m\n\u001b[1;32m    291\u001b[0m     \u001b[38;5;28mself\u001b[39m\u001b[38;5;241m.\u001b[39mcontext_options \u001b[38;5;241m=\u001b[39m getenv()\n\u001b[1;32m    292\u001b[0m     setenv(\u001b[38;5;241m*\u001b[39m\u001b[38;5;241m*\u001b[39m\u001b[38;5;28mself\u001b[39m\u001b[38;5;241m.\u001b[39moptions)\n\u001b[0;32m--> 294\u001b[0m \u001b[38;5;28;43mself\u001b[39;49m\u001b[38;5;241;43m.\u001b[39;49m\u001b[43mcredentialize\u001b[49m\u001b[43m(\u001b[49m\u001b[43m)\u001b[49m\n\u001b[1;32m    296\u001b[0m log\u001b[38;5;241m.\u001b[39mdebug(\u001b[38;5;124m\"\u001b[39m\u001b[38;5;124mEntered env context: \u001b[39m\u001b[38;5;132;01m%r\u001b[39;00m\u001b[38;5;124m\"\u001b[39m, \u001b[38;5;28mself\u001b[39m)\n\u001b[1;32m    297\u001b[0m \u001b[38;5;28;01mreturn\u001b[39;00m \u001b[38;5;28mself\u001b[39m\n",
            "File \u001b[0;32m~/Prod Documentation/bids2023-hackathon/bids2023/lib/python3.10/site-packages/rasterio/env.py:249\u001b[0m, in \u001b[0;36mEnv.credentialize\u001b[0;34m(self)\u001b[0m\n\u001b[1;32m    238\u001b[0m \u001b[38;5;28;01mdef\u001b[39;00m \u001b[38;5;21mcredentialize\u001b[39m(\u001b[38;5;28mself\u001b[39m):\n\u001b[1;32m    239\u001b[0m \u001b[38;5;250m    \u001b[39m\u001b[38;5;124;03m\"\"\"Get credentials and configure GDAL\u001b[39;00m\n\u001b[1;32m    240\u001b[0m \n\u001b[1;32m    241\u001b[0m \u001b[38;5;124;03m    Note well: this method is a no-op if the GDAL environment\u001b[39;00m\n\u001b[0;32m   (...)\u001b[0m\n\u001b[1;32m    247\u001b[0m \n\u001b[1;32m    248\u001b[0m \u001b[38;5;124;03m    \"\"\"\u001b[39;00m\n\u001b[0;32m--> 249\u001b[0m     cred_opts \u001b[38;5;241m=\u001b[39m \u001b[38;5;28;43mself\u001b[39;49m\u001b[38;5;241;43m.\u001b[39;49m\u001b[43msession\u001b[49m\u001b[38;5;241;43m.\u001b[39;49m\u001b[43mget_credential_options\u001b[49m\u001b[43m(\u001b[49m\u001b[43m)\u001b[49m\n\u001b[1;32m    250\u001b[0m     \u001b[38;5;28mself\u001b[39m\u001b[38;5;241m.\u001b[39moptions\u001b[38;5;241m.\u001b[39mupdate(\u001b[38;5;241m*\u001b[39m\u001b[38;5;241m*\u001b[39mcred_opts)\n\u001b[1;32m    251\u001b[0m     setenv(\u001b[38;5;241m*\u001b[39m\u001b[38;5;241m*\u001b[39mcred_opts)\n",
            "File \u001b[0;32m~/Prod Documentation/bids2023-hackathon/bids2023/lib/python3.10/site-packages/rasterio/session.py:351\u001b[0m, in \u001b[0;36mAWSSession.get_credential_options\u001b[0;34m(self)\u001b[0m\n\u001b[1;32m    349\u001b[0m     \u001b[38;5;28;01mreturn\u001b[39;00m opts\n\u001b[1;32m    350\u001b[0m \u001b[38;5;28;01melse\u001b[39;00m:\n\u001b[0;32m--> 351\u001b[0m     \u001b[38;5;28;01mreturn\u001b[39;00m {k\u001b[38;5;241m.\u001b[39mupper(): v \u001b[38;5;28;01mfor\u001b[39;00m k, v \u001b[38;5;129;01min\u001b[39;00m \u001b[38;5;28;43mself\u001b[39;49m\u001b[38;5;241;43m.\u001b[39;49m\u001b[43mcredentials\u001b[49m\u001b[38;5;241m.\u001b[39mitems()}\n",
            "File \u001b[0;32m~/Prod Documentation/bids2023-hackathon/bids2023/lib/python3.10/site-packages/rasterio/session.py:322\u001b[0m, in \u001b[0;36mAWSSession.credentials\u001b[0;34m(self)\u001b[0m\n\u001b[1;32m    320\u001b[0m res \u001b[38;5;241m=\u001b[39m {}\n\u001b[1;32m    321\u001b[0m \u001b[38;5;28;01mif\u001b[39;00m \u001b[38;5;28mself\u001b[39m\u001b[38;5;241m.\u001b[39m_creds:  \u001b[38;5;66;03m# pragma: no branch\u001b[39;00m\n\u001b[0;32m--> 322\u001b[0m     frozen_creds \u001b[38;5;241m=\u001b[39m \u001b[38;5;28;43mself\u001b[39;49m\u001b[38;5;241;43m.\u001b[39;49m\u001b[43m_creds\u001b[49m\u001b[38;5;241;43m.\u001b[39;49m\u001b[43mget_frozen_credentials\u001b[49m\u001b[43m(\u001b[49m\u001b[43m)\u001b[49m\n\u001b[1;32m    323\u001b[0m     \u001b[38;5;28;01mif\u001b[39;00m frozen_creds\u001b[38;5;241m.\u001b[39maccess_key:  \u001b[38;5;66;03m# pragma: no branch\u001b[39;00m\n\u001b[1;32m    324\u001b[0m         res[\u001b[38;5;124m'\u001b[39m\u001b[38;5;124maws_access_key_id\u001b[39m\u001b[38;5;124m'\u001b[39m] \u001b[38;5;241m=\u001b[39m frozen_creds\u001b[38;5;241m.\u001b[39maccess_key\n",
            "File \u001b[0;32m~/Prod Documentation/bids2023-hackathon/bids2023/lib/python3.10/site-packages/botocore/credentials.py:634\u001b[0m, in \u001b[0;36mRefreshableCredentials.get_frozen_credentials\u001b[0;34m(self)\u001b[0m\n\u001b[1;32m    600\u001b[0m \u001b[38;5;28;01mdef\u001b[39;00m \u001b[38;5;21mget_frozen_credentials\u001b[39m(\u001b[38;5;28mself\u001b[39m):\n\u001b[1;32m    601\u001b[0m \u001b[38;5;250m    \u001b[39m\u001b[38;5;124;03m\"\"\"Return immutable credentials.\u001b[39;00m\n\u001b[1;32m    602\u001b[0m \n\u001b[1;32m    603\u001b[0m \u001b[38;5;124;03m    The ``access_key``, ``secret_key``, and ``token`` properties\u001b[39;00m\n\u001b[0;32m   (...)\u001b[0m\n\u001b[1;32m    632\u001b[0m \n\u001b[1;32m    633\u001b[0m \u001b[38;5;124;03m    \"\"\"\u001b[39;00m\n\u001b[0;32m--> 634\u001b[0m     \u001b[38;5;28;43mself\u001b[39;49m\u001b[38;5;241;43m.\u001b[39;49m\u001b[43m_refresh\u001b[49m\u001b[43m(\u001b[49m\u001b[43m)\u001b[49m\n\u001b[1;32m    635\u001b[0m     \u001b[38;5;28;01mreturn\u001b[39;00m \u001b[38;5;28mself\u001b[39m\u001b[38;5;241m.\u001b[39m_frozen_credentials\n",
            "File \u001b[0;32m~/Prod Documentation/bids2023-hackathon/bids2023/lib/python3.10/site-packages/botocore/credentials.py:522\u001b[0m, in \u001b[0;36mRefreshableCredentials._refresh\u001b[0;34m(self)\u001b[0m\n\u001b[1;32m    518\u001b[0m         \u001b[38;5;28;01mreturn\u001b[39;00m\n\u001b[1;32m    519\u001b[0m     is_mandatory_refresh \u001b[38;5;241m=\u001b[39m \u001b[38;5;28mself\u001b[39m\u001b[38;5;241m.\u001b[39mrefresh_needed(\n\u001b[1;32m    520\u001b[0m         \u001b[38;5;28mself\u001b[39m\u001b[38;5;241m.\u001b[39m_mandatory_refresh_timeout\n\u001b[1;32m    521\u001b[0m     )\n\u001b[0;32m--> 522\u001b[0m     \u001b[38;5;28;43mself\u001b[39;49m\u001b[38;5;241;43m.\u001b[39;49m\u001b[43m_protected_refresh\u001b[49m\u001b[43m(\u001b[49m\u001b[43mis_mandatory\u001b[49m\u001b[38;5;241;43m=\u001b[39;49m\u001b[43mis_mandatory_refresh\u001b[49m\u001b[43m)\u001b[49m\n\u001b[1;32m    523\u001b[0m     \u001b[38;5;28;01mreturn\u001b[39;00m\n\u001b[1;32m    524\u001b[0m \u001b[38;5;28;01mfinally\u001b[39;00m:\n",
            "File \u001b[0;32m~/Prod Documentation/bids2023-hackathon/bids2023/lib/python3.10/site-packages/botocore/credentials.py:538\u001b[0m, in \u001b[0;36mRefreshableCredentials._protected_refresh\u001b[0;34m(self, is_mandatory)\u001b[0m\n\u001b[1;32m    534\u001b[0m \u001b[38;5;28;01mdef\u001b[39;00m \u001b[38;5;21m_protected_refresh\u001b[39m(\u001b[38;5;28mself\u001b[39m, is_mandatory):\n\u001b[1;32m    535\u001b[0m     \u001b[38;5;66;03m# precondition: this method should only be called if you've acquired\u001b[39;00m\n\u001b[1;32m    536\u001b[0m     \u001b[38;5;66;03m# the self._refresh_lock.\u001b[39;00m\n\u001b[1;32m    537\u001b[0m     \u001b[38;5;28;01mtry\u001b[39;00m:\n\u001b[0;32m--> 538\u001b[0m         metadata \u001b[38;5;241m=\u001b[39m \u001b[38;5;28;43mself\u001b[39;49m\u001b[38;5;241;43m.\u001b[39;49m\u001b[43m_refresh_using\u001b[49m\u001b[43m(\u001b[49m\u001b[43m)\u001b[49m\n\u001b[1;32m    539\u001b[0m     \u001b[38;5;28;01mexcept\u001b[39;00m \u001b[38;5;167;01mException\u001b[39;00m:\n\u001b[1;32m    540\u001b[0m         period_name \u001b[38;5;241m=\u001b[39m \u001b[38;5;124m'\u001b[39m\u001b[38;5;124mmandatory\u001b[39m\u001b[38;5;124m'\u001b[39m \u001b[38;5;28;01mif\u001b[39;00m is_mandatory \u001b[38;5;28;01melse\u001b[39;00m \u001b[38;5;124m'\u001b[39m\u001b[38;5;124madvisory\u001b[39m\u001b[38;5;124m'\u001b[39m\n",
            "File \u001b[0;32m~/Prod Documentation/bids2023-hackathon/bids2023/lib/python3.10/site-packages/botocore/credentials.py:685\u001b[0m, in \u001b[0;36mCachedCredentialFetcher.fetch_credentials\u001b[0;34m(self)\u001b[0m\n\u001b[1;32m    684\u001b[0m \u001b[38;5;28;01mdef\u001b[39;00m \u001b[38;5;21mfetch_credentials\u001b[39m(\u001b[38;5;28mself\u001b[39m):\n\u001b[0;32m--> 685\u001b[0m     \u001b[38;5;28;01mreturn\u001b[39;00m \u001b[38;5;28;43mself\u001b[39;49m\u001b[38;5;241;43m.\u001b[39;49m\u001b[43m_get_cached_credentials\u001b[49m\u001b[43m(\u001b[49m\u001b[43m)\u001b[49m\n",
            "File \u001b[0;32m~/Prod Documentation/bids2023-hackathon/bids2023/lib/python3.10/site-packages/botocore/credentials.py:695\u001b[0m, in \u001b[0;36mCachedCredentialFetcher._get_cached_credentials\u001b[0;34m(self)\u001b[0m\n\u001b[1;32m    693\u001b[0m response \u001b[38;5;241m=\u001b[39m \u001b[38;5;28mself\u001b[39m\u001b[38;5;241m.\u001b[39m_load_from_cache()\n\u001b[1;32m    694\u001b[0m \u001b[38;5;28;01mif\u001b[39;00m response \u001b[38;5;129;01mis\u001b[39;00m \u001b[38;5;28;01mNone\u001b[39;00m:\n\u001b[0;32m--> 695\u001b[0m     response \u001b[38;5;241m=\u001b[39m \u001b[38;5;28;43mself\u001b[39;49m\u001b[38;5;241;43m.\u001b[39;49m\u001b[43m_get_credentials\u001b[49m\u001b[43m(\u001b[49m\u001b[43m)\u001b[49m\n\u001b[1;32m    696\u001b[0m     \u001b[38;5;28mself\u001b[39m\u001b[38;5;241m.\u001b[39m_write_to_cache(response)\n\u001b[1;32m    697\u001b[0m \u001b[38;5;28;01melse\u001b[39;00m:\n",
            "File \u001b[0;32m~/Prod Documentation/bids2023-hackathon/bids2023/lib/python3.10/site-packages/botocore/credentials.py:2150\u001b[0m, in \u001b[0;36mSSOCredentialFetcher._get_credentials\u001b[0;34m(self)\u001b[0m\n\u001b[1;32m   2148\u001b[0m \u001b[38;5;28;01mif\u001b[39;00m \u001b[38;5;28mself\u001b[39m\u001b[38;5;241m.\u001b[39m_token_provider:\n\u001b[1;32m   2149\u001b[0m     initial_token_data \u001b[38;5;241m=\u001b[39m \u001b[38;5;28mself\u001b[39m\u001b[38;5;241m.\u001b[39m_token_provider\u001b[38;5;241m.\u001b[39mload_token()\n\u001b[0;32m-> 2150\u001b[0m     token \u001b[38;5;241m=\u001b[39m \u001b[43minitial_token_data\u001b[49m\u001b[38;5;241;43m.\u001b[39;49m\u001b[43mget_frozen_token\u001b[49m\u001b[43m(\u001b[49m\u001b[43m)\u001b[49m\u001b[38;5;241m.\u001b[39mtoken\n\u001b[1;32m   2151\u001b[0m \u001b[38;5;28;01melse\u001b[39;00m:\n\u001b[1;32m   2152\u001b[0m     token \u001b[38;5;241m=\u001b[39m \u001b[38;5;28mself\u001b[39m\u001b[38;5;241m.\u001b[39m_token_loader(\u001b[38;5;28mself\u001b[39m\u001b[38;5;241m.\u001b[39m_start_url)[\u001b[38;5;124m'\u001b[39m\u001b[38;5;124maccessToken\u001b[39m\u001b[38;5;124m'\u001b[39m]\n",
            "File \u001b[0;32m~/Prod Documentation/bids2023-hackathon/bids2023/lib/python3.10/site-packages/botocore/tokens.py:82\u001b[0m, in \u001b[0;36mDeferredRefreshableToken.get_frozen_token\u001b[0;34m(self)\u001b[0m\n\u001b[1;32m     81\u001b[0m \u001b[38;5;28;01mdef\u001b[39;00m \u001b[38;5;21mget_frozen_token\u001b[39m(\u001b[38;5;28mself\u001b[39m):\n\u001b[0;32m---> 82\u001b[0m     \u001b[38;5;28;43mself\u001b[39;49m\u001b[38;5;241;43m.\u001b[39;49m\u001b[43m_refresh\u001b[49m\u001b[43m(\u001b[49m\u001b[43m)\u001b[49m\n\u001b[1;32m     83\u001b[0m     \u001b[38;5;28;01mreturn\u001b[39;00m \u001b[38;5;28mself\u001b[39m\u001b[38;5;241m.\u001b[39m_frozen_token\n",
            "File \u001b[0;32m~/Prod Documentation/bids2023-hackathon/bids2023/lib/python3.10/site-packages/botocore/tokens.py:95\u001b[0m, in \u001b[0;36mDeferredRefreshableToken._refresh\u001b[0;34m(self)\u001b[0m\n\u001b[1;32m     93\u001b[0m \u001b[38;5;28;01mif\u001b[39;00m \u001b[38;5;28mself\u001b[39m\u001b[38;5;241m.\u001b[39m_refresh_lock\u001b[38;5;241m.\u001b[39macquire(block_for_refresh):\n\u001b[1;32m     94\u001b[0m     \u001b[38;5;28;01mtry\u001b[39;00m:\n\u001b[0;32m---> 95\u001b[0m         \u001b[38;5;28;43mself\u001b[39;49m\u001b[38;5;241;43m.\u001b[39;49m\u001b[43m_protected_refresh\u001b[49m\u001b[43m(\u001b[49m\u001b[43m)\u001b[49m\n\u001b[1;32m     96\u001b[0m     \u001b[38;5;28;01mfinally\u001b[39;00m:\n\u001b[1;32m     97\u001b[0m         \u001b[38;5;28mself\u001b[39m\u001b[38;5;241m.\u001b[39m_refresh_lock\u001b[38;5;241m.\u001b[39mrelease()\n",
            "File \u001b[0;32m~/Prod Documentation/bids2023-hackathon/bids2023/lib/python3.10/site-packages/botocore/tokens.py:122\u001b[0m, in \u001b[0;36mDeferredRefreshableToken._protected_refresh\u001b[0;34m(self)\u001b[0m\n\u001b[1;32m    118\u001b[0m         \u001b[38;5;28;01mraise\u001b[39;00m\n\u001b[1;32m    120\u001b[0m \u001b[38;5;28;01mif\u001b[39;00m \u001b[38;5;28mself\u001b[39m\u001b[38;5;241m.\u001b[39m_is_expired():\n\u001b[1;32m    121\u001b[0m     \u001b[38;5;66;03m# Fresh credentials should never be expired\u001b[39;00m\n\u001b[0;32m--> 122\u001b[0m     \u001b[38;5;28;01mraise\u001b[39;00m TokenRetrievalError(\n\u001b[1;32m    123\u001b[0m         provider\u001b[38;5;241m=\u001b[39m\u001b[38;5;28mself\u001b[39m\u001b[38;5;241m.\u001b[39mmethod,\n\u001b[1;32m    124\u001b[0m         error_msg\u001b[38;5;241m=\u001b[39m\u001b[38;5;124m\"\u001b[39m\u001b[38;5;124mToken has expired and refresh failed\u001b[39m\u001b[38;5;124m\"\u001b[39m,\n\u001b[1;32m    125\u001b[0m     )\n",
            "\u001b[0;31mTokenRetrievalError\u001b[0m: Error when retrieving token from sso: Token has expired and refresh failed"
          ]
        }
      ],
      "source": [
        "# NDVI plot\n",
        "\n",
        "meanval = final_dataset.mean(('x','y'))\n",
        "meanval.attrs['sensor'] = \"Sentinel2\"\n",
        "\n",
        "ndvixy = (meanval[\"nir08\"] - meanval[\"red\"]) / (meanval[\"nir08\"] + meanval[\"red\"])\n",
        "meanval[\"ndvi\"] = ndvixy\n",
        "\n",
        "meanval = meanval.load()\n",
        "\n",
        "print(meanval)\n",
        "\n",
        "plot_images('Sentinel2', final_dataset)"
      ]
    },
    {
      "cell_type": "markdown",
      "id": "214c512c-2e8e-433b-87a7-a96e8b976500",
      "metadata": {
        "id": "214c512c-2e8e-433b-87a7-a96e8b976500"
      },
      "source": [
        "## Generate and load the Mosaics datacube"
      ]
    },
    {
      "cell_type": "code",
      "execution_count": 40,
      "id": "632b9222-c39d-4da2-ae07-1505b172d77f",
      "metadata": {
        "colab": {
          "base_uri": "https://localhost:8080/"
        },
        "id": "632b9222-c39d-4da2-ae07-1505b172d77f",
        "outputId": "f83b65a1-0f2e-40c7-fde6-1473f9b07550"
      },
      "outputs": [
        {
          "name": "stdout",
          "output_type": "stream",
          "text": [
            "Collection - ai-ready-mosaics from 2021-01-01 to 2021-12-31\n",
            "Found: 11 datasets\n",
            "<xarray.Dataset> Size: 268kB\n",
            "Dimensions:      (y: 40, x: 38, time: 11)\n",
            "Coordinates:\n",
            "  * y            (y) float64 320B -3.446e+06 -3.446e+06 ... -3.446e+06\n",
            "  * x            (x) float64 304B -6.01e+06 -6.01e+06 ... -6.009e+06 -6.009e+06\n",
            "    spatial_ref  int32 4B 3857\n",
            "  * time         (time) datetime64[ns] 88B 2021-11-08T13:40:39.013000 ... 202...\n",
            "Data variables:\n",
            "    red          (time, y, x) float32 67kB dask.array<chunksize=(1, 40, 38), meta=np.ndarray>\n",
            "    green        (time, y, x) float32 67kB dask.array<chunksize=(1, 40, 38), meta=np.ndarray>\n",
            "    blue         (time, y, x) float32 67kB dask.array<chunksize=(1, 40, 38), meta=np.ndarray>\n",
            "    nir08        (time, y, x) float32 67kB dask.array<chunksize=(1, 40, 38), meta=np.ndarray>\n"
          ]
        }
      ],
      "source": [
        "# Set a start and end date\n",
        "start_date = \"2021-01-01\"\n",
        "end_date = \"2021-12-31\"\n",
        "\n",
        "# Mosaic dataset\n",
        "COLLECTION = \"ai-ready-mosaics\"\n",
        "\n",
        "query1 = catalog.search(\n",
        "    collections=[COLLECTION],\n",
        "    datetime=f\"{start_date}/{end_date}\",\n",
        "    bbox=bbox,\n",
        ")\n",
        "\n",
        "mitems = list(query1.items())\n",
        "required_assets = [\"red\", \"green\", \"blue\", \"nir08\"]\n",
        "\n",
        "print(f\"Collection - {COLLECTION} from {start_date} to {end_date}\" )\n",
        "print(f\"Found: {len(mitems):d} datasets\")\n",
        "\n",
        "datasetv = stac_load(\n",
        "    mitems,\n",
        "    bands=(\"red\", \"green\", \"blue\",\"nir08\"),\n",
        "    crs=\"epsg:3857\", # since resolution is in metres, we need to use a projected CRS\n",
        "    resolution=5, # the resolution of the output image in metres\n",
        "    chunks={'x': 2048, 'y': 2048},\n",
        "    # chunks={},  # Uncomment if using dask cluster\n",
        "    groupby=\"id\",\n",
        "    bbox=bbox,\n",
        ")\n",
        "\n",
        "print(datasetv)\n"
      ]
    },
    {
      "cell_type": "markdown",
      "id": "swXJo543EpII",
      "metadata": {
        "id": "swXJo543EpII"
      },
      "source": [
        "### Get the Mosaics ndvi"
      ]
    },
    {
      "cell_type": "code",
      "execution_count": 41,
      "id": "5ou39CXJEtZf",
      "metadata": {
        "colab": {
          "base_uri": "https://localhost:8080/",
          "height": 654
        },
        "id": "5ou39CXJEtZf",
        "outputId": "b4ad9148-6bf6-4dcb-bd97-fcf0a3392e99"
      },
      "outputs": [
        {
          "ename": "TokenRetrievalError",
          "evalue": "Error when retrieving token from sso: Token has expired and refresh failed",
          "output_type": "error",
          "traceback": [
            "\u001b[0;31m---------------------------------------------------------------------------\u001b[0m",
            "\u001b[0;31mTokenRetrievalError\u001b[0m                       Traceback (most recent call last)",
            "Cell \u001b[0;32mIn[61], line 13\u001b[0m\n\u001b[1;32m     10\u001b[0m ndvixyV \u001b[38;5;241m=\u001b[39m (meanvalV[\u001b[38;5;124m\"\u001b[39m\u001b[38;5;124mnir08\u001b[39m\u001b[38;5;124m\"\u001b[39m] \u001b[38;5;241m-\u001b[39m meanvalV[\u001b[38;5;124m\"\u001b[39m\u001b[38;5;124mred\u001b[39m\u001b[38;5;124m\"\u001b[39m]) \u001b[38;5;241m/\u001b[39m (meanvalV[\u001b[38;5;124m\"\u001b[39m\u001b[38;5;124mnir08\u001b[39m\u001b[38;5;124m\"\u001b[39m] \u001b[38;5;241m+\u001b[39m meanvalV[\u001b[38;5;124m\"\u001b[39m\u001b[38;5;124mred\u001b[39m\u001b[38;5;124m\"\u001b[39m])\n\u001b[1;32m     11\u001b[0m meanvalV[\u001b[38;5;124m\"\u001b[39m\u001b[38;5;124mndvi\u001b[39m\u001b[38;5;124m\"\u001b[39m] \u001b[38;5;241m=\u001b[39m ndvixyV\n\u001b[0;32m---> 13\u001b[0m meanvalV \u001b[38;5;241m=\u001b[39m \u001b[43mmeanvalV\u001b[49m\u001b[38;5;241;43m.\u001b[39;49m\u001b[43mload\u001b[49m\u001b[43m(\u001b[49m\u001b[43m)\u001b[49m\n\u001b[1;32m     14\u001b[0m \u001b[38;5;28mprint\u001b[39m (meanvalV)\n\u001b[1;32m     16\u001b[0m plot_images(\u001b[38;5;124m'\u001b[39m\u001b[38;5;124mMosaics\u001b[39m\u001b[38;5;124m'\u001b[39m, datasetv, \u001b[38;5;241m1000\u001b[39m)\n",
            "File \u001b[0;32m~/Prod Documentation/bids2023-hackathon/bids2023/lib/python3.10/site-packages/xarray/core/dataset.py:863\u001b[0m, in \u001b[0;36mDataset.load\u001b[0;34m(self, **kwargs)\u001b[0m\n\u001b[1;32m    860\u001b[0m chunkmanager \u001b[38;5;241m=\u001b[39m get_chunked_array_type(\u001b[38;5;241m*\u001b[39mlazy_data\u001b[38;5;241m.\u001b[39mvalues())\n\u001b[1;32m    862\u001b[0m \u001b[38;5;66;03m# evaluate all the chunked arrays simultaneously\u001b[39;00m\n\u001b[0;32m--> 863\u001b[0m evaluated_data: \u001b[38;5;28mtuple\u001b[39m[np\u001b[38;5;241m.\u001b[39mndarray[Any, Any], \u001b[38;5;241m.\u001b[39m\u001b[38;5;241m.\u001b[39m\u001b[38;5;241m.\u001b[39m] \u001b[38;5;241m=\u001b[39m \u001b[43mchunkmanager\u001b[49m\u001b[38;5;241;43m.\u001b[39;49m\u001b[43mcompute\u001b[49m\u001b[43m(\u001b[49m\n\u001b[1;32m    864\u001b[0m \u001b[43m    \u001b[49m\u001b[38;5;241;43m*\u001b[39;49m\u001b[43mlazy_data\u001b[49m\u001b[38;5;241;43m.\u001b[39;49m\u001b[43mvalues\u001b[49m\u001b[43m(\u001b[49m\u001b[43m)\u001b[49m\u001b[43m,\u001b[49m\u001b[43m \u001b[49m\u001b[38;5;241;43m*\u001b[39;49m\u001b[38;5;241;43m*\u001b[39;49m\u001b[43mkwargs\u001b[49m\n\u001b[1;32m    865\u001b[0m \u001b[43m\u001b[49m\u001b[43m)\u001b[49m\n\u001b[1;32m    867\u001b[0m \u001b[38;5;28;01mfor\u001b[39;00m k, data \u001b[38;5;129;01min\u001b[39;00m \u001b[38;5;28mzip\u001b[39m(lazy_data, evaluated_data):\n\u001b[1;32m    868\u001b[0m     \u001b[38;5;28mself\u001b[39m\u001b[38;5;241m.\u001b[39mvariables[k]\u001b[38;5;241m.\u001b[39mdata \u001b[38;5;241m=\u001b[39m data\n",
            "File \u001b[0;32m~/Prod Documentation/bids2023-hackathon/bids2023/lib/python3.10/site-packages/xarray/namedarray/daskmanager.py:86\u001b[0m, in \u001b[0;36mDaskManager.compute\u001b[0;34m(self, *data, **kwargs)\u001b[0m\n\u001b[1;32m     81\u001b[0m \u001b[38;5;28;01mdef\u001b[39;00m \u001b[38;5;21mcompute\u001b[39m(\n\u001b[1;32m     82\u001b[0m     \u001b[38;5;28mself\u001b[39m, \u001b[38;5;241m*\u001b[39mdata: Any, \u001b[38;5;241m*\u001b[39m\u001b[38;5;241m*\u001b[39mkwargs: Any\n\u001b[1;32m     83\u001b[0m ) \u001b[38;5;241m-\u001b[39m\u001b[38;5;241m>\u001b[39m \u001b[38;5;28mtuple\u001b[39m[np\u001b[38;5;241m.\u001b[39mndarray[Any, _DType_co], \u001b[38;5;241m.\u001b[39m\u001b[38;5;241m.\u001b[39m\u001b[38;5;241m.\u001b[39m]:\n\u001b[1;32m     84\u001b[0m     \u001b[38;5;28;01mfrom\u001b[39;00m \u001b[38;5;21;01mdask\u001b[39;00m\u001b[38;5;21;01m.\u001b[39;00m\u001b[38;5;21;01marray\u001b[39;00m \u001b[38;5;28;01mimport\u001b[39;00m compute\n\u001b[0;32m---> 86\u001b[0m     \u001b[38;5;28;01mreturn\u001b[39;00m \u001b[43mcompute\u001b[49m\u001b[43m(\u001b[49m\u001b[38;5;241;43m*\u001b[39;49m\u001b[43mdata\u001b[49m\u001b[43m,\u001b[49m\u001b[43m \u001b[49m\u001b[38;5;241;43m*\u001b[39;49m\u001b[38;5;241;43m*\u001b[39;49m\u001b[43mkwargs\u001b[49m\u001b[43m)\u001b[49m\n",
            "File \u001b[0;32m~/Prod Documentation/bids2023-hackathon/bids2023/lib/python3.10/site-packages/dask/base.py:662\u001b[0m, in \u001b[0;36mcompute\u001b[0;34m(traverse, optimize_graph, scheduler, get, *args, **kwargs)\u001b[0m\n\u001b[1;32m    659\u001b[0m     postcomputes\u001b[38;5;241m.\u001b[39mappend(x\u001b[38;5;241m.\u001b[39m__dask_postcompute__())\n\u001b[1;32m    661\u001b[0m \u001b[38;5;28;01mwith\u001b[39;00m shorten_traceback():\n\u001b[0;32m--> 662\u001b[0m     results \u001b[38;5;241m=\u001b[39m \u001b[43mschedule\u001b[49m\u001b[43m(\u001b[49m\u001b[43mdsk\u001b[49m\u001b[43m,\u001b[49m\u001b[43m \u001b[49m\u001b[43mkeys\u001b[49m\u001b[43m,\u001b[49m\u001b[43m \u001b[49m\u001b[38;5;241;43m*\u001b[39;49m\u001b[38;5;241;43m*\u001b[39;49m\u001b[43mkwargs\u001b[49m\u001b[43m)\u001b[49m\n\u001b[1;32m    664\u001b[0m \u001b[38;5;28;01mreturn\u001b[39;00m repack([f(r, \u001b[38;5;241m*\u001b[39ma) \u001b[38;5;28;01mfor\u001b[39;00m r, (f, a) \u001b[38;5;129;01min\u001b[39;00m \u001b[38;5;28mzip\u001b[39m(results, postcomputes)])\n",
            "File \u001b[0;32m~/Prod Documentation/bids2023-hackathon/bids2023/lib/python3.10/site-packages/odc/stac/_load.py:696\u001b[0m, in \u001b[0;36m_dask_loader_tyx\u001b[0;34m(srcs, gbt, iyx, cfg, env)\u001b[0m\n\u001b[1;32m    694\u001b[0m \u001b[38;5;28;01mwith\u001b[39;00m rio_env(\u001b[38;5;241m*\u001b[39m\u001b[38;5;241m*\u001b[39menv):\n\u001b[1;32m    695\u001b[0m     \u001b[38;5;28;01mfor\u001b[39;00m i, plane \u001b[38;5;129;01min\u001b[39;00m \u001b[38;5;28menumerate\u001b[39m(srcs):\n\u001b[0;32m--> 696\u001b[0m         \u001b[43m_fill_2d_slice\u001b[49m\u001b[43m(\u001b[49m\u001b[43mplane\u001b[49m\u001b[43m,\u001b[49m\u001b[43m \u001b[49m\u001b[43mgbox\u001b[49m\u001b[43m,\u001b[49m\u001b[43m \u001b[49m\u001b[43mcfg\u001b[49m\u001b[43m,\u001b[49m\u001b[43m \u001b[49m\u001b[43mchunk\u001b[49m\u001b[43m[\u001b[49m\u001b[43mi\u001b[49m\u001b[43m,\u001b[49m\u001b[43m \u001b[49m\u001b[43m:\u001b[49m\u001b[43m,\u001b[49m\u001b[43m \u001b[49m\u001b[43m:\u001b[49m\u001b[43m]\u001b[49m\u001b[43m)\u001b[49m\n\u001b[1;32m    697\u001b[0m     \u001b[38;5;28;01mreturn\u001b[39;00m chunk\n",
            "File \u001b[0;32m~/Prod Documentation/bids2023-hackathon/bids2023/lib/python3.10/site-packages/odc/stac/_load.py:724\u001b[0m, in \u001b[0;36m_fill_2d_slice\u001b[0;34m(srcs, dst_gbox, cfg, dst)\u001b[0m\n\u001b[1;32m    721\u001b[0m     \u001b[38;5;28;01mreturn\u001b[39;00m dst\n\u001b[1;32m    723\u001b[0m src, \u001b[38;5;241m*\u001b[39mrest \u001b[38;5;241m=\u001b[39m srcs\n\u001b[0;32m--> 724\u001b[0m _roi, pix \u001b[38;5;241m=\u001b[39m \u001b[43mrio_read\u001b[49m\u001b[43m(\u001b[49m\u001b[43msrc\u001b[49m\u001b[43m,\u001b[49m\u001b[43m \u001b[49m\u001b[43mcfg\u001b[49m\u001b[43m,\u001b[49m\u001b[43m \u001b[49m\u001b[43mdst_gbox\u001b[49m\u001b[43m,\u001b[49m\u001b[43m \u001b[49m\u001b[43mdst\u001b[49m\u001b[38;5;241;43m=\u001b[39;49m\u001b[43mdst\u001b[49m\u001b[43m)\u001b[49m\n\u001b[1;32m    726\u001b[0m \u001b[38;5;28;01mfor\u001b[39;00m src \u001b[38;5;129;01min\u001b[39;00m rest:\n\u001b[1;32m    727\u001b[0m     \u001b[38;5;66;03m# first valid pixel takes precedence over others\u001b[39;00m\n\u001b[1;32m    728\u001b[0m     _roi, pix \u001b[38;5;241m=\u001b[39m rio_read(src, cfg, dst_gbox)\n",
            "File \u001b[0;32m~/Prod Documentation/bids2023-hackathon/bids2023/lib/python3.10/site-packages/odc/stac/_reader.py:186\u001b[0m, in \u001b[0;36mrio_read\u001b[0;34m(src, cfg, dst_geobox, dst)\u001b[0m\n\u001b[1;32m    163\u001b[0m \u001b[38;5;250m\u001b[39m\u001b[38;5;124;03m\"\"\"\u001b[39;00m\n\u001b[1;32m    164\u001b[0m \u001b[38;5;124;03mInternal read method.\u001b[39;00m\n\u001b[1;32m    165\u001b[0m \n\u001b[0;32m   (...)\u001b[0m\n\u001b[1;32m    182\u001b[0m \n\u001b[1;32m    183\u001b[0m \u001b[38;5;124;03m\"\"\"\u001b[39;00m\n\u001b[1;32m    185\u001b[0m \u001b[38;5;28;01mtry\u001b[39;00m:\n\u001b[0;32m--> 186\u001b[0m     \u001b[38;5;28;01mreturn\u001b[39;00m \u001b[43m_rio_read\u001b[49m\u001b[43m(\u001b[49m\u001b[43msrc\u001b[49m\u001b[43m,\u001b[49m\u001b[43m \u001b[49m\u001b[43mcfg\u001b[49m\u001b[43m,\u001b[49m\u001b[43m \u001b[49m\u001b[43mdst_geobox\u001b[49m\u001b[43m,\u001b[49m\u001b[43m \u001b[49m\u001b[43mdst\u001b[49m\u001b[43m)\u001b[49m\n\u001b[1;32m    187\u001b[0m \u001b[38;5;28;01mexcept\u001b[39;00m (\n\u001b[1;32m    188\u001b[0m     rasterio\u001b[38;5;241m.\u001b[39merrors\u001b[38;5;241m.\u001b[39mRasterioIOError,\n\u001b[1;32m    189\u001b[0m     rasterio\u001b[38;5;241m.\u001b[39merrors\u001b[38;5;241m.\u001b[39mRasterBlockError,\n\u001b[1;32m    190\u001b[0m     rasterio\u001b[38;5;241m.\u001b[39merrors\u001b[38;5;241m.\u001b[39mWarpOperationError,\n\u001b[1;32m    191\u001b[0m     rasterio\u001b[38;5;241m.\u001b[39merrors\u001b[38;5;241m.\u001b[39mWindowEvaluationError,\n\u001b[1;32m    192\u001b[0m ) \u001b[38;5;28;01mas\u001b[39;00m e:\n\u001b[1;32m    193\u001b[0m     \u001b[38;5;28;01mif\u001b[39;00m cfg\u001b[38;5;241m.\u001b[39mfail_on_error:\n",
            "File \u001b[0;32m~/Prod Documentation/bids2023-hackathon/bids2023/lib/python3.10/site-packages/odc/stac/_reader.py:232\u001b[0m, in \u001b[0;36m_rio_read\u001b[0;34m(src, cfg, dst_geobox, dst)\u001b[0m\n\u001b[1;32m    222\u001b[0m \u001b[38;5;28;01mdef\u001b[39;00m \u001b[38;5;21m_rio_read\u001b[39m(\n\u001b[1;32m    223\u001b[0m     src: RasterSource,\n\u001b[1;32m    224\u001b[0m     cfg: RasterLoadParams,\n\u001b[0;32m   (...)\u001b[0m\n\u001b[1;32m    228\u001b[0m     \u001b[38;5;66;03m# if resampling is `nearest` then ignore sub-pixel translation when deciding\u001b[39;00m\n\u001b[1;32m    229\u001b[0m     \u001b[38;5;66;03m# whether we can just paste source into destination\u001b[39;00m\n\u001b[1;32m    230\u001b[0m     ttol \u001b[38;5;241m=\u001b[39m \u001b[38;5;241m0.9\u001b[39m \u001b[38;5;28;01mif\u001b[39;00m cfg\u001b[38;5;241m.\u001b[39mnearest \u001b[38;5;28;01melse\u001b[39;00m \u001b[38;5;241m0.05\u001b[39m\n\u001b[0;32m--> 232\u001b[0m     \u001b[38;5;28;01mwith\u001b[39;00m \u001b[43mrasterio\u001b[49m\u001b[38;5;241;43m.\u001b[39;49m\u001b[43mopen\u001b[49m\u001b[43m(\u001b[49m\u001b[43msrc\u001b[49m\u001b[38;5;241;43m.\u001b[39;49m\u001b[43muri\u001b[49m\u001b[43m,\u001b[49m\u001b[43m \u001b[49m\u001b[38;5;124;43m\"\u001b[39;49m\u001b[38;5;124;43mr\u001b[39;49m\u001b[38;5;124;43m\"\u001b[39;49m\u001b[43m,\u001b[49m\u001b[43m \u001b[49m\u001b[43msharing\u001b[49m\u001b[38;5;241;43m=\u001b[39;49m\u001b[38;5;28;43;01mFalse\u001b[39;49;00m\u001b[43m)\u001b[49m \u001b[38;5;28;01mas\u001b[39;00m rdr:\n\u001b[1;32m    233\u001b[0m         \u001b[38;5;28;01massert\u001b[39;00m \u001b[38;5;28misinstance\u001b[39m(rdr, rasterio\u001b[38;5;241m.\u001b[39mDatasetReader)\n\u001b[1;32m    234\u001b[0m         ovr_idx: Optional[\u001b[38;5;28mint\u001b[39m] \u001b[38;5;241m=\u001b[39m \u001b[38;5;28;01mNone\u001b[39;00m\n",
            "File \u001b[0;32m~/Prod Documentation/bids2023-hackathon/bids2023/lib/python3.10/site-packages/rasterio/env.py:450\u001b[0m, in \u001b[0;36mensure_env_with_credentials.<locals>.wrapper\u001b[0;34m(*args, **kwds)\u001b[0m\n\u001b[1;32m    447\u001b[0m \u001b[38;5;28;01melse\u001b[39;00m:\n\u001b[1;32m    448\u001b[0m     session \u001b[38;5;241m=\u001b[39m DummySession()\n\u001b[0;32m--> 450\u001b[0m \u001b[38;5;28;01mwith\u001b[39;00m env_ctor(session\u001b[38;5;241m=\u001b[39msession):\n\u001b[1;32m    451\u001b[0m     \u001b[38;5;28;01mreturn\u001b[39;00m f(\u001b[38;5;241m*\u001b[39margs, \u001b[38;5;241m*\u001b[39m\u001b[38;5;241m*\u001b[39mkwds)\n",
            "File \u001b[0;32m~/Prod Documentation/bids2023-hackathon/bids2023/lib/python3.10/site-packages/rasterio/env.py:294\u001b[0m, in \u001b[0;36mEnv.__enter__\u001b[0;34m(self)\u001b[0m\n\u001b[1;32m    291\u001b[0m     \u001b[38;5;28mself\u001b[39m\u001b[38;5;241m.\u001b[39mcontext_options \u001b[38;5;241m=\u001b[39m getenv()\n\u001b[1;32m    292\u001b[0m     setenv(\u001b[38;5;241m*\u001b[39m\u001b[38;5;241m*\u001b[39m\u001b[38;5;28mself\u001b[39m\u001b[38;5;241m.\u001b[39moptions)\n\u001b[0;32m--> 294\u001b[0m \u001b[38;5;28;43mself\u001b[39;49m\u001b[38;5;241;43m.\u001b[39;49m\u001b[43mcredentialize\u001b[49m\u001b[43m(\u001b[49m\u001b[43m)\u001b[49m\n\u001b[1;32m    296\u001b[0m log\u001b[38;5;241m.\u001b[39mdebug(\u001b[38;5;124m\"\u001b[39m\u001b[38;5;124mEntered env context: \u001b[39m\u001b[38;5;132;01m%r\u001b[39;00m\u001b[38;5;124m\"\u001b[39m, \u001b[38;5;28mself\u001b[39m)\n\u001b[1;32m    297\u001b[0m \u001b[38;5;28;01mreturn\u001b[39;00m \u001b[38;5;28mself\u001b[39m\n",
            "File \u001b[0;32m~/Prod Documentation/bids2023-hackathon/bids2023/lib/python3.10/site-packages/rasterio/env.py:249\u001b[0m, in \u001b[0;36mEnv.credentialize\u001b[0;34m(self)\u001b[0m\n\u001b[1;32m    238\u001b[0m \u001b[38;5;28;01mdef\u001b[39;00m \u001b[38;5;21mcredentialize\u001b[39m(\u001b[38;5;28mself\u001b[39m):\n\u001b[1;32m    239\u001b[0m \u001b[38;5;250m    \u001b[39m\u001b[38;5;124;03m\"\"\"Get credentials and configure GDAL\u001b[39;00m\n\u001b[1;32m    240\u001b[0m \n\u001b[1;32m    241\u001b[0m \u001b[38;5;124;03m    Note well: this method is a no-op if the GDAL environment\u001b[39;00m\n\u001b[0;32m   (...)\u001b[0m\n\u001b[1;32m    247\u001b[0m \n\u001b[1;32m    248\u001b[0m \u001b[38;5;124;03m    \"\"\"\u001b[39;00m\n\u001b[0;32m--> 249\u001b[0m     cred_opts \u001b[38;5;241m=\u001b[39m \u001b[38;5;28;43mself\u001b[39;49m\u001b[38;5;241;43m.\u001b[39;49m\u001b[43msession\u001b[49m\u001b[38;5;241;43m.\u001b[39;49m\u001b[43mget_credential_options\u001b[49m\u001b[43m(\u001b[49m\u001b[43m)\u001b[49m\n\u001b[1;32m    250\u001b[0m     \u001b[38;5;28mself\u001b[39m\u001b[38;5;241m.\u001b[39moptions\u001b[38;5;241m.\u001b[39mupdate(\u001b[38;5;241m*\u001b[39m\u001b[38;5;241m*\u001b[39mcred_opts)\n\u001b[1;32m    251\u001b[0m     setenv(\u001b[38;5;241m*\u001b[39m\u001b[38;5;241m*\u001b[39mcred_opts)\n",
            "File \u001b[0;32m~/Prod Documentation/bids2023-hackathon/bids2023/lib/python3.10/site-packages/rasterio/session.py:351\u001b[0m, in \u001b[0;36mAWSSession.get_credential_options\u001b[0;34m(self)\u001b[0m\n\u001b[1;32m    349\u001b[0m     \u001b[38;5;28;01mreturn\u001b[39;00m opts\n\u001b[1;32m    350\u001b[0m \u001b[38;5;28;01melse\u001b[39;00m:\n\u001b[0;32m--> 351\u001b[0m     \u001b[38;5;28;01mreturn\u001b[39;00m {k\u001b[38;5;241m.\u001b[39mupper(): v \u001b[38;5;28;01mfor\u001b[39;00m k, v \u001b[38;5;129;01min\u001b[39;00m \u001b[38;5;28;43mself\u001b[39;49m\u001b[38;5;241;43m.\u001b[39;49m\u001b[43mcredentials\u001b[49m\u001b[38;5;241m.\u001b[39mitems()}\n",
            "File \u001b[0;32m~/Prod Documentation/bids2023-hackathon/bids2023/lib/python3.10/site-packages/rasterio/session.py:322\u001b[0m, in \u001b[0;36mAWSSession.credentials\u001b[0;34m(self)\u001b[0m\n\u001b[1;32m    320\u001b[0m res \u001b[38;5;241m=\u001b[39m {}\n\u001b[1;32m    321\u001b[0m \u001b[38;5;28;01mif\u001b[39;00m \u001b[38;5;28mself\u001b[39m\u001b[38;5;241m.\u001b[39m_creds:  \u001b[38;5;66;03m# pragma: no branch\u001b[39;00m\n\u001b[0;32m--> 322\u001b[0m     frozen_creds \u001b[38;5;241m=\u001b[39m \u001b[38;5;28;43mself\u001b[39;49m\u001b[38;5;241;43m.\u001b[39;49m\u001b[43m_creds\u001b[49m\u001b[38;5;241;43m.\u001b[39;49m\u001b[43mget_frozen_credentials\u001b[49m\u001b[43m(\u001b[49m\u001b[43m)\u001b[49m\n\u001b[1;32m    323\u001b[0m     \u001b[38;5;28;01mif\u001b[39;00m frozen_creds\u001b[38;5;241m.\u001b[39maccess_key:  \u001b[38;5;66;03m# pragma: no branch\u001b[39;00m\n\u001b[1;32m    324\u001b[0m         res[\u001b[38;5;124m'\u001b[39m\u001b[38;5;124maws_access_key_id\u001b[39m\u001b[38;5;124m'\u001b[39m] \u001b[38;5;241m=\u001b[39m frozen_creds\u001b[38;5;241m.\u001b[39maccess_key\n",
            "File \u001b[0;32m~/Prod Documentation/bids2023-hackathon/bids2023/lib/python3.10/site-packages/botocore/credentials.py:634\u001b[0m, in \u001b[0;36mRefreshableCredentials.get_frozen_credentials\u001b[0;34m(self)\u001b[0m\n\u001b[1;32m    600\u001b[0m \u001b[38;5;28;01mdef\u001b[39;00m \u001b[38;5;21mget_frozen_credentials\u001b[39m(\u001b[38;5;28mself\u001b[39m):\n\u001b[1;32m    601\u001b[0m \u001b[38;5;250m    \u001b[39m\u001b[38;5;124;03m\"\"\"Return immutable credentials.\u001b[39;00m\n\u001b[1;32m    602\u001b[0m \n\u001b[1;32m    603\u001b[0m \u001b[38;5;124;03m    The ``access_key``, ``secret_key``, and ``token`` properties\u001b[39;00m\n\u001b[0;32m   (...)\u001b[0m\n\u001b[1;32m    632\u001b[0m \n\u001b[1;32m    633\u001b[0m \u001b[38;5;124;03m    \"\"\"\u001b[39;00m\n\u001b[0;32m--> 634\u001b[0m     \u001b[38;5;28;43mself\u001b[39;49m\u001b[38;5;241;43m.\u001b[39;49m\u001b[43m_refresh\u001b[49m\u001b[43m(\u001b[49m\u001b[43m)\u001b[49m\n\u001b[1;32m    635\u001b[0m     \u001b[38;5;28;01mreturn\u001b[39;00m \u001b[38;5;28mself\u001b[39m\u001b[38;5;241m.\u001b[39m_frozen_credentials\n",
            "File \u001b[0;32m~/Prod Documentation/bids2023-hackathon/bids2023/lib/python3.10/site-packages/botocore/credentials.py:522\u001b[0m, in \u001b[0;36mRefreshableCredentials._refresh\u001b[0;34m(self)\u001b[0m\n\u001b[1;32m    518\u001b[0m         \u001b[38;5;28;01mreturn\u001b[39;00m\n\u001b[1;32m    519\u001b[0m     is_mandatory_refresh \u001b[38;5;241m=\u001b[39m \u001b[38;5;28mself\u001b[39m\u001b[38;5;241m.\u001b[39mrefresh_needed(\n\u001b[1;32m    520\u001b[0m         \u001b[38;5;28mself\u001b[39m\u001b[38;5;241m.\u001b[39m_mandatory_refresh_timeout\n\u001b[1;32m    521\u001b[0m     )\n\u001b[0;32m--> 522\u001b[0m     \u001b[38;5;28;43mself\u001b[39;49m\u001b[38;5;241;43m.\u001b[39;49m\u001b[43m_protected_refresh\u001b[49m\u001b[43m(\u001b[49m\u001b[43mis_mandatory\u001b[49m\u001b[38;5;241;43m=\u001b[39;49m\u001b[43mis_mandatory_refresh\u001b[49m\u001b[43m)\u001b[49m\n\u001b[1;32m    523\u001b[0m     \u001b[38;5;28;01mreturn\u001b[39;00m\n\u001b[1;32m    524\u001b[0m \u001b[38;5;28;01mfinally\u001b[39;00m:\n",
            "File \u001b[0;32m~/Prod Documentation/bids2023-hackathon/bids2023/lib/python3.10/site-packages/botocore/credentials.py:538\u001b[0m, in \u001b[0;36mRefreshableCredentials._protected_refresh\u001b[0;34m(self, is_mandatory)\u001b[0m\n\u001b[1;32m    534\u001b[0m \u001b[38;5;28;01mdef\u001b[39;00m \u001b[38;5;21m_protected_refresh\u001b[39m(\u001b[38;5;28mself\u001b[39m, is_mandatory):\n\u001b[1;32m    535\u001b[0m     \u001b[38;5;66;03m# precondition: this method should only be called if you've acquired\u001b[39;00m\n\u001b[1;32m    536\u001b[0m     \u001b[38;5;66;03m# the self._refresh_lock.\u001b[39;00m\n\u001b[1;32m    537\u001b[0m     \u001b[38;5;28;01mtry\u001b[39;00m:\n\u001b[0;32m--> 538\u001b[0m         metadata \u001b[38;5;241m=\u001b[39m \u001b[38;5;28;43mself\u001b[39;49m\u001b[38;5;241;43m.\u001b[39;49m\u001b[43m_refresh_using\u001b[49m\u001b[43m(\u001b[49m\u001b[43m)\u001b[49m\n\u001b[1;32m    539\u001b[0m     \u001b[38;5;28;01mexcept\u001b[39;00m \u001b[38;5;167;01mException\u001b[39;00m:\n\u001b[1;32m    540\u001b[0m         period_name \u001b[38;5;241m=\u001b[39m \u001b[38;5;124m'\u001b[39m\u001b[38;5;124mmandatory\u001b[39m\u001b[38;5;124m'\u001b[39m \u001b[38;5;28;01mif\u001b[39;00m is_mandatory \u001b[38;5;28;01melse\u001b[39;00m \u001b[38;5;124m'\u001b[39m\u001b[38;5;124madvisory\u001b[39m\u001b[38;5;124m'\u001b[39m\n",
            "File \u001b[0;32m~/Prod Documentation/bids2023-hackathon/bids2023/lib/python3.10/site-packages/botocore/credentials.py:685\u001b[0m, in \u001b[0;36mCachedCredentialFetcher.fetch_credentials\u001b[0;34m(self)\u001b[0m\n\u001b[1;32m    684\u001b[0m \u001b[38;5;28;01mdef\u001b[39;00m \u001b[38;5;21mfetch_credentials\u001b[39m(\u001b[38;5;28mself\u001b[39m):\n\u001b[0;32m--> 685\u001b[0m     \u001b[38;5;28;01mreturn\u001b[39;00m \u001b[38;5;28;43mself\u001b[39;49m\u001b[38;5;241;43m.\u001b[39;49m\u001b[43m_get_cached_credentials\u001b[49m\u001b[43m(\u001b[49m\u001b[43m)\u001b[49m\n",
            "File \u001b[0;32m~/Prod Documentation/bids2023-hackathon/bids2023/lib/python3.10/site-packages/botocore/credentials.py:695\u001b[0m, in \u001b[0;36mCachedCredentialFetcher._get_cached_credentials\u001b[0;34m(self)\u001b[0m\n\u001b[1;32m    693\u001b[0m response \u001b[38;5;241m=\u001b[39m \u001b[38;5;28mself\u001b[39m\u001b[38;5;241m.\u001b[39m_load_from_cache()\n\u001b[1;32m    694\u001b[0m \u001b[38;5;28;01mif\u001b[39;00m response \u001b[38;5;129;01mis\u001b[39;00m \u001b[38;5;28;01mNone\u001b[39;00m:\n\u001b[0;32m--> 695\u001b[0m     response \u001b[38;5;241m=\u001b[39m \u001b[38;5;28;43mself\u001b[39;49m\u001b[38;5;241;43m.\u001b[39;49m\u001b[43m_get_credentials\u001b[49m\u001b[43m(\u001b[49m\u001b[43m)\u001b[49m\n\u001b[1;32m    696\u001b[0m     \u001b[38;5;28mself\u001b[39m\u001b[38;5;241m.\u001b[39m_write_to_cache(response)\n\u001b[1;32m    697\u001b[0m \u001b[38;5;28;01melse\u001b[39;00m:\n",
            "File \u001b[0;32m~/Prod Documentation/bids2023-hackathon/bids2023/lib/python3.10/site-packages/botocore/credentials.py:2150\u001b[0m, in \u001b[0;36mSSOCredentialFetcher._get_credentials\u001b[0;34m(self)\u001b[0m\n\u001b[1;32m   2148\u001b[0m \u001b[38;5;28;01mif\u001b[39;00m \u001b[38;5;28mself\u001b[39m\u001b[38;5;241m.\u001b[39m_token_provider:\n\u001b[1;32m   2149\u001b[0m     initial_token_data \u001b[38;5;241m=\u001b[39m \u001b[38;5;28mself\u001b[39m\u001b[38;5;241m.\u001b[39m_token_provider\u001b[38;5;241m.\u001b[39mload_token()\n\u001b[0;32m-> 2150\u001b[0m     token \u001b[38;5;241m=\u001b[39m \u001b[43minitial_token_data\u001b[49m\u001b[38;5;241;43m.\u001b[39;49m\u001b[43mget_frozen_token\u001b[49m\u001b[43m(\u001b[49m\u001b[43m)\u001b[49m\u001b[38;5;241m.\u001b[39mtoken\n\u001b[1;32m   2151\u001b[0m \u001b[38;5;28;01melse\u001b[39;00m:\n\u001b[1;32m   2152\u001b[0m     token \u001b[38;5;241m=\u001b[39m \u001b[38;5;28mself\u001b[39m\u001b[38;5;241m.\u001b[39m_token_loader(\u001b[38;5;28mself\u001b[39m\u001b[38;5;241m.\u001b[39m_start_url)[\u001b[38;5;124m'\u001b[39m\u001b[38;5;124maccessToken\u001b[39m\u001b[38;5;124m'\u001b[39m]\n",
            "File \u001b[0;32m~/Prod Documentation/bids2023-hackathon/bids2023/lib/python3.10/site-packages/botocore/tokens.py:82\u001b[0m, in \u001b[0;36mDeferredRefreshableToken.get_frozen_token\u001b[0;34m(self)\u001b[0m\n\u001b[1;32m     81\u001b[0m \u001b[38;5;28;01mdef\u001b[39;00m \u001b[38;5;21mget_frozen_token\u001b[39m(\u001b[38;5;28mself\u001b[39m):\n\u001b[0;32m---> 82\u001b[0m     \u001b[38;5;28;43mself\u001b[39;49m\u001b[38;5;241;43m.\u001b[39;49m\u001b[43m_refresh\u001b[49m\u001b[43m(\u001b[49m\u001b[43m)\u001b[49m\n\u001b[1;32m     83\u001b[0m     \u001b[38;5;28;01mreturn\u001b[39;00m \u001b[38;5;28mself\u001b[39m\u001b[38;5;241m.\u001b[39m_frozen_token\n",
            "File \u001b[0;32m~/Prod Documentation/bids2023-hackathon/bids2023/lib/python3.10/site-packages/botocore/tokens.py:95\u001b[0m, in \u001b[0;36mDeferredRefreshableToken._refresh\u001b[0;34m(self)\u001b[0m\n\u001b[1;32m     93\u001b[0m \u001b[38;5;28;01mif\u001b[39;00m \u001b[38;5;28mself\u001b[39m\u001b[38;5;241m.\u001b[39m_refresh_lock\u001b[38;5;241m.\u001b[39macquire(block_for_refresh):\n\u001b[1;32m     94\u001b[0m     \u001b[38;5;28;01mtry\u001b[39;00m:\n\u001b[0;32m---> 95\u001b[0m         \u001b[38;5;28;43mself\u001b[39;49m\u001b[38;5;241;43m.\u001b[39;49m\u001b[43m_protected_refresh\u001b[49m\u001b[43m(\u001b[49m\u001b[43m)\u001b[49m\n\u001b[1;32m     96\u001b[0m     \u001b[38;5;28;01mfinally\u001b[39;00m:\n\u001b[1;32m     97\u001b[0m         \u001b[38;5;28mself\u001b[39m\u001b[38;5;241m.\u001b[39m_refresh_lock\u001b[38;5;241m.\u001b[39mrelease()\n",
            "File \u001b[0;32m~/Prod Documentation/bids2023-hackathon/bids2023/lib/python3.10/site-packages/botocore/tokens.py:122\u001b[0m, in \u001b[0;36mDeferredRefreshableToken._protected_refresh\u001b[0;34m(self)\u001b[0m\n\u001b[1;32m    118\u001b[0m         \u001b[38;5;28;01mraise\u001b[39;00m\n\u001b[1;32m    120\u001b[0m \u001b[38;5;28;01mif\u001b[39;00m \u001b[38;5;28mself\u001b[39m\u001b[38;5;241m.\u001b[39m_is_expired():\n\u001b[1;32m    121\u001b[0m     \u001b[38;5;66;03m# Fresh credentials should never be expired\u001b[39;00m\n\u001b[0;32m--> 122\u001b[0m     \u001b[38;5;28;01mraise\u001b[39;00m TokenRetrievalError(\n\u001b[1;32m    123\u001b[0m         provider\u001b[38;5;241m=\u001b[39m\u001b[38;5;28mself\u001b[39m\u001b[38;5;241m.\u001b[39mmethod,\n\u001b[1;32m    124\u001b[0m         error_msg\u001b[38;5;241m=\u001b[39m\u001b[38;5;124m\"\u001b[39m\u001b[38;5;124mToken has expired and refresh failed\u001b[39m\u001b[38;5;124m\"\u001b[39m,\n\u001b[1;32m    125\u001b[0m     )\n",
            "\u001b[0;31mTokenRetrievalError\u001b[0m: Error when retrieving token from sso: Token has expired and refresh failed"
          ]
        }
      ],
      "source": [
        "datasetv.attrs['sensor'] = \"Mosaics\"\n",
        "\n",
        "# NDVI plot\n",
        "meanvalV = datasetv.mean(('x','y')) \n",
        "meanvalV.attrs['sensor'] = \"Mosaics\"\n",
        "\n",
        "meanvalV[\"nir08\"] -= 1000\n",
        "meanvalV[\"red\"] -= 1000\n",
        "\n",
        "ndvixyV = (meanvalV[\"nir08\"] - meanvalV[\"red\"]) / (meanvalV[\"nir08\"] + meanvalV[\"red\"])\n",
        "meanvalV[\"ndvi\"] = ndvixyV\n",
        "\n",
        "meanvalV = meanvalV.load()\n",
        "print (meanvalV)\n",
        "\n",
        "plot_images('Mosaics', datasetv, 1000)\n"
      ]
    },
    {
      "cell_type": "markdown",
      "id": "2e12178c-6cd4-492d-ba21-7b9469bf5dac",
      "metadata": {
        "id": "2e12178c-6cd4-492d-ba21-7b9469bf5dac"
      },
      "source": [
        "# Results (plots)"
      ]
    },
    {
      "cell_type": "markdown",
      "id": "8f27ad40-58c2-408e-a526-cecd2f497860",
      "metadata": {
        "id": "8f27ad40-58c2-408e-a526-cecd2f497860"
      },
      "source": [
        "## Plot and Compare the NDVI"
      ]
    },
    {
      "cell_type": "code",
      "execution_count": 42,
      "id": "d5a7d580-ee5e-4c7d-9dbe-b13393b8d7ee",
      "metadata": {
        "id": "d5a7d580-ee5e-4c7d-9dbe-b13393b8d7ee"
      },
      "outputs": [
        {
          "ename": "TokenRetrievalError",
          "evalue": "Error when retrieving token from sso: Token has expired and refresh failed",
          "output_type": "error",
          "traceback": [
            "\u001b[0;31m---------------------------------------------------------------------------\u001b[0m",
            "\u001b[0;31mTokenRetrievalError\u001b[0m                       Traceback (most recent call last)",
            "Cell \u001b[0;32mIn[62], line 3\u001b[0m\n\u001b[1;32m      1\u001b[0m plt\u001b[38;5;241m.\u001b[39mtitle(\u001b[38;5;124m'\u001b[39m\u001b[38;5;124mNDVI between Sentinel and Mosaics\u001b[39m\u001b[38;5;124m'\u001b[39m)\n\u001b[0;32m----> 3\u001b[0m \u001b[43mmeanval\u001b[49m\u001b[43m[\u001b[49m\u001b[38;5;124;43m\"\u001b[39;49m\u001b[38;5;124;43mndvi\u001b[39;49m\u001b[38;5;124;43m\"\u001b[39;49m\u001b[43m]\u001b[49m\u001b[38;5;241;43m.\u001b[39;49m\u001b[43mplot\u001b[49m\u001b[43m(\u001b[49m\u001b[43m)\u001b[49m\n\u001b[1;32m      4\u001b[0m meanvalV[\u001b[38;5;124m\"\u001b[39m\u001b[38;5;124mndvi\u001b[39m\u001b[38;5;124m\"\u001b[39m]\u001b[38;5;241m.\u001b[39mplot()\n\u001b[1;32m      6\u001b[0m plt\u001b[38;5;241m.\u001b[39mlegend([\u001b[38;5;124m'\u001b[39m\u001b[38;5;124mSentinel\u001b[39m\u001b[38;5;124m'\u001b[39m, \u001b[38;5;124m'\u001b[39m\u001b[38;5;124mMosaics\u001b[39m\u001b[38;5;124m'\u001b[39m])\n",
            "File \u001b[0;32m~/Prod Documentation/bids2023-hackathon/bids2023/lib/python3.10/site-packages/xarray/plot/accessor.py:48\u001b[0m, in \u001b[0;36mDataArrayPlotAccessor.__call__\u001b[0;34m(self, **kwargs)\u001b[0m\n\u001b[1;32m     46\u001b[0m \u001b[38;5;129m@functools\u001b[39m\u001b[38;5;241m.\u001b[39mwraps(dataarray_plot\u001b[38;5;241m.\u001b[39mplot, assigned\u001b[38;5;241m=\u001b[39m(\u001b[38;5;124m\"\u001b[39m\u001b[38;5;124m__doc__\u001b[39m\u001b[38;5;124m\"\u001b[39m, \u001b[38;5;124m\"\u001b[39m\u001b[38;5;124m__annotations__\u001b[39m\u001b[38;5;124m\"\u001b[39m))\n\u001b[1;32m     47\u001b[0m \u001b[38;5;28;01mdef\u001b[39;00m \u001b[38;5;21m__call__\u001b[39m(\u001b[38;5;28mself\u001b[39m, \u001b[38;5;241m*\u001b[39m\u001b[38;5;241m*\u001b[39mkwargs) \u001b[38;5;241m-\u001b[39m\u001b[38;5;241m>\u001b[39m Any:\n\u001b[0;32m---> 48\u001b[0m     \u001b[38;5;28;01mreturn\u001b[39;00m \u001b[43mdataarray_plot\u001b[49m\u001b[38;5;241;43m.\u001b[39;49m\u001b[43mplot\u001b[49m\u001b[43m(\u001b[49m\u001b[38;5;28;43mself\u001b[39;49m\u001b[38;5;241;43m.\u001b[39;49m\u001b[43m_da\u001b[49m\u001b[43m,\u001b[49m\u001b[43m \u001b[49m\u001b[38;5;241;43m*\u001b[39;49m\u001b[38;5;241;43m*\u001b[39;49m\u001b[43mkwargs\u001b[49m\u001b[43m)\u001b[49m\n",
            "File \u001b[0;32m~/Prod Documentation/bids2023-hackathon/bids2023/lib/python3.10/site-packages/xarray/plot/dataarray_plot.py:270\u001b[0m, in \u001b[0;36mplot\u001b[0;34m(darray, row, col, col_wrap, ax, hue, subplot_kws, **kwargs)\u001b[0m\n\u001b[1;32m    219\u001b[0m \u001b[38;5;28;01mdef\u001b[39;00m \u001b[38;5;21mplot\u001b[39m(\n\u001b[1;32m    220\u001b[0m     darray: DataArray,\n\u001b[1;32m    221\u001b[0m     \u001b[38;5;241m*\u001b[39m,\n\u001b[0;32m   (...)\u001b[0m\n\u001b[1;32m    228\u001b[0m     \u001b[38;5;241m*\u001b[39m\u001b[38;5;241m*\u001b[39mkwargs: Any,\n\u001b[1;32m    229\u001b[0m ) \u001b[38;5;241m-\u001b[39m\u001b[38;5;241m>\u001b[39m Any:\n\u001b[1;32m    230\u001b[0m \u001b[38;5;250m    \u001b[39m\u001b[38;5;124;03m\"\"\"\u001b[39;00m\n\u001b[1;32m    231\u001b[0m \u001b[38;5;124;03m    Default plot of DataArray using :py:mod:`matplotlib:matplotlib.pyplot`.\u001b[39;00m\n\u001b[1;32m    232\u001b[0m \n\u001b[0;32m   (...)\u001b[0m\n\u001b[1;32m    266\u001b[0m \u001b[38;5;124;03m    xarray.DataArray.squeeze\u001b[39;00m\n\u001b[1;32m    267\u001b[0m \u001b[38;5;124;03m    \"\"\"\u001b[39;00m\n\u001b[1;32m    268\u001b[0m     darray \u001b[38;5;241m=\u001b[39m \u001b[43mdarray\u001b[49m\u001b[38;5;241;43m.\u001b[39;49m\u001b[43msqueeze\u001b[49m\u001b[43m(\u001b[49m\n\u001b[1;32m    269\u001b[0m \u001b[43m        \u001b[49m\u001b[43md\u001b[49m\u001b[43m \u001b[49m\u001b[38;5;28;43;01mfor\u001b[39;49;00m\u001b[43m \u001b[49m\u001b[43md\u001b[49m\u001b[43m,\u001b[49m\u001b[43m \u001b[49m\u001b[43ms\u001b[49m\u001b[43m \u001b[49m\u001b[38;5;129;43;01min\u001b[39;49;00m\u001b[43m \u001b[49m\u001b[43mdarray\u001b[49m\u001b[38;5;241;43m.\u001b[39;49m\u001b[43msizes\u001b[49m\u001b[38;5;241;43m.\u001b[39;49m\u001b[43mitems\u001b[49m\u001b[43m(\u001b[49m\u001b[43m)\u001b[49m\u001b[43m \u001b[49m\u001b[38;5;28;43;01mif\u001b[39;49;00m\u001b[43m \u001b[49m\u001b[43ms\u001b[49m\u001b[43m \u001b[49m\u001b[38;5;241;43m==\u001b[39;49m\u001b[43m \u001b[49m\u001b[38;5;241;43m1\u001b[39;49m\u001b[43m \u001b[49m\u001b[38;5;129;43;01mand\u001b[39;49;00m\u001b[43m \u001b[49m\u001b[43md\u001b[49m\u001b[43m \u001b[49m\u001b[38;5;129;43;01mnot\u001b[39;49;00m\u001b[43m \u001b[49m\u001b[38;5;129;43;01min\u001b[39;49;00m\u001b[43m \u001b[49m\u001b[43m(\u001b[49m\u001b[43mrow\u001b[49m\u001b[43m,\u001b[49m\u001b[43m \u001b[49m\u001b[43mcol\u001b[49m\u001b[43m,\u001b[49m\u001b[43m \u001b[49m\u001b[43mhue\u001b[49m\u001b[43m)\u001b[49m\n\u001b[0;32m--> 270\u001b[0m \u001b[43m    \u001b[49m\u001b[43m)\u001b[49m\u001b[38;5;241;43m.\u001b[39;49m\u001b[43mcompute\u001b[49m\u001b[43m(\u001b[49m\u001b[43m)\u001b[49m\n\u001b[1;32m    272\u001b[0m     plot_dims \u001b[38;5;241m=\u001b[39m \u001b[38;5;28mset\u001b[39m(darray\u001b[38;5;241m.\u001b[39mdims)\n\u001b[1;32m    273\u001b[0m     plot_dims\u001b[38;5;241m.\u001b[39mdiscard(row)\n",
            "File \u001b[0;32m~/Prod Documentation/bids2023-hackathon/bids2023/lib/python3.10/site-packages/xarray/core/dataarray.py:1179\u001b[0m, in \u001b[0;36mDataArray.compute\u001b[0;34m(self, **kwargs)\u001b[0m\n\u001b[1;32m   1154\u001b[0m \u001b[38;5;250m\u001b[39m\u001b[38;5;124;03m\"\"\"Manually trigger loading of this array's data from disk or a\u001b[39;00m\n\u001b[1;32m   1155\u001b[0m \u001b[38;5;124;03mremote source into memory and return a new array.\u001b[39;00m\n\u001b[1;32m   1156\u001b[0m \n\u001b[0;32m   (...)\u001b[0m\n\u001b[1;32m   1176\u001b[0m \u001b[38;5;124;03mdask.compute\u001b[39;00m\n\u001b[1;32m   1177\u001b[0m \u001b[38;5;124;03m\"\"\"\u001b[39;00m\n\u001b[1;32m   1178\u001b[0m new \u001b[38;5;241m=\u001b[39m \u001b[38;5;28mself\u001b[39m\u001b[38;5;241m.\u001b[39mcopy(deep\u001b[38;5;241m=\u001b[39m\u001b[38;5;28;01mFalse\u001b[39;00m)\n\u001b[0;32m-> 1179\u001b[0m \u001b[38;5;28;01mreturn\u001b[39;00m \u001b[43mnew\u001b[49m\u001b[38;5;241;43m.\u001b[39;49m\u001b[43mload\u001b[49m\u001b[43m(\u001b[49m\u001b[38;5;241;43m*\u001b[39;49m\u001b[38;5;241;43m*\u001b[39;49m\u001b[43mkwargs\u001b[49m\u001b[43m)\u001b[49m\n",
            "File \u001b[0;32m~/Prod Documentation/bids2023-hackathon/bids2023/lib/python3.10/site-packages/xarray/core/dataarray.py:1147\u001b[0m, in \u001b[0;36mDataArray.load\u001b[0;34m(self, **kwargs)\u001b[0m\n\u001b[1;32m   1127\u001b[0m \u001b[38;5;28;01mdef\u001b[39;00m \u001b[38;5;21mload\u001b[39m(\u001b[38;5;28mself\u001b[39m, \u001b[38;5;241m*\u001b[39m\u001b[38;5;241m*\u001b[39mkwargs) \u001b[38;5;241m-\u001b[39m\u001b[38;5;241m>\u001b[39m Self:\n\u001b[1;32m   1128\u001b[0m \u001b[38;5;250m    \u001b[39m\u001b[38;5;124;03m\"\"\"Manually trigger loading of this array's data from disk or a\u001b[39;00m\n\u001b[1;32m   1129\u001b[0m \u001b[38;5;124;03m    remote source into memory and return this array.\u001b[39;00m\n\u001b[1;32m   1130\u001b[0m \n\u001b[0;32m   (...)\u001b[0m\n\u001b[1;32m   1145\u001b[0m \u001b[38;5;124;03m    dask.compute\u001b[39;00m\n\u001b[1;32m   1146\u001b[0m \u001b[38;5;124;03m    \"\"\"\u001b[39;00m\n\u001b[0;32m-> 1147\u001b[0m     ds \u001b[38;5;241m=\u001b[39m \u001b[38;5;28;43mself\u001b[39;49m\u001b[38;5;241;43m.\u001b[39;49m\u001b[43m_to_temp_dataset\u001b[49m\u001b[43m(\u001b[49m\u001b[43m)\u001b[49m\u001b[38;5;241;43m.\u001b[39;49m\u001b[43mload\u001b[49m\u001b[43m(\u001b[49m\u001b[38;5;241;43m*\u001b[39;49m\u001b[38;5;241;43m*\u001b[39;49m\u001b[43mkwargs\u001b[49m\u001b[43m)\u001b[49m\n\u001b[1;32m   1148\u001b[0m     new \u001b[38;5;241m=\u001b[39m \u001b[38;5;28mself\u001b[39m\u001b[38;5;241m.\u001b[39m_from_temp_dataset(ds)\n\u001b[1;32m   1149\u001b[0m     \u001b[38;5;28mself\u001b[39m\u001b[38;5;241m.\u001b[39m_variable \u001b[38;5;241m=\u001b[39m new\u001b[38;5;241m.\u001b[39m_variable\n",
            "File \u001b[0;32m~/Prod Documentation/bids2023-hackathon/bids2023/lib/python3.10/site-packages/xarray/core/dataset.py:863\u001b[0m, in \u001b[0;36mDataset.load\u001b[0;34m(self, **kwargs)\u001b[0m\n\u001b[1;32m    860\u001b[0m chunkmanager \u001b[38;5;241m=\u001b[39m get_chunked_array_type(\u001b[38;5;241m*\u001b[39mlazy_data\u001b[38;5;241m.\u001b[39mvalues())\n\u001b[1;32m    862\u001b[0m \u001b[38;5;66;03m# evaluate all the chunked arrays simultaneously\u001b[39;00m\n\u001b[0;32m--> 863\u001b[0m evaluated_data: \u001b[38;5;28mtuple\u001b[39m[np\u001b[38;5;241m.\u001b[39mndarray[Any, Any], \u001b[38;5;241m.\u001b[39m\u001b[38;5;241m.\u001b[39m\u001b[38;5;241m.\u001b[39m] \u001b[38;5;241m=\u001b[39m \u001b[43mchunkmanager\u001b[49m\u001b[38;5;241;43m.\u001b[39;49m\u001b[43mcompute\u001b[49m\u001b[43m(\u001b[49m\n\u001b[1;32m    864\u001b[0m \u001b[43m    \u001b[49m\u001b[38;5;241;43m*\u001b[39;49m\u001b[43mlazy_data\u001b[49m\u001b[38;5;241;43m.\u001b[39;49m\u001b[43mvalues\u001b[49m\u001b[43m(\u001b[49m\u001b[43m)\u001b[49m\u001b[43m,\u001b[49m\u001b[43m \u001b[49m\u001b[38;5;241;43m*\u001b[39;49m\u001b[38;5;241;43m*\u001b[39;49m\u001b[43mkwargs\u001b[49m\n\u001b[1;32m    865\u001b[0m \u001b[43m\u001b[49m\u001b[43m)\u001b[49m\n\u001b[1;32m    867\u001b[0m \u001b[38;5;28;01mfor\u001b[39;00m k, data \u001b[38;5;129;01min\u001b[39;00m \u001b[38;5;28mzip\u001b[39m(lazy_data, evaluated_data):\n\u001b[1;32m    868\u001b[0m     \u001b[38;5;28mself\u001b[39m\u001b[38;5;241m.\u001b[39mvariables[k]\u001b[38;5;241m.\u001b[39mdata \u001b[38;5;241m=\u001b[39m data\n",
            "File \u001b[0;32m~/Prod Documentation/bids2023-hackathon/bids2023/lib/python3.10/site-packages/xarray/namedarray/daskmanager.py:86\u001b[0m, in \u001b[0;36mDaskManager.compute\u001b[0;34m(self, *data, **kwargs)\u001b[0m\n\u001b[1;32m     81\u001b[0m \u001b[38;5;28;01mdef\u001b[39;00m \u001b[38;5;21mcompute\u001b[39m(\n\u001b[1;32m     82\u001b[0m     \u001b[38;5;28mself\u001b[39m, \u001b[38;5;241m*\u001b[39mdata: Any, \u001b[38;5;241m*\u001b[39m\u001b[38;5;241m*\u001b[39mkwargs: Any\n\u001b[1;32m     83\u001b[0m ) \u001b[38;5;241m-\u001b[39m\u001b[38;5;241m>\u001b[39m \u001b[38;5;28mtuple\u001b[39m[np\u001b[38;5;241m.\u001b[39mndarray[Any, _DType_co], \u001b[38;5;241m.\u001b[39m\u001b[38;5;241m.\u001b[39m\u001b[38;5;241m.\u001b[39m]:\n\u001b[1;32m     84\u001b[0m     \u001b[38;5;28;01mfrom\u001b[39;00m \u001b[38;5;21;01mdask\u001b[39;00m\u001b[38;5;21;01m.\u001b[39;00m\u001b[38;5;21;01marray\u001b[39;00m \u001b[38;5;28;01mimport\u001b[39;00m compute\n\u001b[0;32m---> 86\u001b[0m     \u001b[38;5;28;01mreturn\u001b[39;00m \u001b[43mcompute\u001b[49m\u001b[43m(\u001b[49m\u001b[38;5;241;43m*\u001b[39;49m\u001b[43mdata\u001b[49m\u001b[43m,\u001b[49m\u001b[43m \u001b[49m\u001b[38;5;241;43m*\u001b[39;49m\u001b[38;5;241;43m*\u001b[39;49m\u001b[43mkwargs\u001b[49m\u001b[43m)\u001b[49m\n",
            "File \u001b[0;32m~/Prod Documentation/bids2023-hackathon/bids2023/lib/python3.10/site-packages/dask/base.py:662\u001b[0m, in \u001b[0;36mcompute\u001b[0;34m(traverse, optimize_graph, scheduler, get, *args, **kwargs)\u001b[0m\n\u001b[1;32m    659\u001b[0m     postcomputes\u001b[38;5;241m.\u001b[39mappend(x\u001b[38;5;241m.\u001b[39m__dask_postcompute__())\n\u001b[1;32m    661\u001b[0m \u001b[38;5;28;01mwith\u001b[39;00m shorten_traceback():\n\u001b[0;32m--> 662\u001b[0m     results \u001b[38;5;241m=\u001b[39m \u001b[43mschedule\u001b[49m\u001b[43m(\u001b[49m\u001b[43mdsk\u001b[49m\u001b[43m,\u001b[49m\u001b[43m \u001b[49m\u001b[43mkeys\u001b[49m\u001b[43m,\u001b[49m\u001b[43m \u001b[49m\u001b[38;5;241;43m*\u001b[39;49m\u001b[38;5;241;43m*\u001b[39;49m\u001b[43mkwargs\u001b[49m\u001b[43m)\u001b[49m\n\u001b[1;32m    664\u001b[0m \u001b[38;5;28;01mreturn\u001b[39;00m repack([f(r, \u001b[38;5;241m*\u001b[39ma) \u001b[38;5;28;01mfor\u001b[39;00m r, (f, a) \u001b[38;5;129;01min\u001b[39;00m \u001b[38;5;28mzip\u001b[39m(results, postcomputes)])\n",
            "File \u001b[0;32m~/Prod Documentation/bids2023-hackathon/bids2023/lib/python3.10/site-packages/odc/stac/_load.py:696\u001b[0m, in \u001b[0;36m_dask_loader_tyx\u001b[0;34m(srcs, gbt, iyx, cfg, env)\u001b[0m\n\u001b[1;32m    694\u001b[0m \u001b[38;5;28;01mwith\u001b[39;00m rio_env(\u001b[38;5;241m*\u001b[39m\u001b[38;5;241m*\u001b[39menv):\n\u001b[1;32m    695\u001b[0m     \u001b[38;5;28;01mfor\u001b[39;00m i, plane \u001b[38;5;129;01min\u001b[39;00m \u001b[38;5;28menumerate\u001b[39m(srcs):\n\u001b[0;32m--> 696\u001b[0m         \u001b[43m_fill_2d_slice\u001b[49m\u001b[43m(\u001b[49m\u001b[43mplane\u001b[49m\u001b[43m,\u001b[49m\u001b[43m \u001b[49m\u001b[43mgbox\u001b[49m\u001b[43m,\u001b[49m\u001b[43m \u001b[49m\u001b[43mcfg\u001b[49m\u001b[43m,\u001b[49m\u001b[43m \u001b[49m\u001b[43mchunk\u001b[49m\u001b[43m[\u001b[49m\u001b[43mi\u001b[49m\u001b[43m,\u001b[49m\u001b[43m \u001b[49m\u001b[43m:\u001b[49m\u001b[43m,\u001b[49m\u001b[43m \u001b[49m\u001b[43m:\u001b[49m\u001b[43m]\u001b[49m\u001b[43m)\u001b[49m\n\u001b[1;32m    697\u001b[0m     \u001b[38;5;28;01mreturn\u001b[39;00m chunk\n",
            "File \u001b[0;32m~/Prod Documentation/bids2023-hackathon/bids2023/lib/python3.10/site-packages/odc/stac/_load.py:724\u001b[0m, in \u001b[0;36m_fill_2d_slice\u001b[0;34m(srcs, dst_gbox, cfg, dst)\u001b[0m\n\u001b[1;32m    721\u001b[0m     \u001b[38;5;28;01mreturn\u001b[39;00m dst\n\u001b[1;32m    723\u001b[0m src, \u001b[38;5;241m*\u001b[39mrest \u001b[38;5;241m=\u001b[39m srcs\n\u001b[0;32m--> 724\u001b[0m _roi, pix \u001b[38;5;241m=\u001b[39m \u001b[43mrio_read\u001b[49m\u001b[43m(\u001b[49m\u001b[43msrc\u001b[49m\u001b[43m,\u001b[49m\u001b[43m \u001b[49m\u001b[43mcfg\u001b[49m\u001b[43m,\u001b[49m\u001b[43m \u001b[49m\u001b[43mdst_gbox\u001b[49m\u001b[43m,\u001b[49m\u001b[43m \u001b[49m\u001b[43mdst\u001b[49m\u001b[38;5;241;43m=\u001b[39;49m\u001b[43mdst\u001b[49m\u001b[43m)\u001b[49m\n\u001b[1;32m    726\u001b[0m \u001b[38;5;28;01mfor\u001b[39;00m src \u001b[38;5;129;01min\u001b[39;00m rest:\n\u001b[1;32m    727\u001b[0m     \u001b[38;5;66;03m# first valid pixel takes precedence over others\u001b[39;00m\n\u001b[1;32m    728\u001b[0m     _roi, pix \u001b[38;5;241m=\u001b[39m rio_read(src, cfg, dst_gbox)\n",
            "File \u001b[0;32m~/Prod Documentation/bids2023-hackathon/bids2023/lib/python3.10/site-packages/odc/stac/_reader.py:186\u001b[0m, in \u001b[0;36mrio_read\u001b[0;34m(src, cfg, dst_geobox, dst)\u001b[0m\n\u001b[1;32m    163\u001b[0m \u001b[38;5;250m\u001b[39m\u001b[38;5;124;03m\"\"\"\u001b[39;00m\n\u001b[1;32m    164\u001b[0m \u001b[38;5;124;03mInternal read method.\u001b[39;00m\n\u001b[1;32m    165\u001b[0m \n\u001b[0;32m   (...)\u001b[0m\n\u001b[1;32m    182\u001b[0m \n\u001b[1;32m    183\u001b[0m \u001b[38;5;124;03m\"\"\"\u001b[39;00m\n\u001b[1;32m    185\u001b[0m \u001b[38;5;28;01mtry\u001b[39;00m:\n\u001b[0;32m--> 186\u001b[0m     \u001b[38;5;28;01mreturn\u001b[39;00m \u001b[43m_rio_read\u001b[49m\u001b[43m(\u001b[49m\u001b[43msrc\u001b[49m\u001b[43m,\u001b[49m\u001b[43m \u001b[49m\u001b[43mcfg\u001b[49m\u001b[43m,\u001b[49m\u001b[43m \u001b[49m\u001b[43mdst_geobox\u001b[49m\u001b[43m,\u001b[49m\u001b[43m \u001b[49m\u001b[43mdst\u001b[49m\u001b[43m)\u001b[49m\n\u001b[1;32m    187\u001b[0m \u001b[38;5;28;01mexcept\u001b[39;00m (\n\u001b[1;32m    188\u001b[0m     rasterio\u001b[38;5;241m.\u001b[39merrors\u001b[38;5;241m.\u001b[39mRasterioIOError,\n\u001b[1;32m    189\u001b[0m     rasterio\u001b[38;5;241m.\u001b[39merrors\u001b[38;5;241m.\u001b[39mRasterBlockError,\n\u001b[1;32m    190\u001b[0m     rasterio\u001b[38;5;241m.\u001b[39merrors\u001b[38;5;241m.\u001b[39mWarpOperationError,\n\u001b[1;32m    191\u001b[0m     rasterio\u001b[38;5;241m.\u001b[39merrors\u001b[38;5;241m.\u001b[39mWindowEvaluationError,\n\u001b[1;32m    192\u001b[0m ) \u001b[38;5;28;01mas\u001b[39;00m e:\n\u001b[1;32m    193\u001b[0m     \u001b[38;5;28;01mif\u001b[39;00m cfg\u001b[38;5;241m.\u001b[39mfail_on_error:\n",
            "File \u001b[0;32m~/Prod Documentation/bids2023-hackathon/bids2023/lib/python3.10/site-packages/odc/stac/_reader.py:232\u001b[0m, in \u001b[0;36m_rio_read\u001b[0;34m(src, cfg, dst_geobox, dst)\u001b[0m\n\u001b[1;32m    222\u001b[0m \u001b[38;5;28;01mdef\u001b[39;00m \u001b[38;5;21m_rio_read\u001b[39m(\n\u001b[1;32m    223\u001b[0m     src: RasterSource,\n\u001b[1;32m    224\u001b[0m     cfg: RasterLoadParams,\n\u001b[0;32m   (...)\u001b[0m\n\u001b[1;32m    228\u001b[0m     \u001b[38;5;66;03m# if resampling is `nearest` then ignore sub-pixel translation when deciding\u001b[39;00m\n\u001b[1;32m    229\u001b[0m     \u001b[38;5;66;03m# whether we can just paste source into destination\u001b[39;00m\n\u001b[1;32m    230\u001b[0m     ttol \u001b[38;5;241m=\u001b[39m \u001b[38;5;241m0.9\u001b[39m \u001b[38;5;28;01mif\u001b[39;00m cfg\u001b[38;5;241m.\u001b[39mnearest \u001b[38;5;28;01melse\u001b[39;00m \u001b[38;5;241m0.05\u001b[39m\n\u001b[0;32m--> 232\u001b[0m     \u001b[38;5;28;01mwith\u001b[39;00m \u001b[43mrasterio\u001b[49m\u001b[38;5;241;43m.\u001b[39;49m\u001b[43mopen\u001b[49m\u001b[43m(\u001b[49m\u001b[43msrc\u001b[49m\u001b[38;5;241;43m.\u001b[39;49m\u001b[43muri\u001b[49m\u001b[43m,\u001b[49m\u001b[43m \u001b[49m\u001b[38;5;124;43m\"\u001b[39;49m\u001b[38;5;124;43mr\u001b[39;49m\u001b[38;5;124;43m\"\u001b[39;49m\u001b[43m,\u001b[49m\u001b[43m \u001b[49m\u001b[43msharing\u001b[49m\u001b[38;5;241;43m=\u001b[39;49m\u001b[38;5;28;43;01mFalse\u001b[39;49;00m\u001b[43m)\u001b[49m \u001b[38;5;28;01mas\u001b[39;00m rdr:\n\u001b[1;32m    233\u001b[0m         \u001b[38;5;28;01massert\u001b[39;00m \u001b[38;5;28misinstance\u001b[39m(rdr, rasterio\u001b[38;5;241m.\u001b[39mDatasetReader)\n\u001b[1;32m    234\u001b[0m         ovr_idx: Optional[\u001b[38;5;28mint\u001b[39m] \u001b[38;5;241m=\u001b[39m \u001b[38;5;28;01mNone\u001b[39;00m\n",
            "File \u001b[0;32m~/Prod Documentation/bids2023-hackathon/bids2023/lib/python3.10/site-packages/rasterio/env.py:450\u001b[0m, in \u001b[0;36mensure_env_with_credentials.<locals>.wrapper\u001b[0;34m(*args, **kwds)\u001b[0m\n\u001b[1;32m    447\u001b[0m \u001b[38;5;28;01melse\u001b[39;00m:\n\u001b[1;32m    448\u001b[0m     session \u001b[38;5;241m=\u001b[39m DummySession()\n\u001b[0;32m--> 450\u001b[0m \u001b[38;5;28;01mwith\u001b[39;00m env_ctor(session\u001b[38;5;241m=\u001b[39msession):\n\u001b[1;32m    451\u001b[0m     \u001b[38;5;28;01mreturn\u001b[39;00m f(\u001b[38;5;241m*\u001b[39margs, \u001b[38;5;241m*\u001b[39m\u001b[38;5;241m*\u001b[39mkwds)\n",
            "File \u001b[0;32m~/Prod Documentation/bids2023-hackathon/bids2023/lib/python3.10/site-packages/rasterio/env.py:294\u001b[0m, in \u001b[0;36mEnv.__enter__\u001b[0;34m(self)\u001b[0m\n\u001b[1;32m    291\u001b[0m     \u001b[38;5;28mself\u001b[39m\u001b[38;5;241m.\u001b[39mcontext_options \u001b[38;5;241m=\u001b[39m getenv()\n\u001b[1;32m    292\u001b[0m     setenv(\u001b[38;5;241m*\u001b[39m\u001b[38;5;241m*\u001b[39m\u001b[38;5;28mself\u001b[39m\u001b[38;5;241m.\u001b[39moptions)\n\u001b[0;32m--> 294\u001b[0m \u001b[38;5;28;43mself\u001b[39;49m\u001b[38;5;241;43m.\u001b[39;49m\u001b[43mcredentialize\u001b[49m\u001b[43m(\u001b[49m\u001b[43m)\u001b[49m\n\u001b[1;32m    296\u001b[0m log\u001b[38;5;241m.\u001b[39mdebug(\u001b[38;5;124m\"\u001b[39m\u001b[38;5;124mEntered env context: \u001b[39m\u001b[38;5;132;01m%r\u001b[39;00m\u001b[38;5;124m\"\u001b[39m, \u001b[38;5;28mself\u001b[39m)\n\u001b[1;32m    297\u001b[0m \u001b[38;5;28;01mreturn\u001b[39;00m \u001b[38;5;28mself\u001b[39m\n",
            "File \u001b[0;32m~/Prod Documentation/bids2023-hackathon/bids2023/lib/python3.10/site-packages/rasterio/env.py:249\u001b[0m, in \u001b[0;36mEnv.credentialize\u001b[0;34m(self)\u001b[0m\n\u001b[1;32m    238\u001b[0m \u001b[38;5;28;01mdef\u001b[39;00m \u001b[38;5;21mcredentialize\u001b[39m(\u001b[38;5;28mself\u001b[39m):\n\u001b[1;32m    239\u001b[0m \u001b[38;5;250m    \u001b[39m\u001b[38;5;124;03m\"\"\"Get credentials and configure GDAL\u001b[39;00m\n\u001b[1;32m    240\u001b[0m \n\u001b[1;32m    241\u001b[0m \u001b[38;5;124;03m    Note well: this method is a no-op if the GDAL environment\u001b[39;00m\n\u001b[0;32m   (...)\u001b[0m\n\u001b[1;32m    247\u001b[0m \n\u001b[1;32m    248\u001b[0m \u001b[38;5;124;03m    \"\"\"\u001b[39;00m\n\u001b[0;32m--> 249\u001b[0m     cred_opts \u001b[38;5;241m=\u001b[39m \u001b[38;5;28;43mself\u001b[39;49m\u001b[38;5;241;43m.\u001b[39;49m\u001b[43msession\u001b[49m\u001b[38;5;241;43m.\u001b[39;49m\u001b[43mget_credential_options\u001b[49m\u001b[43m(\u001b[49m\u001b[43m)\u001b[49m\n\u001b[1;32m    250\u001b[0m     \u001b[38;5;28mself\u001b[39m\u001b[38;5;241m.\u001b[39moptions\u001b[38;5;241m.\u001b[39mupdate(\u001b[38;5;241m*\u001b[39m\u001b[38;5;241m*\u001b[39mcred_opts)\n\u001b[1;32m    251\u001b[0m     setenv(\u001b[38;5;241m*\u001b[39m\u001b[38;5;241m*\u001b[39mcred_opts)\n",
            "File \u001b[0;32m~/Prod Documentation/bids2023-hackathon/bids2023/lib/python3.10/site-packages/rasterio/session.py:351\u001b[0m, in \u001b[0;36mAWSSession.get_credential_options\u001b[0;34m(self)\u001b[0m\n\u001b[1;32m    349\u001b[0m     \u001b[38;5;28;01mreturn\u001b[39;00m opts\n\u001b[1;32m    350\u001b[0m \u001b[38;5;28;01melse\u001b[39;00m:\n\u001b[0;32m--> 351\u001b[0m     \u001b[38;5;28;01mreturn\u001b[39;00m {k\u001b[38;5;241m.\u001b[39mupper(): v \u001b[38;5;28;01mfor\u001b[39;00m k, v \u001b[38;5;129;01min\u001b[39;00m \u001b[38;5;28;43mself\u001b[39;49m\u001b[38;5;241;43m.\u001b[39;49m\u001b[43mcredentials\u001b[49m\u001b[38;5;241m.\u001b[39mitems()}\n",
            "File \u001b[0;32m~/Prod Documentation/bids2023-hackathon/bids2023/lib/python3.10/site-packages/rasterio/session.py:322\u001b[0m, in \u001b[0;36mAWSSession.credentials\u001b[0;34m(self)\u001b[0m\n\u001b[1;32m    320\u001b[0m res \u001b[38;5;241m=\u001b[39m {}\n\u001b[1;32m    321\u001b[0m \u001b[38;5;28;01mif\u001b[39;00m \u001b[38;5;28mself\u001b[39m\u001b[38;5;241m.\u001b[39m_creds:  \u001b[38;5;66;03m# pragma: no branch\u001b[39;00m\n\u001b[0;32m--> 322\u001b[0m     frozen_creds \u001b[38;5;241m=\u001b[39m \u001b[38;5;28;43mself\u001b[39;49m\u001b[38;5;241;43m.\u001b[39;49m\u001b[43m_creds\u001b[49m\u001b[38;5;241;43m.\u001b[39;49m\u001b[43mget_frozen_credentials\u001b[49m\u001b[43m(\u001b[49m\u001b[43m)\u001b[49m\n\u001b[1;32m    323\u001b[0m     \u001b[38;5;28;01mif\u001b[39;00m frozen_creds\u001b[38;5;241m.\u001b[39maccess_key:  \u001b[38;5;66;03m# pragma: no branch\u001b[39;00m\n\u001b[1;32m    324\u001b[0m         res[\u001b[38;5;124m'\u001b[39m\u001b[38;5;124maws_access_key_id\u001b[39m\u001b[38;5;124m'\u001b[39m] \u001b[38;5;241m=\u001b[39m frozen_creds\u001b[38;5;241m.\u001b[39maccess_key\n",
            "File \u001b[0;32m~/Prod Documentation/bids2023-hackathon/bids2023/lib/python3.10/site-packages/botocore/credentials.py:634\u001b[0m, in \u001b[0;36mRefreshableCredentials.get_frozen_credentials\u001b[0;34m(self)\u001b[0m\n\u001b[1;32m    600\u001b[0m \u001b[38;5;28;01mdef\u001b[39;00m \u001b[38;5;21mget_frozen_credentials\u001b[39m(\u001b[38;5;28mself\u001b[39m):\n\u001b[1;32m    601\u001b[0m \u001b[38;5;250m    \u001b[39m\u001b[38;5;124;03m\"\"\"Return immutable credentials.\u001b[39;00m\n\u001b[1;32m    602\u001b[0m \n\u001b[1;32m    603\u001b[0m \u001b[38;5;124;03m    The ``access_key``, ``secret_key``, and ``token`` properties\u001b[39;00m\n\u001b[0;32m   (...)\u001b[0m\n\u001b[1;32m    632\u001b[0m \n\u001b[1;32m    633\u001b[0m \u001b[38;5;124;03m    \"\"\"\u001b[39;00m\n\u001b[0;32m--> 634\u001b[0m     \u001b[38;5;28;43mself\u001b[39;49m\u001b[38;5;241;43m.\u001b[39;49m\u001b[43m_refresh\u001b[49m\u001b[43m(\u001b[49m\u001b[43m)\u001b[49m\n\u001b[1;32m    635\u001b[0m     \u001b[38;5;28;01mreturn\u001b[39;00m \u001b[38;5;28mself\u001b[39m\u001b[38;5;241m.\u001b[39m_frozen_credentials\n",
            "File \u001b[0;32m~/Prod Documentation/bids2023-hackathon/bids2023/lib/python3.10/site-packages/botocore/credentials.py:522\u001b[0m, in \u001b[0;36mRefreshableCredentials._refresh\u001b[0;34m(self)\u001b[0m\n\u001b[1;32m    518\u001b[0m         \u001b[38;5;28;01mreturn\u001b[39;00m\n\u001b[1;32m    519\u001b[0m     is_mandatory_refresh \u001b[38;5;241m=\u001b[39m \u001b[38;5;28mself\u001b[39m\u001b[38;5;241m.\u001b[39mrefresh_needed(\n\u001b[1;32m    520\u001b[0m         \u001b[38;5;28mself\u001b[39m\u001b[38;5;241m.\u001b[39m_mandatory_refresh_timeout\n\u001b[1;32m    521\u001b[0m     )\n\u001b[0;32m--> 522\u001b[0m     \u001b[38;5;28;43mself\u001b[39;49m\u001b[38;5;241;43m.\u001b[39;49m\u001b[43m_protected_refresh\u001b[49m\u001b[43m(\u001b[49m\u001b[43mis_mandatory\u001b[49m\u001b[38;5;241;43m=\u001b[39;49m\u001b[43mis_mandatory_refresh\u001b[49m\u001b[43m)\u001b[49m\n\u001b[1;32m    523\u001b[0m     \u001b[38;5;28;01mreturn\u001b[39;00m\n\u001b[1;32m    524\u001b[0m \u001b[38;5;28;01mfinally\u001b[39;00m:\n",
            "File \u001b[0;32m~/Prod Documentation/bids2023-hackathon/bids2023/lib/python3.10/site-packages/botocore/credentials.py:538\u001b[0m, in \u001b[0;36mRefreshableCredentials._protected_refresh\u001b[0;34m(self, is_mandatory)\u001b[0m\n\u001b[1;32m    534\u001b[0m \u001b[38;5;28;01mdef\u001b[39;00m \u001b[38;5;21m_protected_refresh\u001b[39m(\u001b[38;5;28mself\u001b[39m, is_mandatory):\n\u001b[1;32m    535\u001b[0m     \u001b[38;5;66;03m# precondition: this method should only be called if you've acquired\u001b[39;00m\n\u001b[1;32m    536\u001b[0m     \u001b[38;5;66;03m# the self._refresh_lock.\u001b[39;00m\n\u001b[1;32m    537\u001b[0m     \u001b[38;5;28;01mtry\u001b[39;00m:\n\u001b[0;32m--> 538\u001b[0m         metadata \u001b[38;5;241m=\u001b[39m \u001b[38;5;28;43mself\u001b[39;49m\u001b[38;5;241;43m.\u001b[39;49m\u001b[43m_refresh_using\u001b[49m\u001b[43m(\u001b[49m\u001b[43m)\u001b[49m\n\u001b[1;32m    539\u001b[0m     \u001b[38;5;28;01mexcept\u001b[39;00m \u001b[38;5;167;01mException\u001b[39;00m:\n\u001b[1;32m    540\u001b[0m         period_name \u001b[38;5;241m=\u001b[39m \u001b[38;5;124m'\u001b[39m\u001b[38;5;124mmandatory\u001b[39m\u001b[38;5;124m'\u001b[39m \u001b[38;5;28;01mif\u001b[39;00m is_mandatory \u001b[38;5;28;01melse\u001b[39;00m \u001b[38;5;124m'\u001b[39m\u001b[38;5;124madvisory\u001b[39m\u001b[38;5;124m'\u001b[39m\n",
            "File \u001b[0;32m~/Prod Documentation/bids2023-hackathon/bids2023/lib/python3.10/site-packages/botocore/credentials.py:685\u001b[0m, in \u001b[0;36mCachedCredentialFetcher.fetch_credentials\u001b[0;34m(self)\u001b[0m\n\u001b[1;32m    684\u001b[0m \u001b[38;5;28;01mdef\u001b[39;00m \u001b[38;5;21mfetch_credentials\u001b[39m(\u001b[38;5;28mself\u001b[39m):\n\u001b[0;32m--> 685\u001b[0m     \u001b[38;5;28;01mreturn\u001b[39;00m \u001b[38;5;28;43mself\u001b[39;49m\u001b[38;5;241;43m.\u001b[39;49m\u001b[43m_get_cached_credentials\u001b[49m\u001b[43m(\u001b[49m\u001b[43m)\u001b[49m\n",
            "File \u001b[0;32m~/Prod Documentation/bids2023-hackathon/bids2023/lib/python3.10/site-packages/botocore/credentials.py:695\u001b[0m, in \u001b[0;36mCachedCredentialFetcher._get_cached_credentials\u001b[0;34m(self)\u001b[0m\n\u001b[1;32m    693\u001b[0m response \u001b[38;5;241m=\u001b[39m \u001b[38;5;28mself\u001b[39m\u001b[38;5;241m.\u001b[39m_load_from_cache()\n\u001b[1;32m    694\u001b[0m \u001b[38;5;28;01mif\u001b[39;00m response \u001b[38;5;129;01mis\u001b[39;00m \u001b[38;5;28;01mNone\u001b[39;00m:\n\u001b[0;32m--> 695\u001b[0m     response \u001b[38;5;241m=\u001b[39m \u001b[38;5;28;43mself\u001b[39;49m\u001b[38;5;241;43m.\u001b[39;49m\u001b[43m_get_credentials\u001b[49m\u001b[43m(\u001b[49m\u001b[43m)\u001b[49m\n\u001b[1;32m    696\u001b[0m     \u001b[38;5;28mself\u001b[39m\u001b[38;5;241m.\u001b[39m_write_to_cache(response)\n\u001b[1;32m    697\u001b[0m \u001b[38;5;28;01melse\u001b[39;00m:\n",
            "File \u001b[0;32m~/Prod Documentation/bids2023-hackathon/bids2023/lib/python3.10/site-packages/botocore/credentials.py:2150\u001b[0m, in \u001b[0;36mSSOCredentialFetcher._get_credentials\u001b[0;34m(self)\u001b[0m\n\u001b[1;32m   2148\u001b[0m \u001b[38;5;28;01mif\u001b[39;00m \u001b[38;5;28mself\u001b[39m\u001b[38;5;241m.\u001b[39m_token_provider:\n\u001b[1;32m   2149\u001b[0m     initial_token_data \u001b[38;5;241m=\u001b[39m \u001b[38;5;28mself\u001b[39m\u001b[38;5;241m.\u001b[39m_token_provider\u001b[38;5;241m.\u001b[39mload_token()\n\u001b[0;32m-> 2150\u001b[0m     token \u001b[38;5;241m=\u001b[39m \u001b[43minitial_token_data\u001b[49m\u001b[38;5;241;43m.\u001b[39;49m\u001b[43mget_frozen_token\u001b[49m\u001b[43m(\u001b[49m\u001b[43m)\u001b[49m\u001b[38;5;241m.\u001b[39mtoken\n\u001b[1;32m   2151\u001b[0m \u001b[38;5;28;01melse\u001b[39;00m:\n\u001b[1;32m   2152\u001b[0m     token \u001b[38;5;241m=\u001b[39m \u001b[38;5;28mself\u001b[39m\u001b[38;5;241m.\u001b[39m_token_loader(\u001b[38;5;28mself\u001b[39m\u001b[38;5;241m.\u001b[39m_start_url)[\u001b[38;5;124m'\u001b[39m\u001b[38;5;124maccessToken\u001b[39m\u001b[38;5;124m'\u001b[39m]\n",
            "File \u001b[0;32m~/Prod Documentation/bids2023-hackathon/bids2023/lib/python3.10/site-packages/botocore/tokens.py:82\u001b[0m, in \u001b[0;36mDeferredRefreshableToken.get_frozen_token\u001b[0;34m(self)\u001b[0m\n\u001b[1;32m     81\u001b[0m \u001b[38;5;28;01mdef\u001b[39;00m \u001b[38;5;21mget_frozen_token\u001b[39m(\u001b[38;5;28mself\u001b[39m):\n\u001b[0;32m---> 82\u001b[0m     \u001b[38;5;28;43mself\u001b[39;49m\u001b[38;5;241;43m.\u001b[39;49m\u001b[43m_refresh\u001b[49m\u001b[43m(\u001b[49m\u001b[43m)\u001b[49m\n\u001b[1;32m     83\u001b[0m     \u001b[38;5;28;01mreturn\u001b[39;00m \u001b[38;5;28mself\u001b[39m\u001b[38;5;241m.\u001b[39m_frozen_token\n",
            "File \u001b[0;32m~/Prod Documentation/bids2023-hackathon/bids2023/lib/python3.10/site-packages/botocore/tokens.py:95\u001b[0m, in \u001b[0;36mDeferredRefreshableToken._refresh\u001b[0;34m(self)\u001b[0m\n\u001b[1;32m     93\u001b[0m \u001b[38;5;28;01mif\u001b[39;00m \u001b[38;5;28mself\u001b[39m\u001b[38;5;241m.\u001b[39m_refresh_lock\u001b[38;5;241m.\u001b[39macquire(block_for_refresh):\n\u001b[1;32m     94\u001b[0m     \u001b[38;5;28;01mtry\u001b[39;00m:\n\u001b[0;32m---> 95\u001b[0m         \u001b[38;5;28;43mself\u001b[39;49m\u001b[38;5;241;43m.\u001b[39;49m\u001b[43m_protected_refresh\u001b[49m\u001b[43m(\u001b[49m\u001b[43m)\u001b[49m\n\u001b[1;32m     96\u001b[0m     \u001b[38;5;28;01mfinally\u001b[39;00m:\n\u001b[1;32m     97\u001b[0m         \u001b[38;5;28mself\u001b[39m\u001b[38;5;241m.\u001b[39m_refresh_lock\u001b[38;5;241m.\u001b[39mrelease()\n",
            "File \u001b[0;32m~/Prod Documentation/bids2023-hackathon/bids2023/lib/python3.10/site-packages/botocore/tokens.py:122\u001b[0m, in \u001b[0;36mDeferredRefreshableToken._protected_refresh\u001b[0;34m(self)\u001b[0m\n\u001b[1;32m    118\u001b[0m         \u001b[38;5;28;01mraise\u001b[39;00m\n\u001b[1;32m    120\u001b[0m \u001b[38;5;28;01mif\u001b[39;00m \u001b[38;5;28mself\u001b[39m\u001b[38;5;241m.\u001b[39m_is_expired():\n\u001b[1;32m    121\u001b[0m     \u001b[38;5;66;03m# Fresh credentials should never be expired\u001b[39;00m\n\u001b[0;32m--> 122\u001b[0m     \u001b[38;5;28;01mraise\u001b[39;00m TokenRetrievalError(\n\u001b[1;32m    123\u001b[0m         provider\u001b[38;5;241m=\u001b[39m\u001b[38;5;28mself\u001b[39m\u001b[38;5;241m.\u001b[39mmethod,\n\u001b[1;32m    124\u001b[0m         error_msg\u001b[38;5;241m=\u001b[39m\u001b[38;5;124m\"\u001b[39m\u001b[38;5;124mToken has expired and refresh failed\u001b[39m\u001b[38;5;124m\"\u001b[39m,\n\u001b[1;32m    125\u001b[0m     )\n",
            "\u001b[0;31mTokenRetrievalError\u001b[0m: Error when retrieving token from sso: Token has expired and refresh failed"
          ]
        },
        {
          "data": {
            "image/png": "[encoded data removed]",
            "text/plain": [
              "<Figure size 640x480 with 1 Axes>"
            ]
          },
          "metadata": {},
          "output_type": "display_data"
        }
      ],
      "source": [
        "plt.title('NDVI between Sentinel and Mosaics')\n",
        "\n",
        "meanval[\"ndvi\"].plot()\n",
        "meanvalV[\"ndvi\"].plot()\n",
        "\n",
        "plt.legend(['Sentinel', 'Mosaics'])\n",
        "plt.suptitle(\"NDVI between Sentinel-2 and Mosaics\")\n",
        "    \n",
        "plt.show()\n"
      ]
    }
  ],
  "metadata": {
    "colab": {
      "provenance": []
    },
    "kernelspec": {
      "display_name": "Python 3 (ipykernel)",
      "language": "python",
      "name": "python3"
    },
    "language_info": {
      "codemirror_mode": {
        "name": "ipython",
        "version": 3
      },
      "file_extension": ".py",
      "mimetype": "text/x-python",
      "name": "python",
      "nbconvert_exporter": "python",
      "pygments_lexer": "ipython3",
      "version": "3.10.10"
    }
  },
  "nbformat": 4,
  "nbformat_minor": 5
}
